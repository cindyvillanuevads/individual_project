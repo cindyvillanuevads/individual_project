{
 "cells": [
  {
   "cell_type": "code",
   "execution_count": 135,
   "metadata": {},
   "outputs": [],
   "source": [
    "import pandas as pd\n",
    "import numpy as np\n",
    "import os\n",
    "import scipy.stats as stats\n",
    "# visualize\n",
    "import seaborn as sns\n",
    "import matplotlib.pyplot as plt\n",
    "\n",
    "# turn off pink warning boxes\n",
    "import warnings\n",
    "warnings.filterwarnings(\"ignore\")\n",
    "\n",
    "#import my modules\n",
    "import acquire as a\n",
    "import prepare as p\n",
    "import explore as e\n",
    "import model as m\n",
    "\n",
    "\n",
    "# for preparation state\n",
    "from sklearn.model_selection import train_test_split\n",
    "\n",
    "from sklearn.ensemble import RandomForestClassifier\n",
    "from sklearn.neighbors import KNeighborsClassifier\n",
    "from sklearn.linear_model import LogisticRegression\n",
    "from sklearn.tree import DecisionTreeClassifier, plot_tree, export_text\n",
    "from sklearn.dummy import DummyClassifier\n",
    "from sklearn.metrics import classification_report\n",
    "from sklearn.preprocessing import MinMaxScaler, RobustScaler, StandardScaler"
   ]
  },
  {
   "cell_type": "markdown",
   "metadata": {},
   "source": [
    "# Plan"
   ]
  },
  {
   "cell_type": "markdown",
   "metadata": {},
   "source": [
    "# Acquire"
   ]
  },
  {
   "cell_type": "code",
   "execution_count": 2,
   "metadata": {},
   "outputs": [],
   "source": [
    "df = pd.read_csv('df1_loan.csv')"
   ]
  },
  {
   "cell_type": "code",
   "execution_count": 3,
   "metadata": {
    "scrolled": false
   },
   "outputs": [
    {
     "data": {
      "text/html": [
       "<div>\n",
       "<style scoped>\n",
       "    .dataframe tbody tr th:only-of-type {\n",
       "        vertical-align: middle;\n",
       "    }\n",
       "\n",
       "    .dataframe tbody tr th {\n",
       "        vertical-align: top;\n",
       "    }\n",
       "\n",
       "    .dataframe thead th {\n",
       "        text-align: right;\n",
       "    }\n",
       "</style>\n",
       "<table border=\"1\" class=\"dataframe\">\n",
       "  <thead>\n",
       "    <tr style=\"text-align: right;\">\n",
       "      <th></th>\n",
       "      <th>Unnamed: 0</th>\n",
       "      <th>Loan_ID</th>\n",
       "      <th>Gender</th>\n",
       "      <th>Married</th>\n",
       "      <th>Dependents</th>\n",
       "      <th>Education</th>\n",
       "      <th>Self_Employed</th>\n",
       "      <th>ApplicantIncome</th>\n",
       "      <th>CoapplicantIncome</th>\n",
       "      <th>LoanAmount</th>\n",
       "      <th>Loan_Amount_Term</th>\n",
       "      <th>Credit_History</th>\n",
       "      <th>Property_Area</th>\n",
       "      <th>Loan_Status</th>\n",
       "      <th>Total_Income</th>\n",
       "    </tr>\n",
       "  </thead>\n",
       "  <tbody>\n",
       "    <tr>\n",
       "      <th>0</th>\n",
       "      <td>0</td>\n",
       "      <td>LP001002</td>\n",
       "      <td>Male</td>\n",
       "      <td>No</td>\n",
       "      <td>0</td>\n",
       "      <td>Graduate</td>\n",
       "      <td>No</td>\n",
       "      <td>5849</td>\n",
       "      <td>0.0</td>\n",
       "      <td>NaN</td>\n",
       "      <td>360.0</td>\n",
       "      <td>1.0</td>\n",
       "      <td>Urban</td>\n",
       "      <td>Y</td>\n",
       "      <td>$5849.0</td>\n",
       "    </tr>\n",
       "    <tr>\n",
       "      <th>1</th>\n",
       "      <td>1</td>\n",
       "      <td>LP001003</td>\n",
       "      <td>Male</td>\n",
       "      <td>Yes</td>\n",
       "      <td>1</td>\n",
       "      <td>Graduate</td>\n",
       "      <td>No</td>\n",
       "      <td>4583</td>\n",
       "      <td>1508.0</td>\n",
       "      <td>128.0</td>\n",
       "      <td>360.0</td>\n",
       "      <td>1.0</td>\n",
       "      <td>Rural</td>\n",
       "      <td>N</td>\n",
       "      <td>$6091.0</td>\n",
       "    </tr>\n",
       "    <tr>\n",
       "      <th>2</th>\n",
       "      <td>2</td>\n",
       "      <td>LP001005</td>\n",
       "      <td>Male</td>\n",
       "      <td>Yes</td>\n",
       "      <td>0</td>\n",
       "      <td>Graduate</td>\n",
       "      <td>Yes</td>\n",
       "      <td>3000</td>\n",
       "      <td>0.0</td>\n",
       "      <td>66.0</td>\n",
       "      <td>360.0</td>\n",
       "      <td>1.0</td>\n",
       "      <td>Urban</td>\n",
       "      <td>Y</td>\n",
       "      <td>$3000.0</td>\n",
       "    </tr>\n",
       "    <tr>\n",
       "      <th>3</th>\n",
       "      <td>3</td>\n",
       "      <td>LP001006</td>\n",
       "      <td>Male</td>\n",
       "      <td>Yes</td>\n",
       "      <td>0</td>\n",
       "      <td>Not Graduate</td>\n",
       "      <td>No</td>\n",
       "      <td>2583</td>\n",
       "      <td>2358.0</td>\n",
       "      <td>120.0</td>\n",
       "      <td>360.0</td>\n",
       "      <td>1.0</td>\n",
       "      <td>Urban</td>\n",
       "      <td>Y</td>\n",
       "      <td>$4941.0</td>\n",
       "    </tr>\n",
       "    <tr>\n",
       "      <th>4</th>\n",
       "      <td>4</td>\n",
       "      <td>LP001008</td>\n",
       "      <td>Male</td>\n",
       "      <td>No</td>\n",
       "      <td>0</td>\n",
       "      <td>Graduate</td>\n",
       "      <td>No</td>\n",
       "      <td>6000</td>\n",
       "      <td>0.0</td>\n",
       "      <td>141.0</td>\n",
       "      <td>360.0</td>\n",
       "      <td>1.0</td>\n",
       "      <td>Urban</td>\n",
       "      <td>Y</td>\n",
       "      <td>$6000.0</td>\n",
       "    </tr>\n",
       "  </tbody>\n",
       "</table>\n",
       "</div>"
      ],
      "text/plain": [
       "   Unnamed: 0   Loan_ID Gender Married Dependents     Education Self_Employed  \\\n",
       "0           0  LP001002   Male      No          0      Graduate            No   \n",
       "1           1  LP001003   Male     Yes          1      Graduate            No   \n",
       "2           2  LP001005   Male     Yes          0      Graduate           Yes   \n",
       "3           3  LP001006   Male     Yes          0  Not Graduate            No   \n",
       "4           4  LP001008   Male      No          0      Graduate            No   \n",
       "\n",
       "   ApplicantIncome  CoapplicantIncome  LoanAmount  Loan_Amount_Term  \\\n",
       "0             5849                0.0         NaN             360.0   \n",
       "1             4583             1508.0       128.0             360.0   \n",
       "2             3000                0.0        66.0             360.0   \n",
       "3             2583             2358.0       120.0             360.0   \n",
       "4             6000                0.0       141.0             360.0   \n",
       "\n",
       "   Credit_History Property_Area Loan_Status Total_Income  \n",
       "0             1.0         Urban           Y      $5849.0  \n",
       "1             1.0         Rural           N      $6091.0  \n",
       "2             1.0         Urban           Y      $3000.0  \n",
       "3             1.0         Urban           Y      $4941.0  \n",
       "4             1.0         Urban           Y      $6000.0  "
      ]
     },
     "execution_count": 3,
     "metadata": {},
     "output_type": "execute_result"
    }
   ],
   "source": [
    "df.head()"
   ]
  },
  {
   "cell_type": "code",
   "execution_count": 4,
   "metadata": {},
   "outputs": [
    {
     "name": "stdout",
     "output_type": "stream",
     "text": [
      "<class 'pandas.core.frame.DataFrame'>\n",
      "RangeIndex: 500 entries, 0 to 499\n",
      "Data columns (total 15 columns):\n",
      " #   Column             Non-Null Count  Dtype  \n",
      "---  ------             --------------  -----  \n",
      " 0   Unnamed: 0         500 non-null    int64  \n",
      " 1   Loan_ID            500 non-null    object \n",
      " 2   Gender             491 non-null    object \n",
      " 3   Married            497 non-null    object \n",
      " 4   Dependents         488 non-null    object \n",
      " 5   Education          500 non-null    object \n",
      " 6   Self_Employed      473 non-null    object \n",
      " 7   ApplicantIncome    500 non-null    int64  \n",
      " 8   CoapplicantIncome  500 non-null    float64\n",
      " 9   LoanAmount         482 non-null    float64\n",
      " 10  Loan_Amount_Term   486 non-null    float64\n",
      " 11  Credit_History     459 non-null    float64\n",
      " 12  Property_Area      500 non-null    object \n",
      " 13  Loan_Status        500 non-null    object \n",
      " 14  Total_Income       500 non-null    object \n",
      "dtypes: float64(4), int64(2), object(9)\n",
      "memory usage: 58.7+ KB\n"
     ]
    }
   ],
   "source": [
    "df.info()"
   ]
  },
  {
   "cell_type": "code",
   "execution_count": 5,
   "metadata": {
    "scrolled": false
   },
   "outputs": [
    {
     "name": "stdout",
     "output_type": "stream",
     "text": [
      "=====================================================\n",
      "Dataframe shape: \n",
      "(500, 15)\n",
      "=====================================================\n",
      "Dataframe head: \n",
      "   Unnamed: 0   Loan_ID Gender Married Dependents Education Self_Employed  \\\n",
      "0           0  LP001002   Male      No          0  Graduate            No   \n",
      "1           1  LP001003   Male     Yes          1  Graduate            No   \n",
      "2           2  LP001005   Male     Yes          0  Graduate           Yes   \n",
      "\n",
      "   ApplicantIncome  CoapplicantIncome  LoanAmount  Loan_Amount_Term  \\\n",
      "0             5849                0.0         NaN             360.0   \n",
      "1             4583             1508.0       128.0             360.0   \n",
      "2             3000                0.0        66.0             360.0   \n",
      "\n",
      "   Credit_History Property_Area Loan_Status Total_Income  \n",
      "0             1.0         Urban           Y      $5849.0  \n",
      "1             1.0         Rural           N      $6091.0  \n",
      "2             1.0         Urban           Y      $3000.0  \n",
      "=====================================================\n",
      "Dataframe info: \n",
      "<class 'pandas.core.frame.DataFrame'>\n",
      "RangeIndex: 500 entries, 0 to 499\n",
      "Data columns (total 15 columns):\n",
      " #   Column             Non-Null Count  Dtype  \n",
      "---  ------             --------------  -----  \n",
      " 0   Unnamed: 0         500 non-null    int64  \n",
      " 1   Loan_ID            500 non-null    object \n",
      " 2   Gender             491 non-null    object \n",
      " 3   Married            497 non-null    object \n",
      " 4   Dependents         488 non-null    object \n",
      " 5   Education          500 non-null    object \n",
      " 6   Self_Employed      473 non-null    object \n",
      " 7   ApplicantIncome    500 non-null    int64  \n",
      " 8   CoapplicantIncome  500 non-null    float64\n",
      " 9   LoanAmount         482 non-null    float64\n",
      " 10  Loan_Amount_Term   486 non-null    float64\n",
      " 11  Credit_History     459 non-null    float64\n",
      " 12  Property_Area      500 non-null    object \n",
      " 13  Loan_Status        500 non-null    object \n",
      " 14  Total_Income       500 non-null    object \n",
      "dtypes: float64(4), int64(2), object(9)\n",
      "memory usage: 58.7+ KB\n",
      "None\n",
      "=====================================================\n",
      "Dataframe Description: \n",
      "                   count         mean          std    min      25%     50%  \\\n",
      "Unnamed: 0         500.0   249.500000   144.481833    0.0   124.75   249.5   \n",
      "ApplicantIncome    500.0  5493.644000  6515.668972  150.0  2874.50  3854.0   \n",
      "CoapplicantIncome  500.0  1506.307840  2134.432188    0.0     0.00  1125.5   \n",
      "LoanAmount         482.0   144.020747    82.344919   17.0   100.00   126.5   \n",
      "Loan_Amount_Term   486.0   342.543210    63.834977   12.0   360.00   360.0   \n",
      "Credit_History     459.0     0.843137     0.364068    0.0     1.00     1.0   \n",
      "\n",
      "                       75%      max  \n",
      "Unnamed: 0          374.25    499.0  \n",
      "ApplicantIncome    5764.00  81000.0  \n",
      "CoapplicantIncome  2253.25  20000.0  \n",
      "LoanAmount          161.50    700.0  \n",
      "Loan_Amount_Term    360.00    480.0  \n",
      "Credit_History        1.00      1.0  \n",
      "=====================================================\n",
      "**Unnamed: 0**\n",
      "Unique Values :  500\n",
      " \n",
      "(-0.5, 4.99]        5\n",
      "(4.99, 9.98]        5\n",
      "(9.98, 14.97]       5\n",
      "(14.97, 19.96]      5\n",
      "(19.96, 24.95]      5\n",
      "                   ..\n",
      "(474.05, 479.04]    5\n",
      "(479.04, 484.03]    5\n",
      "(484.03, 489.02]    5\n",
      "(489.02, 494.01]    5\n",
      "(494.01, 499.0]     5\n",
      "Name: Unnamed: 0, Length: 100, dtype: int64\n",
      "=====================================================\n",
      "**Loan_ID**\n",
      "Unique Values :  500\n",
      " \n",
      "=====================================================\n",
      "**Gender**\n",
      "Unique Values :  2\n",
      " \n",
      "Male      400\n",
      "Female     91\n",
      "Name: Gender, dtype: int64\n",
      "=====================================================\n",
      "**Married**\n",
      "Unique Values :  2\n",
      " \n",
      "Yes    322\n",
      "No     175\n",
      "Name: Married, dtype: int64\n",
      "=====================================================\n",
      "**Dependents**\n",
      "Unique Values :  4\n",
      " \n",
      "0     288\n",
      "1      81\n",
      "2      79\n",
      "3+     40\n",
      "Name: Dependents, dtype: int64\n",
      "=====================================================\n",
      "**Education**\n",
      "Unique Values :  2\n",
      " \n",
      "Graduate        393\n",
      "Not Graduate    107\n",
      "Name: Education, dtype: int64\n",
      "=====================================================\n",
      "**Self_Employed**\n",
      "Unique Values :  2\n",
      " \n",
      "No     407\n",
      "Yes     66\n",
      "Name: Self_Employed, dtype: int64\n",
      "=====================================================\n",
      "**ApplicantIncome**\n",
      "Unique Values :  415\n",
      " \n",
      "(69.149, 958.5]         3\n",
      "(958.5, 1767.0]        11\n",
      "(1767.0, 2575.5]       77\n",
      "(2575.5, 3384.0]      104\n",
      "(3384.0, 4192.5]       89\n",
      "                     ... \n",
      "(76957.5, 77766.0]      0\n",
      "(77766.0, 78574.5]      0\n",
      "(78574.5, 79383.0]      0\n",
      "(79383.0, 80191.5]      0\n",
      "(80191.5, 81000.0]      1\n",
      "Name: ApplicantIncome, Length: 100, dtype: int64\n",
      "=====================================================\n",
      "**CoapplicantIncome**\n",
      "Unique Values :  235\n",
      " \n",
      "(-20.001, 200.0]      228\n",
      "(200.0, 400.0]          0\n",
      "(400.0, 600.0]          2\n",
      "(600.0, 800.0]          6\n",
      "(800.0, 1000.0]         6\n",
      "                     ... \n",
      "(19000.0, 19200.0]      0\n",
      "(19200.0, 19400.0]      0\n",
      "(19400.0, 19600.0]      0\n",
      "(19600.0, 19800.0]      0\n",
      "(19800.0, 20000.0]      2\n",
      "Name: CoapplicantIncome, Length: 100, dtype: int64\n",
      "=====================================================\n",
      "**LoanAmount**\n",
      "Unique Values :  179\n",
      " \n",
      "(16.316, 23.83]     1\n",
      "(23.83, 30.66]      4\n",
      "(30.66, 37.49]      1\n",
      "(37.49, 44.32]      3\n",
      "(44.32, 51.15]      8\n",
      "                   ..\n",
      "(665.85, 672.68]    0\n",
      "(672.68, 679.51]    0\n",
      "(679.51, 686.34]    0\n",
      "(686.34, 693.17]    0\n",
      "(693.17, 700.0]     1\n",
      "Name: LoanAmount, Length: 100, dtype: int64\n",
      "=====================================================\n",
      "**Loan_Amount_Term**\n",
      "Unique Values :  10\n",
      " \n",
      "12.0       1\n",
      "36.0       1\n",
      "60.0       2\n",
      "84.0       2\n",
      "120.0      3\n",
      "180.0     35\n",
      "240.0      3\n",
      "300.0     12\n",
      "360.0    415\n",
      "480.0     12\n",
      "Name: Loan_Amount_Term, dtype: int64\n",
      "=====================================================\n",
      "**Credit_History**\n",
      "Unique Values :  2\n",
      " \n",
      "0.0     72\n",
      "1.0    387\n",
      "Name: Credit_History, dtype: int64\n",
      "=====================================================\n",
      "**Property_Area**\n",
      "Unique Values :  3\n",
      " \n",
      "Semiurban    188\n",
      "Urban        171\n",
      "Rural        141\n",
      "Name: Property_Area, dtype: int64\n",
      "=====================================================\n",
      "**Loan_Status**\n",
      "Unique Values :  2\n",
      " \n",
      "Y    345\n",
      "N    155\n",
      "Name: Loan_Status, dtype: int64\n",
      "=====================================================\n",
      "**Total_Income**\n",
      "Unique Values :  457\n",
      " \n",
      "=====================================================\n"
     ]
    }
   ],
   "source": [
    "a.summarize(df)"
   ]
  },
  {
   "cell_type": "markdown",
   "metadata": {},
   "source": [
    "**Takeaways**\n",
    "- there are 14 columns ( I will dropp unamed column)\n",
    "- there are null values\n",
    "-Total_income should be numeric\n",
    "- rename columns"
   ]
  },
  {
   "cell_type": "markdown",
   "metadata": {},
   "source": [
    "# Prepare "
   ]
  },
  {
   "cell_type": "code",
   "execution_count": 6,
   "metadata": {
    "scrolled": true
   },
   "outputs": [
    {
     "data": {
      "text/plain": [
       "Index(['Unnamed: 0', 'Loan_ID', 'Gender', 'Married', 'Dependents', 'Education',\n",
       "       'Self_Employed', 'ApplicantIncome', 'CoapplicantIncome', 'LoanAmount',\n",
       "       'Loan_Amount_Term', 'Credit_History', 'Property_Area', 'Loan_Status',\n",
       "       'Total_Income'],\n",
       "      dtype='object')"
      ]
     },
     "execution_count": 6,
     "metadata": {},
     "output_type": "execute_result"
    }
   ],
   "source": [
    "df.columns"
   ]
  },
  {
   "cell_type": "code",
   "execution_count": 7,
   "metadata": {},
   "outputs": [],
   "source": [
    "#drop unnamed column\n",
    "df = df.drop(columns= ['Unnamed: 0'])"
   ]
  },
  {
   "cell_type": "code",
   "execution_count": 8,
   "metadata": {},
   "outputs": [],
   "source": [
    "#rename columns (lowercase)\n",
    "df.columns = map(str.lower, df.columns)"
   ]
  },
  {
   "cell_type": "code",
   "execution_count": 9,
   "metadata": {
    "scrolled": true
   },
   "outputs": [
    {
     "data": {
      "text/html": [
       "<div>\n",
       "<style scoped>\n",
       "    .dataframe tbody tr th:only-of-type {\n",
       "        vertical-align: middle;\n",
       "    }\n",
       "\n",
       "    .dataframe tbody tr th {\n",
       "        vertical-align: top;\n",
       "    }\n",
       "\n",
       "    .dataframe thead th {\n",
       "        text-align: right;\n",
       "    }\n",
       "</style>\n",
       "<table border=\"1\" class=\"dataframe\">\n",
       "  <thead>\n",
       "    <tr style=\"text-align: right;\">\n",
       "      <th></th>\n",
       "      <th>loan_id</th>\n",
       "      <th>gender</th>\n",
       "      <th>married</th>\n",
       "      <th>dependents</th>\n",
       "      <th>education</th>\n",
       "      <th>self_employed</th>\n",
       "      <th>applicantincome</th>\n",
       "      <th>coapplicantincome</th>\n",
       "      <th>loanamount</th>\n",
       "      <th>loan_amount_term</th>\n",
       "      <th>credit_history</th>\n",
       "      <th>property_area</th>\n",
       "      <th>loan_status</th>\n",
       "      <th>total_income</th>\n",
       "    </tr>\n",
       "  </thead>\n",
       "  <tbody>\n",
       "    <tr>\n",
       "      <th>0</th>\n",
       "      <td>LP001002</td>\n",
       "      <td>Male</td>\n",
       "      <td>No</td>\n",
       "      <td>0</td>\n",
       "      <td>Graduate</td>\n",
       "      <td>No</td>\n",
       "      <td>5849</td>\n",
       "      <td>0.0</td>\n",
       "      <td>NaN</td>\n",
       "      <td>360.0</td>\n",
       "      <td>1.0</td>\n",
       "      <td>Urban</td>\n",
       "      <td>Y</td>\n",
       "      <td>$5849.0</td>\n",
       "    </tr>\n",
       "    <tr>\n",
       "      <th>1</th>\n",
       "      <td>LP001003</td>\n",
       "      <td>Male</td>\n",
       "      <td>Yes</td>\n",
       "      <td>1</td>\n",
       "      <td>Graduate</td>\n",
       "      <td>No</td>\n",
       "      <td>4583</td>\n",
       "      <td>1508.0</td>\n",
       "      <td>128.0</td>\n",
       "      <td>360.0</td>\n",
       "      <td>1.0</td>\n",
       "      <td>Rural</td>\n",
       "      <td>N</td>\n",
       "      <td>$6091.0</td>\n",
       "    </tr>\n",
       "    <tr>\n",
       "      <th>2</th>\n",
       "      <td>LP001005</td>\n",
       "      <td>Male</td>\n",
       "      <td>Yes</td>\n",
       "      <td>0</td>\n",
       "      <td>Graduate</td>\n",
       "      <td>Yes</td>\n",
       "      <td>3000</td>\n",
       "      <td>0.0</td>\n",
       "      <td>66.0</td>\n",
       "      <td>360.0</td>\n",
       "      <td>1.0</td>\n",
       "      <td>Urban</td>\n",
       "      <td>Y</td>\n",
       "      <td>$3000.0</td>\n",
       "    </tr>\n",
       "    <tr>\n",
       "      <th>3</th>\n",
       "      <td>LP001006</td>\n",
       "      <td>Male</td>\n",
       "      <td>Yes</td>\n",
       "      <td>0</td>\n",
       "      <td>Not Graduate</td>\n",
       "      <td>No</td>\n",
       "      <td>2583</td>\n",
       "      <td>2358.0</td>\n",
       "      <td>120.0</td>\n",
       "      <td>360.0</td>\n",
       "      <td>1.0</td>\n",
       "      <td>Urban</td>\n",
       "      <td>Y</td>\n",
       "      <td>$4941.0</td>\n",
       "    </tr>\n",
       "    <tr>\n",
       "      <th>4</th>\n",
       "      <td>LP001008</td>\n",
       "      <td>Male</td>\n",
       "      <td>No</td>\n",
       "      <td>0</td>\n",
       "      <td>Graduate</td>\n",
       "      <td>No</td>\n",
       "      <td>6000</td>\n",
       "      <td>0.0</td>\n",
       "      <td>141.0</td>\n",
       "      <td>360.0</td>\n",
       "      <td>1.0</td>\n",
       "      <td>Urban</td>\n",
       "      <td>Y</td>\n",
       "      <td>$6000.0</td>\n",
       "    </tr>\n",
       "  </tbody>\n",
       "</table>\n",
       "</div>"
      ],
      "text/plain": [
       "    loan_id gender married dependents     education self_employed  \\\n",
       "0  LP001002   Male      No          0      Graduate            No   \n",
       "1  LP001003   Male     Yes          1      Graduate            No   \n",
       "2  LP001005   Male     Yes          0      Graduate           Yes   \n",
       "3  LP001006   Male     Yes          0  Not Graduate            No   \n",
       "4  LP001008   Male      No          0      Graduate            No   \n",
       "\n",
       "   applicantincome  coapplicantincome  loanamount  loan_amount_term  \\\n",
       "0             5849                0.0         NaN             360.0   \n",
       "1             4583             1508.0       128.0             360.0   \n",
       "2             3000                0.0        66.0             360.0   \n",
       "3             2583             2358.0       120.0             360.0   \n",
       "4             6000                0.0       141.0             360.0   \n",
       "\n",
       "   credit_history property_area loan_status total_income  \n",
       "0             1.0         Urban           Y      $5849.0  \n",
       "1             1.0         Rural           N      $6091.0  \n",
       "2             1.0         Urban           Y      $3000.0  \n",
       "3             1.0         Urban           Y      $4941.0  \n",
       "4             1.0         Urban           Y      $6000.0  "
      ]
     },
     "execution_count": 9,
     "metadata": {},
     "output_type": "execute_result"
    }
   ],
   "source": [
    "df.head()"
   ]
  },
  {
   "cell_type": "code",
   "execution_count": 10,
   "metadata": {},
   "outputs": [
    {
     "data": {
      "text/plain": [
       "dtype('O')"
      ]
     },
     "execution_count": 10,
     "metadata": {},
     "output_type": "execute_result"
    }
   ],
   "source": [
    "df.total_income.dtype"
   ]
  },
  {
   "cell_type": "code",
   "execution_count": 11,
   "metadata": {},
   "outputs": [],
   "source": [
    "# change type of total_income\n",
    "#we need to remove $\n",
    "df['total_income']= df.total_income.replace({'\\$':''}, regex = True).astype('float')"
   ]
  },
  {
   "cell_type": "code",
   "execution_count": 12,
   "metadata": {
    "scrolled": false
   },
   "outputs": [
    {
     "data": {
      "text/plain": [
       "0    5849.0\n",
       "1    6091.0\n",
       "Name: total_income, dtype: float64"
      ]
     },
     "execution_count": 12,
     "metadata": {},
     "output_type": "execute_result"
    }
   ],
   "source": [
    "df['total_income'].head(2)"
   ]
  },
  {
   "cell_type": "code",
   "execution_count": 13,
   "metadata": {
    "scrolled": true
   },
   "outputs": [
    {
     "data": {
      "text/plain": [
       "0     288\n",
       "1      81\n",
       "2      79\n",
       "3+     40\n",
       "Name: dependents, dtype: int64"
      ]
     },
     "execution_count": 13,
     "metadata": {},
     "output_type": "execute_result"
    }
   ],
   "source": [
    "df.dependents.value_counts()"
   ]
  },
  {
   "cell_type": "code",
   "execution_count": 14,
   "metadata": {},
   "outputs": [],
   "source": [
    "#change type in dependents\n",
    "df['dependents']= df.dependents.replace({'\\+':''}, regex = True).astype('float')"
   ]
  },
  {
   "cell_type": "code",
   "execution_count": 15,
   "metadata": {},
   "outputs": [
    {
     "name": "stdout",
     "output_type": "stream",
     "text": [
      "<class 'pandas.core.frame.DataFrame'>\n",
      "RangeIndex: 500 entries, 0 to 499\n",
      "Data columns (total 14 columns):\n",
      " #   Column             Non-Null Count  Dtype  \n",
      "---  ------             --------------  -----  \n",
      " 0   loan_id            500 non-null    object \n",
      " 1   gender             491 non-null    object \n",
      " 2   married            497 non-null    object \n",
      " 3   dependents         488 non-null    float64\n",
      " 4   education          500 non-null    object \n",
      " 5   self_employed      473 non-null    object \n",
      " 6   applicantincome    500 non-null    int64  \n",
      " 7   coapplicantincome  500 non-null    float64\n",
      " 8   loanamount         482 non-null    float64\n",
      " 9   loan_amount_term   486 non-null    float64\n",
      " 10  credit_history     459 non-null    float64\n",
      " 11  property_area      500 non-null    object \n",
      " 12  loan_status        500 non-null    object \n",
      " 13  total_income       500 non-null    float64\n",
      "dtypes: float64(6), int64(1), object(7)\n",
      "memory usage: 54.8+ KB\n"
     ]
    }
   ],
   "source": [
    "df.info()\n"
   ]
  },
  {
   "cell_type": "code",
   "execution_count": 16,
   "metadata": {},
   "outputs": [
    {
     "name": "stdout",
     "output_type": "stream",
     "text": [
      "Your selected dataframe has 14 columns.\n",
      "There are 7 columns that have missing values.\n",
      "  \n",
      "** There are 0 duplicate rows that represents 0.0% of total Values**\n"
     ]
    },
    {
     "data": {
      "text/html": [
       "<div>\n",
       "<style scoped>\n",
       "    .dataframe tbody tr th:only-of-type {\n",
       "        vertical-align: middle;\n",
       "    }\n",
       "\n",
       "    .dataframe tbody tr th {\n",
       "        vertical-align: top;\n",
       "    }\n",
       "\n",
       "    .dataframe thead th {\n",
       "        text-align: right;\n",
       "    }\n",
       "</style>\n",
       "<table border=\"1\" class=\"dataframe\">\n",
       "  <thead>\n",
       "    <tr style=\"text-align: right;\">\n",
       "      <th></th>\n",
       "      <th>Missing Values</th>\n",
       "      <th>% of Total Values</th>\n",
       "    </tr>\n",
       "  </thead>\n",
       "  <tbody>\n",
       "    <tr>\n",
       "      <th>credit_history</th>\n",
       "      <td>41</td>\n",
       "      <td>8.2</td>\n",
       "    </tr>\n",
       "    <tr>\n",
       "      <th>self_employed</th>\n",
       "      <td>27</td>\n",
       "      <td>5.4</td>\n",
       "    </tr>\n",
       "    <tr>\n",
       "      <th>loanamount</th>\n",
       "      <td>18</td>\n",
       "      <td>3.6</td>\n",
       "    </tr>\n",
       "    <tr>\n",
       "      <th>loan_amount_term</th>\n",
       "      <td>14</td>\n",
       "      <td>2.8</td>\n",
       "    </tr>\n",
       "    <tr>\n",
       "      <th>dependents</th>\n",
       "      <td>12</td>\n",
       "      <td>2.4</td>\n",
       "    </tr>\n",
       "    <tr>\n",
       "      <th>gender</th>\n",
       "      <td>9</td>\n",
       "      <td>1.8</td>\n",
       "    </tr>\n",
       "    <tr>\n",
       "      <th>married</th>\n",
       "      <td>3</td>\n",
       "      <td>0.6</td>\n",
       "    </tr>\n",
       "  </tbody>\n",
       "</table>\n",
       "</div>"
      ],
      "text/plain": [
       "                  Missing Values  % of Total Values\n",
       "credit_history                41                8.2\n",
       "self_employed                 27                5.4\n",
       "loanamount                    18                3.6\n",
       "loan_amount_term              14                2.8\n",
       "dependents                    12                2.4\n",
       "gender                         9                1.8\n",
       "married                        3                0.6"
      ]
     },
     "execution_count": 16,
     "metadata": {},
     "output_type": "execute_result"
    }
   ],
   "source": [
    "#checking missing values\n",
    "table = p.miss_dup_values(df)\n",
    "table"
   ]
  },
  {
   "cell_type": "code",
   "execution_count": 17,
   "metadata": {},
   "outputs": [
    {
     "name": "stdout",
     "output_type": "stream",
     "text": [
      "credit_history\n",
      "1.0    387\n",
      "0.0     72\n",
      "Name: credit_history, dtype: int64\n",
      "----------------\n",
      "self_employed\n",
      "No     407\n",
      "Yes     66\n",
      "Name: self_employed, dtype: int64\n",
      "----------------\n",
      "loanamount\n",
      "120.0    19\n",
      "160.0    12\n",
      "110.0    12\n",
      "100.0    11\n",
      "128.0     9\n",
      "         ..\n",
      "330.0     1\n",
      "304.0     1\n",
      "192.0     1\n",
      "280.0     1\n",
      "700.0     1\n",
      "Name: loanamount, Length: 179, dtype: int64\n",
      "----------------\n",
      "loan_amount_term\n",
      "360.0    415\n",
      "180.0     35\n",
      "480.0     12\n",
      "300.0     12\n",
      "240.0      3\n",
      "120.0      3\n",
      "84.0       2\n",
      "60.0       2\n",
      "12.0       1\n",
      "36.0       1\n",
      "Name: loan_amount_term, dtype: int64\n",
      "----------------\n",
      "dependents\n",
      "0.0    288\n",
      "1.0     81\n",
      "2.0     79\n",
      "3.0     40\n",
      "Name: dependents, dtype: int64\n",
      "----------------\n",
      "gender\n",
      "Male      400\n",
      "Female     91\n",
      "Name: gender, dtype: int64\n",
      "----------------\n",
      "married\n",
      "Yes    322\n",
      "No     175\n",
      "Name: married, dtype: int64\n",
      "----------------\n"
     ]
    }
   ],
   "source": [
    "for i in table.index:\n",
    "    print(i)\n",
    "    print(df[i].value_counts())\n",
    "    print('----------------')"
   ]
  },
  {
   "cell_type": "markdown",
   "metadata": {},
   "source": [
    "I will fill nulls values\n",
    "- credit_history : 0\n",
    "- self_employed :0\n",
    "- dependents : 0\n",
    "- gender : most common Male\n",
    "- married :0\n",
    "- loan_term : most common 360"
   ]
  },
  {
   "cell_type": "code",
   "execution_count": 18,
   "metadata": {},
   "outputs": [],
   "source": [
    "#fill the columns with 0\n",
    "df[['credit_history','self_employed','dependents', 'married']] =df[['credit_history','self_employed','dependents', 'married']].fillna(0)"
   ]
  },
  {
   "cell_type": "code",
   "execution_count": 19,
   "metadata": {},
   "outputs": [],
   "source": [
    "#fill gender\n",
    "df.gender.fillna('Male', inplace = True)"
   ]
  },
  {
   "cell_type": "code",
   "execution_count": 26,
   "metadata": {},
   "outputs": [],
   "source": [
    "#fill loan_amount_term\n",
    "df.loan_amount_term.fillna(360, inplace = True)"
   ]
  },
  {
   "cell_type": "code",
   "execution_count": 29,
   "metadata": {},
   "outputs": [
    {
     "name": "stdout",
     "output_type": "stream",
     "text": [
      "Your selected dataframe has 14 columns.\n",
      "There are 1 columns that have missing values.\n",
      "  \n",
      "** There are 0 duplicate rows that represents 0.0% of total Values**\n"
     ]
    },
    {
     "data": {
      "text/html": [
       "<div>\n",
       "<style scoped>\n",
       "    .dataframe tbody tr th:only-of-type {\n",
       "        vertical-align: middle;\n",
       "    }\n",
       "\n",
       "    .dataframe tbody tr th {\n",
       "        vertical-align: top;\n",
       "    }\n",
       "\n",
       "    .dataframe thead th {\n",
       "        text-align: right;\n",
       "    }\n",
       "</style>\n",
       "<table border=\"1\" class=\"dataframe\">\n",
       "  <thead>\n",
       "    <tr style=\"text-align: right;\">\n",
       "      <th></th>\n",
       "      <th>Missing Values</th>\n",
       "      <th>% of Total Values</th>\n",
       "    </tr>\n",
       "  </thead>\n",
       "  <tbody>\n",
       "    <tr>\n",
       "      <th>loanamount</th>\n",
       "      <td>18</td>\n",
       "      <td>3.6</td>\n",
       "    </tr>\n",
       "  </tbody>\n",
       "</table>\n",
       "</div>"
      ],
      "text/plain": [
       "            Missing Values  % of Total Values\n",
       "loanamount              18                3.6"
      ]
     },
     "execution_count": 29,
     "metadata": {},
     "output_type": "execute_result"
    }
   ],
   "source": [
    "p.miss_dup_values(df)"
   ]
  },
  {
   "cell_type": "code",
   "execution_count": 25,
   "metadata": {
    "scrolled": false
   },
   "outputs": [
    {
     "data": {
      "text/plain": [
       "count    482.000000\n",
       "mean     144.020747\n",
       "std       82.344919\n",
       "min       17.000000\n",
       "25%      100.000000\n",
       "50%      126.500000\n",
       "75%      161.500000\n",
       "max      700.000000\n",
       "Name: loanamount, dtype: float64"
      ]
     },
     "execution_count": 25,
     "metadata": {},
     "output_type": "execute_result"
    }
   ],
   "source": [
    "#fill loanamount\n",
    "df.loanamount.describe()"
   ]
  },
  {
   "cell_type": "code",
   "execution_count": 22,
   "metadata": {},
   "outputs": [],
   "source": [
    "# loan amount 700 it should be 700 k so I'm going to multiply by 1000"
   ]
  },
  {
   "cell_type": "code",
   "execution_count": 28,
   "metadata": {},
   "outputs": [],
   "source": [
    "df['loanamount'] = df.loanamount * 1000"
   ]
  },
  {
   "cell_type": "markdown",
   "metadata": {},
   "source": [
    "for this I'm going to use simple imputer after the split ( I will use mean)"
   ]
  },
  {
   "cell_type": "code",
   "execution_count": 31,
   "metadata": {},
   "outputs": [],
   "source": [
    "## change the type of the columns"
   ]
  },
  {
   "cell_type": "code",
   "execution_count": 30,
   "metadata": {
    "scrolled": false
   },
   "outputs": [
    {
     "name": "stdout",
     "output_type": "stream",
     "text": [
      "loan_id\n",
      "LP002101    1\n",
      "LP001020    1\n",
      "LP002225    1\n",
      "LP001052    1\n",
      "LP001046    1\n",
      "           ..\n",
      "LP002377    1\n",
      "LP002600    1\n",
      "LP002494    1\n",
      "LP002113    1\n",
      "LP001644    1\n",
      "Name: loan_id, Length: 500, dtype: int64\n",
      "----------------\n",
      "gender\n",
      "Male      409\n",
      "Female     91\n",
      "Name: gender, dtype: int64\n",
      "----------------\n",
      "married\n",
      "Yes    322\n",
      "No     175\n",
      "0        3\n",
      "Name: married, dtype: int64\n",
      "----------------\n",
      "dependents\n",
      "0.0    300\n",
      "1.0     81\n",
      "2.0     79\n",
      "3.0     40\n",
      "Name: dependents, dtype: int64\n",
      "----------------\n",
      "education\n",
      "Graduate        393\n",
      "Not Graduate    107\n",
      "Name: education, dtype: int64\n",
      "----------------\n",
      "self_employed\n",
      "No     407\n",
      "Yes     66\n",
      "0       27\n",
      "Name: self_employed, dtype: int64\n",
      "----------------\n",
      "applicantincome\n",
      "2500    8\n",
      "2600    6\n",
      "4166    5\n",
      "4583    5\n",
      "3750    5\n",
      "       ..\n",
      "5821    1\n",
      "2750    1\n",
      "2755    1\n",
      "5829    1\n",
      "3691    1\n",
      "Name: applicantincome, Length: 415, dtype: int64\n",
      "----------------\n",
      "coapplicantincome\n",
      "0.0       226\n",
      "1666.0      5\n",
      "2083.0      5\n",
      "5625.0      3\n",
      "1459.0      3\n",
      "         ... \n",
      "1964.0      1\n",
      "983.0       1\n",
      "830.0       1\n",
      "1447.0      1\n",
      "7250.0      1\n",
      "Name: coapplicantincome, Length: 235, dtype: int64\n",
      "----------------\n",
      "loanamount\n",
      "120000.0    19\n",
      "110000.0    12\n",
      "160000.0    12\n",
      "100000.0    11\n",
      "128000.0     9\n",
      "            ..\n",
      "164000.0     1\n",
      "500000.0     1\n",
      "209000.0     1\n",
      "156000.0     1\n",
      "700000.0     1\n",
      "Name: loanamount, Length: 179, dtype: int64\n",
      "----------------\n",
      "loan_amount_term\n",
      "360.0    429\n",
      "180.0     35\n",
      "480.0     12\n",
      "300.0     12\n",
      "240.0      3\n",
      "120.0      3\n",
      "84.0       2\n",
      "60.0       2\n",
      "12.0       1\n",
      "36.0       1\n",
      "Name: loan_amount_term, dtype: int64\n",
      "----------------\n",
      "credit_history\n",
      "1.0    387\n",
      "0.0    113\n",
      "Name: credit_history, dtype: int64\n",
      "----------------\n",
      "property_area\n",
      "Semiurban    188\n",
      "Urban        171\n",
      "Rural        141\n",
      "Name: property_area, dtype: int64\n",
      "----------------\n",
      "loan_status\n",
      "Y    345\n",
      "N    155\n",
      "Name: loan_status, dtype: int64\n",
      "----------------\n",
      "total_income\n",
      "3750.0    4\n",
      "6000.0    4\n",
      "6277.0    3\n",
      "4583.0    3\n",
      "4166.0    3\n",
      "         ..\n",
      "2889.0    1\n",
      "5251.0    1\n",
      "7542.0    1\n",
      "5386.0    1\n",
      "3000.0    1\n",
      "Name: total_income, Length: 457, dtype: int64\n",
      "----------------\n"
     ]
    }
   ],
   "source": [
    "for i in df.columns:\n",
    "    print(i)\n",
    "    print(df[i].value_counts())\n",
    "    print('----------------')"
   ]
  },
  {
   "cell_type": "code",
   "execution_count": 32,
   "metadata": {},
   "outputs": [],
   "source": [
    "# encode yes/no columns : loan_status, self_employed, married\n",
    "df[['loan_status', 'self_employed', 'married']] = df[['loan_status', 'self_employed', 'married']].replace({'Yes': 1, 'No': 0, 'Y': 1, 'N': 0})"
   ]
  },
  {
   "cell_type": "code",
   "execution_count": 33,
   "metadata": {},
   "outputs": [],
   "source": [
    "#encode gender female = 0 , male = 1\n",
    "df.gender.replace({'Male': 1, 'Female': 0}, inplace = True)"
   ]
  },
  {
   "cell_type": "code",
   "execution_count": 34,
   "metadata": {},
   "outputs": [
    {
     "name": "stdout",
     "output_type": "stream",
     "text": [
      "gender\n",
      "1    409\n",
      "0     91\n",
      "Name: gender, dtype: int64\n",
      "----------------\n",
      "married\n",
      "1    322\n",
      "0    178\n",
      "Name: married, dtype: int64\n",
      "----------------\n",
      "dependents\n",
      "0.0    300\n",
      "1.0     81\n",
      "2.0     79\n",
      "3.0     40\n",
      "Name: dependents, dtype: int64\n",
      "----------------\n",
      "education\n",
      "Graduate        393\n",
      "Not Graduate    107\n",
      "Name: education, dtype: int64\n",
      "----------------\n",
      "self_employed\n",
      "0    434\n",
      "1     66\n",
      "Name: self_employed, dtype: int64\n",
      "----------------\n",
      "applicantincome\n",
      "2500    8\n",
      "2600    6\n",
      "4166    5\n",
      "4583    5\n",
      "3750    5\n",
      "       ..\n",
      "5821    1\n",
      "2750    1\n",
      "2755    1\n",
      "5829    1\n",
      "3691    1\n",
      "Name: applicantincome, Length: 415, dtype: int64\n",
      "----------------\n",
      "coapplicantincome\n",
      "0.0       226\n",
      "1666.0      5\n",
      "2083.0      5\n",
      "5625.0      3\n",
      "1459.0      3\n",
      "         ... \n",
      "1964.0      1\n",
      "983.0       1\n",
      "830.0       1\n",
      "1447.0      1\n",
      "7250.0      1\n",
      "Name: coapplicantincome, Length: 235, dtype: int64\n",
      "----------------\n",
      "loanamount\n",
      "120000.0    19\n",
      "110000.0    12\n",
      "160000.0    12\n",
      "100000.0    11\n",
      "128000.0     9\n",
      "            ..\n",
      "164000.0     1\n",
      "500000.0     1\n",
      "209000.0     1\n",
      "156000.0     1\n",
      "700000.0     1\n",
      "Name: loanamount, Length: 179, dtype: int64\n",
      "----------------\n",
      "loan_amount_term\n",
      "360.0    429\n",
      "180.0     35\n",
      "480.0     12\n",
      "300.0     12\n",
      "240.0      3\n",
      "120.0      3\n",
      "84.0       2\n",
      "60.0       2\n",
      "12.0       1\n",
      "36.0       1\n",
      "Name: loan_amount_term, dtype: int64\n",
      "----------------\n",
      "credit_history\n",
      "1.0    387\n",
      "0.0    113\n",
      "Name: credit_history, dtype: int64\n",
      "----------------\n",
      "property_area\n",
      "Semiurban    188\n",
      "Urban        171\n",
      "Rural        141\n",
      "Name: property_area, dtype: int64\n",
      "----------------\n",
      "loan_status\n",
      "1    345\n",
      "0    155\n",
      "Name: loan_status, dtype: int64\n",
      "----------------\n",
      "total_income\n",
      "3750.0    4\n",
      "6000.0    4\n",
      "6277.0    3\n",
      "4583.0    3\n",
      "4166.0    3\n",
      "         ..\n",
      "2889.0    1\n",
      "5251.0    1\n",
      "7542.0    1\n",
      "5386.0    1\n",
      "3000.0    1\n",
      "Name: total_income, Length: 457, dtype: int64\n",
      "----------------\n"
     ]
    }
   ],
   "source": [
    "for i in df.drop(columns = 'loan_id') .columns:\n",
    "    print(i)\n",
    "    print(df[i].value_counts())\n",
    "    print('----------------')"
   ]
  },
  {
   "cell_type": "code",
   "execution_count": 35,
   "metadata": {},
   "outputs": [
    {
     "name": "stdout",
     "output_type": "stream",
     "text": [
      "<class 'pandas.core.frame.DataFrame'>\n",
      "RangeIndex: 500 entries, 0 to 499\n",
      "Data columns (total 14 columns):\n",
      " #   Column             Non-Null Count  Dtype  \n",
      "---  ------             --------------  -----  \n",
      " 0   loan_id            500 non-null    object \n",
      " 1   gender             500 non-null    int64  \n",
      " 2   married            500 non-null    int64  \n",
      " 3   dependents         500 non-null    float64\n",
      " 4   education          500 non-null    object \n",
      " 5   self_employed      500 non-null    int64  \n",
      " 6   applicantincome    500 non-null    int64  \n",
      " 7   coapplicantincome  500 non-null    float64\n",
      " 8   loanamount         482 non-null    float64\n",
      " 9   loan_amount_term   500 non-null    float64\n",
      " 10  credit_history     500 non-null    float64\n",
      " 11  property_area      500 non-null    object \n",
      " 12  loan_status        500 non-null    int64  \n",
      " 13  total_income       500 non-null    float64\n",
      "dtypes: float64(6), int64(5), object(3)\n",
      "memory usage: 54.8+ KB\n"
     ]
    }
   ],
   "source": [
    "df.info()"
   ]
  },
  {
   "cell_type": "code",
   "execution_count": 36,
   "metadata": {},
   "outputs": [],
   "source": [
    "#create dummies"
   ]
  },
  {
   "cell_type": "code",
   "execution_count": 37,
   "metadata": {},
   "outputs": [],
   "source": [
    "dummy_df = pd.get_dummies(df[['education','property_area']])"
   ]
  },
  {
   "cell_type": "code",
   "execution_count": 38,
   "metadata": {
    "scrolled": true
   },
   "outputs": [
    {
     "data": {
      "text/html": [
       "<div>\n",
       "<style scoped>\n",
       "    .dataframe tbody tr th:only-of-type {\n",
       "        vertical-align: middle;\n",
       "    }\n",
       "\n",
       "    .dataframe tbody tr th {\n",
       "        vertical-align: top;\n",
       "    }\n",
       "\n",
       "    .dataframe thead th {\n",
       "        text-align: right;\n",
       "    }\n",
       "</style>\n",
       "<table border=\"1\" class=\"dataframe\">\n",
       "  <thead>\n",
       "    <tr style=\"text-align: right;\">\n",
       "      <th></th>\n",
       "      <th>education_Graduate</th>\n",
       "      <th>education_Not Graduate</th>\n",
       "      <th>property_area_Rural</th>\n",
       "      <th>property_area_Semiurban</th>\n",
       "      <th>property_area_Urban</th>\n",
       "    </tr>\n",
       "  </thead>\n",
       "  <tbody>\n",
       "    <tr>\n",
       "      <th>0</th>\n",
       "      <td>1</td>\n",
       "      <td>0</td>\n",
       "      <td>0</td>\n",
       "      <td>0</td>\n",
       "      <td>1</td>\n",
       "    </tr>\n",
       "    <tr>\n",
       "      <th>1</th>\n",
       "      <td>1</td>\n",
       "      <td>0</td>\n",
       "      <td>1</td>\n",
       "      <td>0</td>\n",
       "      <td>0</td>\n",
       "    </tr>\n",
       "    <tr>\n",
       "      <th>2</th>\n",
       "      <td>1</td>\n",
       "      <td>0</td>\n",
       "      <td>0</td>\n",
       "      <td>0</td>\n",
       "      <td>1</td>\n",
       "    </tr>\n",
       "    <tr>\n",
       "      <th>3</th>\n",
       "      <td>0</td>\n",
       "      <td>1</td>\n",
       "      <td>0</td>\n",
       "      <td>0</td>\n",
       "      <td>1</td>\n",
       "    </tr>\n",
       "    <tr>\n",
       "      <th>4</th>\n",
       "      <td>1</td>\n",
       "      <td>0</td>\n",
       "      <td>0</td>\n",
       "      <td>0</td>\n",
       "      <td>1</td>\n",
       "    </tr>\n",
       "  </tbody>\n",
       "</table>\n",
       "</div>"
      ],
      "text/plain": [
       "   education_Graduate  education_Not Graduate  property_area_Rural  \\\n",
       "0                   1                       0                    0   \n",
       "1                   1                       0                    1   \n",
       "2                   1                       0                    0   \n",
       "3                   0                       1                    0   \n",
       "4                   1                       0                    0   \n",
       "\n",
       "   property_area_Semiurban  property_area_Urban  \n",
       "0                        0                    1  \n",
       "1                        0                    0  \n",
       "2                        0                    1  \n",
       "3                        0                    1  \n",
       "4                        0                    1  "
      ]
     },
     "execution_count": 38,
     "metadata": {},
     "output_type": "execute_result"
    }
   ],
   "source": [
    "dummy_df.head()"
   ]
  },
  {
   "cell_type": "code",
   "execution_count": 39,
   "metadata": {},
   "outputs": [],
   "source": [
    "#lowercase the columns\n",
    "dummy_df.columns = map(str.lower, dummy_df.columns)"
   ]
  },
  {
   "cell_type": "code",
   "execution_count": 40,
   "metadata": {},
   "outputs": [],
   "source": [
    "#concat 2dfs\n",
    "df = pd.concat([df, dummy_df], axis=1).drop(columns = ['education', 'property_area','education_not graduate'])"
   ]
  },
  {
   "cell_type": "code",
   "execution_count": 41,
   "metadata": {},
   "outputs": [
    {
     "data": {
      "text/plain": [
       "Index(['loan_id', 'gender', 'married', 'dependents', 'self_employed',\n",
       "       'applicantincome', 'coapplicantincome', 'loanamount',\n",
       "       'loan_amount_term', 'credit_history', 'loan_status', 'total_income',\n",
       "       'education_graduate', 'property_area_rural', 'property_area_semiurban',\n",
       "       'property_area_urban'],\n",
       "      dtype='object')"
      ]
     },
     "execution_count": 41,
     "metadata": {},
     "output_type": "execute_result"
    }
   ],
   "source": [
    "df.columns"
   ]
  },
  {
   "cell_type": "code",
   "execution_count": 42,
   "metadata": {
    "scrolled": true
   },
   "outputs": [
    {
     "data": {
      "text/html": [
       "<div>\n",
       "<style scoped>\n",
       "    .dataframe tbody tr th:only-of-type {\n",
       "        vertical-align: middle;\n",
       "    }\n",
       "\n",
       "    .dataframe tbody tr th {\n",
       "        vertical-align: top;\n",
       "    }\n",
       "\n",
       "    .dataframe thead th {\n",
       "        text-align: right;\n",
       "    }\n",
       "</style>\n",
       "<table border=\"1\" class=\"dataframe\">\n",
       "  <thead>\n",
       "    <tr style=\"text-align: right;\">\n",
       "      <th></th>\n",
       "      <th>loan_id</th>\n",
       "      <th>gender</th>\n",
       "      <th>married</th>\n",
       "      <th>dependents</th>\n",
       "      <th>self_employed</th>\n",
       "      <th>applicantincome</th>\n",
       "      <th>coapplicantincome</th>\n",
       "      <th>loanamount</th>\n",
       "      <th>loan_amount_term</th>\n",
       "      <th>credit_history</th>\n",
       "      <th>loan_status</th>\n",
       "      <th>total_income</th>\n",
       "      <th>education_graduate</th>\n",
       "      <th>property_area_rural</th>\n",
       "      <th>property_area_semiurban</th>\n",
       "      <th>property_area_urban</th>\n",
       "    </tr>\n",
       "  </thead>\n",
       "  <tbody>\n",
       "    <tr>\n",
       "      <th>0</th>\n",
       "      <td>LP001002</td>\n",
       "      <td>1</td>\n",
       "      <td>0</td>\n",
       "      <td>0.0</td>\n",
       "      <td>0</td>\n",
       "      <td>5849</td>\n",
       "      <td>0.0</td>\n",
       "      <td>NaN</td>\n",
       "      <td>360.0</td>\n",
       "      <td>1.0</td>\n",
       "      <td>1</td>\n",
       "      <td>5849.0</td>\n",
       "      <td>1</td>\n",
       "      <td>0</td>\n",
       "      <td>0</td>\n",
       "      <td>1</td>\n",
       "    </tr>\n",
       "    <tr>\n",
       "      <th>1</th>\n",
       "      <td>LP001003</td>\n",
       "      <td>1</td>\n",
       "      <td>1</td>\n",
       "      <td>1.0</td>\n",
       "      <td>0</td>\n",
       "      <td>4583</td>\n",
       "      <td>1508.0</td>\n",
       "      <td>128000.0</td>\n",
       "      <td>360.0</td>\n",
       "      <td>1.0</td>\n",
       "      <td>0</td>\n",
       "      <td>6091.0</td>\n",
       "      <td>1</td>\n",
       "      <td>1</td>\n",
       "      <td>0</td>\n",
       "      <td>0</td>\n",
       "    </tr>\n",
       "    <tr>\n",
       "      <th>2</th>\n",
       "      <td>LP001005</td>\n",
       "      <td>1</td>\n",
       "      <td>1</td>\n",
       "      <td>0.0</td>\n",
       "      <td>1</td>\n",
       "      <td>3000</td>\n",
       "      <td>0.0</td>\n",
       "      <td>66000.0</td>\n",
       "      <td>360.0</td>\n",
       "      <td>1.0</td>\n",
       "      <td>1</td>\n",
       "      <td>3000.0</td>\n",
       "      <td>1</td>\n",
       "      <td>0</td>\n",
       "      <td>0</td>\n",
       "      <td>1</td>\n",
       "    </tr>\n",
       "    <tr>\n",
       "      <th>3</th>\n",
       "      <td>LP001006</td>\n",
       "      <td>1</td>\n",
       "      <td>1</td>\n",
       "      <td>0.0</td>\n",
       "      <td>0</td>\n",
       "      <td>2583</td>\n",
       "      <td>2358.0</td>\n",
       "      <td>120000.0</td>\n",
       "      <td>360.0</td>\n",
       "      <td>1.0</td>\n",
       "      <td>1</td>\n",
       "      <td>4941.0</td>\n",
       "      <td>0</td>\n",
       "      <td>0</td>\n",
       "      <td>0</td>\n",
       "      <td>1</td>\n",
       "    </tr>\n",
       "    <tr>\n",
       "      <th>4</th>\n",
       "      <td>LP001008</td>\n",
       "      <td>1</td>\n",
       "      <td>0</td>\n",
       "      <td>0.0</td>\n",
       "      <td>0</td>\n",
       "      <td>6000</td>\n",
       "      <td>0.0</td>\n",
       "      <td>141000.0</td>\n",
       "      <td>360.0</td>\n",
       "      <td>1.0</td>\n",
       "      <td>1</td>\n",
       "      <td>6000.0</td>\n",
       "      <td>1</td>\n",
       "      <td>0</td>\n",
       "      <td>0</td>\n",
       "      <td>1</td>\n",
       "    </tr>\n",
       "  </tbody>\n",
       "</table>\n",
       "</div>"
      ],
      "text/plain": [
       "    loan_id  gender  married  dependents  self_employed  applicantincome  \\\n",
       "0  LP001002       1        0         0.0              0             5849   \n",
       "1  LP001003       1        1         1.0              0             4583   \n",
       "2  LP001005       1        1         0.0              1             3000   \n",
       "3  LP001006       1        1         0.0              0             2583   \n",
       "4  LP001008       1        0         0.0              0             6000   \n",
       "\n",
       "   coapplicantincome  loanamount  loan_amount_term  credit_history  \\\n",
       "0                0.0         NaN             360.0             1.0   \n",
       "1             1508.0    128000.0             360.0             1.0   \n",
       "2                0.0     66000.0             360.0             1.0   \n",
       "3             2358.0    120000.0             360.0             1.0   \n",
       "4                0.0    141000.0             360.0             1.0   \n",
       "\n",
       "   loan_status  total_income  education_graduate  property_area_rural  \\\n",
       "0            1        5849.0                   1                    0   \n",
       "1            0        6091.0                   1                    1   \n",
       "2            1        3000.0                   1                    0   \n",
       "3            1        4941.0                   0                    0   \n",
       "4            1        6000.0                   1                    0   \n",
       "\n",
       "   property_area_semiurban  property_area_urban  \n",
       "0                        0                    1  \n",
       "1                        0                    0  \n",
       "2                        0                    1  \n",
       "3                        0                    1  \n",
       "4                        0                    1  "
      ]
     },
     "execution_count": 42,
     "metadata": {},
     "output_type": "execute_result"
    }
   ],
   "source": [
    "df.head()"
   ]
  },
  {
   "cell_type": "code",
   "execution_count": 43,
   "metadata": {},
   "outputs": [],
   "source": [
    "#create a new columns"
   ]
  },
  {
   "cell_type": "code",
   "execution_count": 44,
   "metadata": {
    "scrolled": true
   },
   "outputs": [
    {
     "data": {
      "text/html": [
       "<div>\n",
       "<style scoped>\n",
       "    .dataframe tbody tr th:only-of-type {\n",
       "        vertical-align: middle;\n",
       "    }\n",
       "\n",
       "    .dataframe tbody tr th {\n",
       "        vertical-align: top;\n",
       "    }\n",
       "\n",
       "    .dataframe thead th {\n",
       "        text-align: right;\n",
       "    }\n",
       "</style>\n",
       "<table border=\"1\" class=\"dataframe\">\n",
       "  <thead>\n",
       "    <tr style=\"text-align: right;\">\n",
       "      <th></th>\n",
       "      <th>loan_id</th>\n",
       "      <th>gender</th>\n",
       "      <th>married</th>\n",
       "      <th>dependents</th>\n",
       "      <th>self_employed</th>\n",
       "      <th>applicantincome</th>\n",
       "      <th>coapplicantincome</th>\n",
       "      <th>loanamount</th>\n",
       "      <th>loan_amount_term</th>\n",
       "      <th>credit_history</th>\n",
       "      <th>loan_status</th>\n",
       "      <th>total_income</th>\n",
       "      <th>education_graduate</th>\n",
       "      <th>property_area_rural</th>\n",
       "      <th>property_area_semiurban</th>\n",
       "      <th>property_area_urban</th>\n",
       "    </tr>\n",
       "  </thead>\n",
       "  <tbody>\n",
       "    <tr>\n",
       "      <th>1</th>\n",
       "      <td>LP001003</td>\n",
       "      <td>1</td>\n",
       "      <td>1</td>\n",
       "      <td>1.0</td>\n",
       "      <td>0</td>\n",
       "      <td>4583</td>\n",
       "      <td>1508.0</td>\n",
       "      <td>128000.0</td>\n",
       "      <td>360.0</td>\n",
       "      <td>1.0</td>\n",
       "      <td>0</td>\n",
       "      <td>6091.0</td>\n",
       "      <td>1</td>\n",
       "      <td>1</td>\n",
       "      <td>0</td>\n",
       "      <td>0</td>\n",
       "    </tr>\n",
       "    <tr>\n",
       "      <th>3</th>\n",
       "      <td>LP001006</td>\n",
       "      <td>1</td>\n",
       "      <td>1</td>\n",
       "      <td>0.0</td>\n",
       "      <td>0</td>\n",
       "      <td>2583</td>\n",
       "      <td>2358.0</td>\n",
       "      <td>120000.0</td>\n",
       "      <td>360.0</td>\n",
       "      <td>1.0</td>\n",
       "      <td>1</td>\n",
       "      <td>4941.0</td>\n",
       "      <td>0</td>\n",
       "      <td>0</td>\n",
       "      <td>0</td>\n",
       "      <td>1</td>\n",
       "    </tr>\n",
       "    <tr>\n",
       "      <th>5</th>\n",
       "      <td>LP001011</td>\n",
       "      <td>1</td>\n",
       "      <td>1</td>\n",
       "      <td>2.0</td>\n",
       "      <td>1</td>\n",
       "      <td>5417</td>\n",
       "      <td>4196.0</td>\n",
       "      <td>267000.0</td>\n",
       "      <td>360.0</td>\n",
       "      <td>1.0</td>\n",
       "      <td>1</td>\n",
       "      <td>9613.0</td>\n",
       "      <td>1</td>\n",
       "      <td>0</td>\n",
       "      <td>0</td>\n",
       "      <td>1</td>\n",
       "    </tr>\n",
       "    <tr>\n",
       "      <th>6</th>\n",
       "      <td>LP001013</td>\n",
       "      <td>1</td>\n",
       "      <td>1</td>\n",
       "      <td>0.0</td>\n",
       "      <td>0</td>\n",
       "      <td>2333</td>\n",
       "      <td>1516.0</td>\n",
       "      <td>95000.0</td>\n",
       "      <td>360.0</td>\n",
       "      <td>1.0</td>\n",
       "      <td>1</td>\n",
       "      <td>3849.0</td>\n",
       "      <td>0</td>\n",
       "      <td>0</td>\n",
       "      <td>0</td>\n",
       "      <td>1</td>\n",
       "    </tr>\n",
       "    <tr>\n",
       "      <th>7</th>\n",
       "      <td>LP001014</td>\n",
       "      <td>1</td>\n",
       "      <td>1</td>\n",
       "      <td>3.0</td>\n",
       "      <td>0</td>\n",
       "      <td>3036</td>\n",
       "      <td>2504.0</td>\n",
       "      <td>158000.0</td>\n",
       "      <td>360.0</td>\n",
       "      <td>0.0</td>\n",
       "      <td>0</td>\n",
       "      <td>5540.0</td>\n",
       "      <td>1</td>\n",
       "      <td>0</td>\n",
       "      <td>1</td>\n",
       "      <td>0</td>\n",
       "    </tr>\n",
       "    <tr>\n",
       "      <th>...</th>\n",
       "      <td>...</td>\n",
       "      <td>...</td>\n",
       "      <td>...</td>\n",
       "      <td>...</td>\n",
       "      <td>...</td>\n",
       "      <td>...</td>\n",
       "      <td>...</td>\n",
       "      <td>...</td>\n",
       "      <td>...</td>\n",
       "      <td>...</td>\n",
       "      <td>...</td>\n",
       "      <td>...</td>\n",
       "      <td>...</td>\n",
       "      <td>...</td>\n",
       "      <td>...</td>\n",
       "      <td>...</td>\n",
       "    </tr>\n",
       "    <tr>\n",
       "      <th>494</th>\n",
       "      <td>LP002585</td>\n",
       "      <td>1</td>\n",
       "      <td>1</td>\n",
       "      <td>0.0</td>\n",
       "      <td>0</td>\n",
       "      <td>3597</td>\n",
       "      <td>2157.0</td>\n",
       "      <td>119000.0</td>\n",
       "      <td>360.0</td>\n",
       "      <td>0.0</td>\n",
       "      <td>0</td>\n",
       "      <td>5754.0</td>\n",
       "      <td>1</td>\n",
       "      <td>1</td>\n",
       "      <td>0</td>\n",
       "      <td>0</td>\n",
       "    </tr>\n",
       "    <tr>\n",
       "      <th>495</th>\n",
       "      <td>LP002586</td>\n",
       "      <td>0</td>\n",
       "      <td>1</td>\n",
       "      <td>1.0</td>\n",
       "      <td>0</td>\n",
       "      <td>3326</td>\n",
       "      <td>913.0</td>\n",
       "      <td>105000.0</td>\n",
       "      <td>84.0</td>\n",
       "      <td>1.0</td>\n",
       "      <td>1</td>\n",
       "      <td>4239.0</td>\n",
       "      <td>1</td>\n",
       "      <td>0</td>\n",
       "      <td>1</td>\n",
       "      <td>0</td>\n",
       "    </tr>\n",
       "    <tr>\n",
       "      <th>496</th>\n",
       "      <td>LP002587</td>\n",
       "      <td>1</td>\n",
       "      <td>1</td>\n",
       "      <td>0.0</td>\n",
       "      <td>0</td>\n",
       "      <td>2600</td>\n",
       "      <td>1700.0</td>\n",
       "      <td>107000.0</td>\n",
       "      <td>360.0</td>\n",
       "      <td>1.0</td>\n",
       "      <td>1</td>\n",
       "      <td>4300.0</td>\n",
       "      <td>0</td>\n",
       "      <td>1</td>\n",
       "      <td>0</td>\n",
       "      <td>0</td>\n",
       "    </tr>\n",
       "    <tr>\n",
       "      <th>497</th>\n",
       "      <td>LP002588</td>\n",
       "      <td>1</td>\n",
       "      <td>1</td>\n",
       "      <td>0.0</td>\n",
       "      <td>0</td>\n",
       "      <td>4625</td>\n",
       "      <td>2857.0</td>\n",
       "      <td>111000.0</td>\n",
       "      <td>12.0</td>\n",
       "      <td>0.0</td>\n",
       "      <td>1</td>\n",
       "      <td>7482.0</td>\n",
       "      <td>1</td>\n",
       "      <td>0</td>\n",
       "      <td>0</td>\n",
       "      <td>1</td>\n",
       "    </tr>\n",
       "    <tr>\n",
       "      <th>499</th>\n",
       "      <td>LP002602</td>\n",
       "      <td>1</td>\n",
       "      <td>0</td>\n",
       "      <td>0.0</td>\n",
       "      <td>0</td>\n",
       "      <td>6283</td>\n",
       "      <td>4416.0</td>\n",
       "      <td>209000.0</td>\n",
       "      <td>360.0</td>\n",
       "      <td>0.0</td>\n",
       "      <td>0</td>\n",
       "      <td>10699.0</td>\n",
       "      <td>1</td>\n",
       "      <td>1</td>\n",
       "      <td>0</td>\n",
       "      <td>0</td>\n",
       "    </tr>\n",
       "  </tbody>\n",
       "</table>\n",
       "<p>274 rows × 16 columns</p>\n",
       "</div>"
      ],
      "text/plain": [
       "      loan_id  gender  married  dependents  self_employed  applicantincome  \\\n",
       "1    LP001003       1        1         1.0              0             4583   \n",
       "3    LP001006       1        1         0.0              0             2583   \n",
       "5    LP001011       1        1         2.0              1             5417   \n",
       "6    LP001013       1        1         0.0              0             2333   \n",
       "7    LP001014       1        1         3.0              0             3036   \n",
       "..        ...     ...      ...         ...            ...              ...   \n",
       "494  LP002585       1        1         0.0              0             3597   \n",
       "495  LP002586       0        1         1.0              0             3326   \n",
       "496  LP002587       1        1         0.0              0             2600   \n",
       "497  LP002588       1        1         0.0              0             4625   \n",
       "499  LP002602       1        0         0.0              0             6283   \n",
       "\n",
       "     coapplicantincome  loanamount  loan_amount_term  credit_history  \\\n",
       "1               1508.0    128000.0             360.0             1.0   \n",
       "3               2358.0    120000.0             360.0             1.0   \n",
       "5               4196.0    267000.0             360.0             1.0   \n",
       "6               1516.0     95000.0             360.0             1.0   \n",
       "7               2504.0    158000.0             360.0             0.0   \n",
       "..                 ...         ...               ...             ...   \n",
       "494             2157.0    119000.0             360.0             0.0   \n",
       "495              913.0    105000.0              84.0             1.0   \n",
       "496             1700.0    107000.0             360.0             1.0   \n",
       "497             2857.0    111000.0              12.0             0.0   \n",
       "499             4416.0    209000.0             360.0             0.0   \n",
       "\n",
       "     loan_status  total_income  education_graduate  property_area_rural  \\\n",
       "1              0        6091.0                   1                    1   \n",
       "3              1        4941.0                   0                    0   \n",
       "5              1        9613.0                   1                    0   \n",
       "6              1        3849.0                   0                    0   \n",
       "7              0        5540.0                   1                    0   \n",
       "..           ...           ...                 ...                  ...   \n",
       "494            0        5754.0                   1                    1   \n",
       "495            1        4239.0                   1                    0   \n",
       "496            1        4300.0                   0                    1   \n",
       "497            1        7482.0                   1                    0   \n",
       "499            0       10699.0                   1                    1   \n",
       "\n",
       "     property_area_semiurban  property_area_urban  \n",
       "1                          0                    0  \n",
       "3                          0                    1  \n",
       "5                          0                    1  \n",
       "6                          0                    1  \n",
       "7                          1                    0  \n",
       "..                       ...                  ...  \n",
       "494                        0                    0  \n",
       "495                        1                    0  \n",
       "496                        0                    0  \n",
       "497                        0                    1  \n",
       "499                        0                    0  \n",
       "\n",
       "[274 rows x 16 columns]"
      ]
     },
     "execution_count": 44,
     "metadata": {},
     "output_type": "execute_result"
    }
   ],
   "source": [
    "#has_coapplicant condition\n",
    "df[df.coapplicantincome > 0]"
   ]
  },
  {
   "cell_type": "code",
   "execution_count": 45,
   "metadata": {},
   "outputs": [],
   "source": [
    "#create a new column\n",
    "df['has_coapplicant'] = 0 "
   ]
  },
  {
   "cell_type": "code",
   "execution_count": 46,
   "metadata": {
    "scrolled": true
   },
   "outputs": [
    {
     "data": {
      "text/html": [
       "<div>\n",
       "<style scoped>\n",
       "    .dataframe tbody tr th:only-of-type {\n",
       "        vertical-align: middle;\n",
       "    }\n",
       "\n",
       "    .dataframe tbody tr th {\n",
       "        vertical-align: top;\n",
       "    }\n",
       "\n",
       "    .dataframe thead th {\n",
       "        text-align: right;\n",
       "    }\n",
       "</style>\n",
       "<table border=\"1\" class=\"dataframe\">\n",
       "  <thead>\n",
       "    <tr style=\"text-align: right;\">\n",
       "      <th></th>\n",
       "      <th>loan_id</th>\n",
       "      <th>gender</th>\n",
       "      <th>married</th>\n",
       "      <th>dependents</th>\n",
       "      <th>self_employed</th>\n",
       "      <th>applicantincome</th>\n",
       "      <th>coapplicantincome</th>\n",
       "      <th>loanamount</th>\n",
       "      <th>loan_amount_term</th>\n",
       "      <th>credit_history</th>\n",
       "      <th>loan_status</th>\n",
       "      <th>total_income</th>\n",
       "      <th>education_graduate</th>\n",
       "      <th>property_area_rural</th>\n",
       "      <th>property_area_semiurban</th>\n",
       "      <th>property_area_urban</th>\n",
       "      <th>has_coapplicant</th>\n",
       "    </tr>\n",
       "  </thead>\n",
       "  <tbody>\n",
       "    <tr>\n",
       "      <th>0</th>\n",
       "      <td>LP001002</td>\n",
       "      <td>1</td>\n",
       "      <td>0</td>\n",
       "      <td>0.0</td>\n",
       "      <td>0</td>\n",
       "      <td>5849</td>\n",
       "      <td>0.0</td>\n",
       "      <td>NaN</td>\n",
       "      <td>360.0</td>\n",
       "      <td>1.0</td>\n",
       "      <td>1</td>\n",
       "      <td>5849.0</td>\n",
       "      <td>1</td>\n",
       "      <td>0</td>\n",
       "      <td>0</td>\n",
       "      <td>1</td>\n",
       "      <td>0</td>\n",
       "    </tr>\n",
       "    <tr>\n",
       "      <th>1</th>\n",
       "      <td>LP001003</td>\n",
       "      <td>1</td>\n",
       "      <td>1</td>\n",
       "      <td>1.0</td>\n",
       "      <td>0</td>\n",
       "      <td>4583</td>\n",
       "      <td>1508.0</td>\n",
       "      <td>128000.0</td>\n",
       "      <td>360.0</td>\n",
       "      <td>1.0</td>\n",
       "      <td>0</td>\n",
       "      <td>6091.0</td>\n",
       "      <td>1</td>\n",
       "      <td>1</td>\n",
       "      <td>0</td>\n",
       "      <td>0</td>\n",
       "      <td>0</td>\n",
       "    </tr>\n",
       "    <tr>\n",
       "      <th>2</th>\n",
       "      <td>LP001005</td>\n",
       "      <td>1</td>\n",
       "      <td>1</td>\n",
       "      <td>0.0</td>\n",
       "      <td>1</td>\n",
       "      <td>3000</td>\n",
       "      <td>0.0</td>\n",
       "      <td>66000.0</td>\n",
       "      <td>360.0</td>\n",
       "      <td>1.0</td>\n",
       "      <td>1</td>\n",
       "      <td>3000.0</td>\n",
       "      <td>1</td>\n",
       "      <td>0</td>\n",
       "      <td>0</td>\n",
       "      <td>1</td>\n",
       "      <td>0</td>\n",
       "    </tr>\n",
       "    <tr>\n",
       "      <th>3</th>\n",
       "      <td>LP001006</td>\n",
       "      <td>1</td>\n",
       "      <td>1</td>\n",
       "      <td>0.0</td>\n",
       "      <td>0</td>\n",
       "      <td>2583</td>\n",
       "      <td>2358.0</td>\n",
       "      <td>120000.0</td>\n",
       "      <td>360.0</td>\n",
       "      <td>1.0</td>\n",
       "      <td>1</td>\n",
       "      <td>4941.0</td>\n",
       "      <td>0</td>\n",
       "      <td>0</td>\n",
       "      <td>0</td>\n",
       "      <td>1</td>\n",
       "      <td>0</td>\n",
       "    </tr>\n",
       "    <tr>\n",
       "      <th>4</th>\n",
       "      <td>LP001008</td>\n",
       "      <td>1</td>\n",
       "      <td>0</td>\n",
       "      <td>0.0</td>\n",
       "      <td>0</td>\n",
       "      <td>6000</td>\n",
       "      <td>0.0</td>\n",
       "      <td>141000.0</td>\n",
       "      <td>360.0</td>\n",
       "      <td>1.0</td>\n",
       "      <td>1</td>\n",
       "      <td>6000.0</td>\n",
       "      <td>1</td>\n",
       "      <td>0</td>\n",
       "      <td>0</td>\n",
       "      <td>1</td>\n",
       "      <td>0</td>\n",
       "    </tr>\n",
       "  </tbody>\n",
       "</table>\n",
       "</div>"
      ],
      "text/plain": [
       "    loan_id  gender  married  dependents  self_employed  applicantincome  \\\n",
       "0  LP001002       1        0         0.0              0             5849   \n",
       "1  LP001003       1        1         1.0              0             4583   \n",
       "2  LP001005       1        1         0.0              1             3000   \n",
       "3  LP001006       1        1         0.0              0             2583   \n",
       "4  LP001008       1        0         0.0              0             6000   \n",
       "\n",
       "   coapplicantincome  loanamount  loan_amount_term  credit_history  \\\n",
       "0                0.0         NaN             360.0             1.0   \n",
       "1             1508.0    128000.0             360.0             1.0   \n",
       "2                0.0     66000.0             360.0             1.0   \n",
       "3             2358.0    120000.0             360.0             1.0   \n",
       "4                0.0    141000.0             360.0             1.0   \n",
       "\n",
       "   loan_status  total_income  education_graduate  property_area_rural  \\\n",
       "0            1        5849.0                   1                    0   \n",
       "1            0        6091.0                   1                    1   \n",
       "2            1        3000.0                   1                    0   \n",
       "3            1        4941.0                   0                    0   \n",
       "4            1        6000.0                   1                    0   \n",
       "\n",
       "   property_area_semiurban  property_area_urban  has_coapplicant  \n",
       "0                        0                    1                0  \n",
       "1                        0                    0                0  \n",
       "2                        0                    1                0  \n",
       "3                        0                    1                0  \n",
       "4                        0                    1                0  "
      ]
     },
     "execution_count": 46,
     "metadata": {},
     "output_type": "execute_result"
    }
   ],
   "source": [
    "df.head()"
   ]
  },
  {
   "cell_type": "code",
   "execution_count": 47,
   "metadata": {
    "scrolled": true
   },
   "outputs": [],
   "source": [
    "#fill new column with 1 for that condition\n",
    "df.loc[df.coapplicantincome > 0, ['has_coapplicant']] = 1"
   ]
  },
  {
   "cell_type": "code",
   "execution_count": 48,
   "metadata": {
    "scrolled": true
   },
   "outputs": [
    {
     "data": {
      "text/html": [
       "<div>\n",
       "<style scoped>\n",
       "    .dataframe tbody tr th:only-of-type {\n",
       "        vertical-align: middle;\n",
       "    }\n",
       "\n",
       "    .dataframe tbody tr th {\n",
       "        vertical-align: top;\n",
       "    }\n",
       "\n",
       "    .dataframe thead th {\n",
       "        text-align: right;\n",
       "    }\n",
       "</style>\n",
       "<table border=\"1\" class=\"dataframe\">\n",
       "  <thead>\n",
       "    <tr style=\"text-align: right;\">\n",
       "      <th></th>\n",
       "      <th>loan_id</th>\n",
       "      <th>gender</th>\n",
       "      <th>married</th>\n",
       "      <th>dependents</th>\n",
       "      <th>self_employed</th>\n",
       "      <th>applicantincome</th>\n",
       "      <th>coapplicantincome</th>\n",
       "      <th>loanamount</th>\n",
       "      <th>loan_amount_term</th>\n",
       "      <th>credit_history</th>\n",
       "      <th>loan_status</th>\n",
       "      <th>total_income</th>\n",
       "      <th>education_graduate</th>\n",
       "      <th>property_area_rural</th>\n",
       "      <th>property_area_semiurban</th>\n",
       "      <th>property_area_urban</th>\n",
       "      <th>has_coapplicant</th>\n",
       "    </tr>\n",
       "  </thead>\n",
       "  <tbody>\n",
       "    <tr>\n",
       "      <th>0</th>\n",
       "      <td>LP001002</td>\n",
       "      <td>1</td>\n",
       "      <td>0</td>\n",
       "      <td>0.0</td>\n",
       "      <td>0</td>\n",
       "      <td>5849</td>\n",
       "      <td>0.0</td>\n",
       "      <td>NaN</td>\n",
       "      <td>360.0</td>\n",
       "      <td>1.0</td>\n",
       "      <td>1</td>\n",
       "      <td>5849.0</td>\n",
       "      <td>1</td>\n",
       "      <td>0</td>\n",
       "      <td>0</td>\n",
       "      <td>1</td>\n",
       "      <td>0</td>\n",
       "    </tr>\n",
       "    <tr>\n",
       "      <th>1</th>\n",
       "      <td>LP001003</td>\n",
       "      <td>1</td>\n",
       "      <td>1</td>\n",
       "      <td>1.0</td>\n",
       "      <td>0</td>\n",
       "      <td>4583</td>\n",
       "      <td>1508.0</td>\n",
       "      <td>128000.0</td>\n",
       "      <td>360.0</td>\n",
       "      <td>1.0</td>\n",
       "      <td>0</td>\n",
       "      <td>6091.0</td>\n",
       "      <td>1</td>\n",
       "      <td>1</td>\n",
       "      <td>0</td>\n",
       "      <td>0</td>\n",
       "      <td>1</td>\n",
       "    </tr>\n",
       "    <tr>\n",
       "      <th>2</th>\n",
       "      <td>LP001005</td>\n",
       "      <td>1</td>\n",
       "      <td>1</td>\n",
       "      <td>0.0</td>\n",
       "      <td>1</td>\n",
       "      <td>3000</td>\n",
       "      <td>0.0</td>\n",
       "      <td>66000.0</td>\n",
       "      <td>360.0</td>\n",
       "      <td>1.0</td>\n",
       "      <td>1</td>\n",
       "      <td>3000.0</td>\n",
       "      <td>1</td>\n",
       "      <td>0</td>\n",
       "      <td>0</td>\n",
       "      <td>1</td>\n",
       "      <td>0</td>\n",
       "    </tr>\n",
       "    <tr>\n",
       "      <th>3</th>\n",
       "      <td>LP001006</td>\n",
       "      <td>1</td>\n",
       "      <td>1</td>\n",
       "      <td>0.0</td>\n",
       "      <td>0</td>\n",
       "      <td>2583</td>\n",
       "      <td>2358.0</td>\n",
       "      <td>120000.0</td>\n",
       "      <td>360.0</td>\n",
       "      <td>1.0</td>\n",
       "      <td>1</td>\n",
       "      <td>4941.0</td>\n",
       "      <td>0</td>\n",
       "      <td>0</td>\n",
       "      <td>0</td>\n",
       "      <td>1</td>\n",
       "      <td>1</td>\n",
       "    </tr>\n",
       "    <tr>\n",
       "      <th>4</th>\n",
       "      <td>LP001008</td>\n",
       "      <td>1</td>\n",
       "      <td>0</td>\n",
       "      <td>0.0</td>\n",
       "      <td>0</td>\n",
       "      <td>6000</td>\n",
       "      <td>0.0</td>\n",
       "      <td>141000.0</td>\n",
       "      <td>360.0</td>\n",
       "      <td>1.0</td>\n",
       "      <td>1</td>\n",
       "      <td>6000.0</td>\n",
       "      <td>1</td>\n",
       "      <td>0</td>\n",
       "      <td>0</td>\n",
       "      <td>1</td>\n",
       "      <td>0</td>\n",
       "    </tr>\n",
       "  </tbody>\n",
       "</table>\n",
       "</div>"
      ],
      "text/plain": [
       "    loan_id  gender  married  dependents  self_employed  applicantincome  \\\n",
       "0  LP001002       1        0         0.0              0             5849   \n",
       "1  LP001003       1        1         1.0              0             4583   \n",
       "2  LP001005       1        1         0.0              1             3000   \n",
       "3  LP001006       1        1         0.0              0             2583   \n",
       "4  LP001008       1        0         0.0              0             6000   \n",
       "\n",
       "   coapplicantincome  loanamount  loan_amount_term  credit_history  \\\n",
       "0                0.0         NaN             360.0             1.0   \n",
       "1             1508.0    128000.0             360.0             1.0   \n",
       "2                0.0     66000.0             360.0             1.0   \n",
       "3             2358.0    120000.0             360.0             1.0   \n",
       "4                0.0    141000.0             360.0             1.0   \n",
       "\n",
       "   loan_status  total_income  education_graduate  property_area_rural  \\\n",
       "0            1        5849.0                   1                    0   \n",
       "1            0        6091.0                   1                    1   \n",
       "2            1        3000.0                   1                    0   \n",
       "3            1        4941.0                   0                    0   \n",
       "4            1        6000.0                   1                    0   \n",
       "\n",
       "   property_area_semiurban  property_area_urban  has_coapplicant  \n",
       "0                        0                    1                0  \n",
       "1                        0                    0                1  \n",
       "2                        0                    1                0  \n",
       "3                        0                    1                1  \n",
       "4                        0                    1                0  "
      ]
     },
     "execution_count": 48,
     "metadata": {},
     "output_type": "execute_result"
    }
   ],
   "source": [
    "df.head()"
   ]
  },
  {
   "cell_type": "code",
   "execution_count": 49,
   "metadata": {},
   "outputs": [],
   "source": [
    "# ratio total_income divide by  dependents +1(applicant) "
   ]
  },
  {
   "cell_type": "code",
   "execution_count": 50,
   "metadata": {},
   "outputs": [],
   "source": [
    "df['income_portion_dependents'] = df.total_income/ (df.dependents +1) "
   ]
  },
  {
   "cell_type": "code",
   "execution_count": 51,
   "metadata": {},
   "outputs": [],
   "source": [
    "#split"
   ]
  },
  {
   "cell_type": "code",
   "execution_count": 52,
   "metadata": {
    "scrolled": false
   },
   "outputs": [
    {
     "name": "stdout",
     "output_type": "stream",
     "text": [
      "complete df -> (500, 18)\n",
      "train -> (280, 18)\n",
      "validate -> (120, 18)\n",
      "test -> (100, 18)\n"
     ]
    }
   ],
   "source": [
    "train, validate, test = p.split_data(df, 'loan_status')"
   ]
  },
  {
   "cell_type": "code",
   "execution_count": 53,
   "metadata": {},
   "outputs": [
    {
     "name": "stdout",
     "output_type": "stream",
     "text": [
      "Your selected dataframe has 18 columns.\n",
      "There are 1 columns that have missing values.\n",
      "  \n",
      "** There are 0 duplicate rows that represents 0.0% of total Values**\n"
     ]
    },
    {
     "data": {
      "text/html": [
       "<div>\n",
       "<style scoped>\n",
       "    .dataframe tbody tr th:only-of-type {\n",
       "        vertical-align: middle;\n",
       "    }\n",
       "\n",
       "    .dataframe tbody tr th {\n",
       "        vertical-align: top;\n",
       "    }\n",
       "\n",
       "    .dataframe thead th {\n",
       "        text-align: right;\n",
       "    }\n",
       "</style>\n",
       "<table border=\"1\" class=\"dataframe\">\n",
       "  <thead>\n",
       "    <tr style=\"text-align: right;\">\n",
       "      <th></th>\n",
       "      <th>Missing Values</th>\n",
       "      <th>% of Total Values</th>\n",
       "    </tr>\n",
       "  </thead>\n",
       "  <tbody>\n",
       "    <tr>\n",
       "      <th>loanamount</th>\n",
       "      <td>9</td>\n",
       "      <td>3.2</td>\n",
       "    </tr>\n",
       "  </tbody>\n",
       "</table>\n",
       "</div>"
      ],
      "text/plain": [
       "            Missing Values  % of Total Values\n",
       "loanamount               9                3.2"
      ]
     },
     "execution_count": 53,
     "metadata": {},
     "output_type": "execute_result"
    }
   ],
   "source": [
    "#checking missing values\n",
    "p.miss_dup_values(train)"
   ]
  },
  {
   "cell_type": "code",
   "execution_count": 54,
   "metadata": {},
   "outputs": [],
   "source": [
    "#using a function to impute the mean\n",
    "train, validate, test = p.impute_mode(train, validate, test)"
   ]
  },
  {
   "cell_type": "code",
   "execution_count": 55,
   "metadata": {
    "scrolled": false
   },
   "outputs": [
    {
     "name": "stdout",
     "output_type": "stream",
     "text": [
      "Your selected dataframe has 18 columns.\n",
      "There are 0 columns that have missing values.\n",
      "  \n",
      "** There are 0 duplicate rows that represents 0.0% of total Values**\n"
     ]
    },
    {
     "data": {
      "text/html": [
       "<div>\n",
       "<style scoped>\n",
       "    .dataframe tbody tr th:only-of-type {\n",
       "        vertical-align: middle;\n",
       "    }\n",
       "\n",
       "    .dataframe tbody tr th {\n",
       "        vertical-align: top;\n",
       "    }\n",
       "\n",
       "    .dataframe thead th {\n",
       "        text-align: right;\n",
       "    }\n",
       "</style>\n",
       "<table border=\"1\" class=\"dataframe\">\n",
       "  <thead>\n",
       "    <tr style=\"text-align: right;\">\n",
       "      <th></th>\n",
       "      <th>Missing Values</th>\n",
       "      <th>% of Total Values</th>\n",
       "    </tr>\n",
       "  </thead>\n",
       "  <tbody>\n",
       "  </tbody>\n",
       "</table>\n",
       "</div>"
      ],
      "text/plain": [
       "Empty DataFrame\n",
       "Columns: [Missing Values, % of Total Values]\n",
       "Index: []"
      ]
     },
     "execution_count": 55,
     "metadata": {},
     "output_type": "execute_result"
    }
   ],
   "source": [
    "p.miss_dup_values(train)"
   ]
  },
  {
   "cell_type": "code",
   "execution_count": 167,
   "metadata": {},
   "outputs": [
    {
     "data": {
      "text/html": [
       "<div>\n",
       "<style scoped>\n",
       "    .dataframe tbody tr th:only-of-type {\n",
       "        vertical-align: middle;\n",
       "    }\n",
       "\n",
       "    .dataframe tbody tr th {\n",
       "        vertical-align: top;\n",
       "    }\n",
       "\n",
       "    .dataframe thead th {\n",
       "        text-align: right;\n",
       "    }\n",
       "</style>\n",
       "<table border=\"1\" class=\"dataframe\">\n",
       "  <thead>\n",
       "    <tr style=\"text-align: right;\">\n",
       "      <th></th>\n",
       "      <th>count</th>\n",
       "      <th>mean</th>\n",
       "      <th>std</th>\n",
       "      <th>min</th>\n",
       "      <th>25%</th>\n",
       "      <th>50%</th>\n",
       "      <th>75%</th>\n",
       "      <th>max</th>\n",
       "    </tr>\n",
       "  </thead>\n",
       "  <tbody>\n",
       "    <tr>\n",
       "      <th>gender</th>\n",
       "      <td>500.0</td>\n",
       "      <td>0.818000</td>\n",
       "      <td>0.386231</td>\n",
       "      <td>0.0</td>\n",
       "      <td>1.000</td>\n",
       "      <td>1.0</td>\n",
       "      <td>1.00</td>\n",
       "      <td>1.0</td>\n",
       "    </tr>\n",
       "    <tr>\n",
       "      <th>married</th>\n",
       "      <td>500.0</td>\n",
       "      <td>0.644000</td>\n",
       "      <td>0.479295</td>\n",
       "      <td>0.0</td>\n",
       "      <td>0.000</td>\n",
       "      <td>1.0</td>\n",
       "      <td>1.00</td>\n",
       "      <td>1.0</td>\n",
       "    </tr>\n",
       "    <tr>\n",
       "      <th>dependents</th>\n",
       "      <td>500.0</td>\n",
       "      <td>0.718000</td>\n",
       "      <td>1.000238</td>\n",
       "      <td>0.0</td>\n",
       "      <td>0.000</td>\n",
       "      <td>0.0</td>\n",
       "      <td>1.00</td>\n",
       "      <td>3.0</td>\n",
       "    </tr>\n",
       "    <tr>\n",
       "      <th>self_employed</th>\n",
       "      <td>500.0</td>\n",
       "      <td>0.132000</td>\n",
       "      <td>0.338830</td>\n",
       "      <td>0.0</td>\n",
       "      <td>0.000</td>\n",
       "      <td>0.0</td>\n",
       "      <td>0.00</td>\n",
       "      <td>1.0</td>\n",
       "    </tr>\n",
       "    <tr>\n",
       "      <th>applicantincome</th>\n",
       "      <td>500.0</td>\n",
       "      <td>5493.644000</td>\n",
       "      <td>6515.668972</td>\n",
       "      <td>150.0</td>\n",
       "      <td>2874.500</td>\n",
       "      <td>3854.0</td>\n",
       "      <td>5764.00</td>\n",
       "      <td>81000.0</td>\n",
       "    </tr>\n",
       "    <tr>\n",
       "      <th>coapplicantincome</th>\n",
       "      <td>500.0</td>\n",
       "      <td>1506.307840</td>\n",
       "      <td>2134.432188</td>\n",
       "      <td>0.0</td>\n",
       "      <td>0.000</td>\n",
       "      <td>1125.5</td>\n",
       "      <td>2253.25</td>\n",
       "      <td>20000.0</td>\n",
       "    </tr>\n",
       "    <tr>\n",
       "      <th>loanamount</th>\n",
       "      <td>482.0</td>\n",
       "      <td>144020.746888</td>\n",
       "      <td>82344.918722</td>\n",
       "      <td>17000.0</td>\n",
       "      <td>100000.000</td>\n",
       "      <td>126500.0</td>\n",
       "      <td>161500.00</td>\n",
       "      <td>700000.0</td>\n",
       "    </tr>\n",
       "    <tr>\n",
       "      <th>loan_amount_term</th>\n",
       "      <td>500.0</td>\n",
       "      <td>343.032000</td>\n",
       "      <td>62.999117</td>\n",
       "      <td>12.0</td>\n",
       "      <td>360.000</td>\n",
       "      <td>360.0</td>\n",
       "      <td>360.00</td>\n",
       "      <td>480.0</td>\n",
       "    </tr>\n",
       "    <tr>\n",
       "      <th>credit_history</th>\n",
       "      <td>500.0</td>\n",
       "      <td>0.774000</td>\n",
       "      <td>0.418658</td>\n",
       "      <td>0.0</td>\n",
       "      <td>1.000</td>\n",
       "      <td>1.0</td>\n",
       "      <td>1.00</td>\n",
       "      <td>1.0</td>\n",
       "    </tr>\n",
       "    <tr>\n",
       "      <th>loan_status</th>\n",
       "      <td>500.0</td>\n",
       "      <td>0.690000</td>\n",
       "      <td>0.462956</td>\n",
       "      <td>0.0</td>\n",
       "      <td>0.000</td>\n",
       "      <td>1.0</td>\n",
       "      <td>1.00</td>\n",
       "      <td>1.0</td>\n",
       "    </tr>\n",
       "    <tr>\n",
       "      <th>total_income</th>\n",
       "      <td>500.0</td>\n",
       "      <td>6999.951840</td>\n",
       "      <td>6605.759256</td>\n",
       "      <td>1442.0</td>\n",
       "      <td>4166.000</td>\n",
       "      <td>5332.5</td>\n",
       "      <td>7495.25</td>\n",
       "      <td>81000.0</td>\n",
       "    </tr>\n",
       "    <tr>\n",
       "      <th>education_graduate</th>\n",
       "      <td>500.0</td>\n",
       "      <td>0.786000</td>\n",
       "      <td>0.410538</td>\n",
       "      <td>0.0</td>\n",
       "      <td>1.000</td>\n",
       "      <td>1.0</td>\n",
       "      <td>1.00</td>\n",
       "      <td>1.0</td>\n",
       "    </tr>\n",
       "    <tr>\n",
       "      <th>property_area_rural</th>\n",
       "      <td>500.0</td>\n",
       "      <td>0.282000</td>\n",
       "      <td>0.450424</td>\n",
       "      <td>0.0</td>\n",
       "      <td>0.000</td>\n",
       "      <td>0.0</td>\n",
       "      <td>1.00</td>\n",
       "      <td>1.0</td>\n",
       "    </tr>\n",
       "    <tr>\n",
       "      <th>property_area_semiurban</th>\n",
       "      <td>500.0</td>\n",
       "      <td>0.376000</td>\n",
       "      <td>0.484865</td>\n",
       "      <td>0.0</td>\n",
       "      <td>0.000</td>\n",
       "      <td>0.0</td>\n",
       "      <td>1.00</td>\n",
       "      <td>1.0</td>\n",
       "    </tr>\n",
       "    <tr>\n",
       "      <th>property_area_urban</th>\n",
       "      <td>500.0</td>\n",
       "      <td>0.342000</td>\n",
       "      <td>0.474855</td>\n",
       "      <td>0.0</td>\n",
       "      <td>0.000</td>\n",
       "      <td>0.0</td>\n",
       "      <td>1.00</td>\n",
       "      <td>1.0</td>\n",
       "    </tr>\n",
       "    <tr>\n",
       "      <th>has_coapplicant</th>\n",
       "      <td>500.0</td>\n",
       "      <td>0.548000</td>\n",
       "      <td>0.498189</td>\n",
       "      <td>0.0</td>\n",
       "      <td>0.000</td>\n",
       "      <td>1.0</td>\n",
       "      <td>1.00</td>\n",
       "      <td>1.0</td>\n",
       "    </tr>\n",
       "    <tr>\n",
       "      <th>income_portion_dependents</th>\n",
       "      <td>500.0</td>\n",
       "      <td>5075.341940</td>\n",
       "      <td>4794.776637</td>\n",
       "      <td>457.5</td>\n",
       "      <td>2357.625</td>\n",
       "      <td>4191.5</td>\n",
       "      <td>6049.00</td>\n",
       "      <td>63337.0</td>\n",
       "    </tr>\n",
       "  </tbody>\n",
       "</table>\n",
       "</div>"
      ],
      "text/plain": [
       "                           count           mean           std      min  \\\n",
       "gender                     500.0       0.818000      0.386231      0.0   \n",
       "married                    500.0       0.644000      0.479295      0.0   \n",
       "dependents                 500.0       0.718000      1.000238      0.0   \n",
       "self_employed              500.0       0.132000      0.338830      0.0   \n",
       "applicantincome            500.0    5493.644000   6515.668972    150.0   \n",
       "coapplicantincome          500.0    1506.307840   2134.432188      0.0   \n",
       "loanamount                 482.0  144020.746888  82344.918722  17000.0   \n",
       "loan_amount_term           500.0     343.032000     62.999117     12.0   \n",
       "credit_history             500.0       0.774000      0.418658      0.0   \n",
       "loan_status                500.0       0.690000      0.462956      0.0   \n",
       "total_income               500.0    6999.951840   6605.759256   1442.0   \n",
       "education_graduate         500.0       0.786000      0.410538      0.0   \n",
       "property_area_rural        500.0       0.282000      0.450424      0.0   \n",
       "property_area_semiurban    500.0       0.376000      0.484865      0.0   \n",
       "property_area_urban        500.0       0.342000      0.474855      0.0   \n",
       "has_coapplicant            500.0       0.548000      0.498189      0.0   \n",
       "income_portion_dependents  500.0    5075.341940   4794.776637    457.5   \n",
       "\n",
       "                                  25%       50%        75%       max  \n",
       "gender                          1.000       1.0       1.00       1.0  \n",
       "married                         0.000       1.0       1.00       1.0  \n",
       "dependents                      0.000       0.0       1.00       3.0  \n",
       "self_employed                   0.000       0.0       0.00       1.0  \n",
       "applicantincome              2874.500    3854.0    5764.00   81000.0  \n",
       "coapplicantincome               0.000    1125.5    2253.25   20000.0  \n",
       "loanamount                 100000.000  126500.0  161500.00  700000.0  \n",
       "loan_amount_term              360.000     360.0     360.00     480.0  \n",
       "credit_history                  1.000       1.0       1.00       1.0  \n",
       "loan_status                     0.000       1.0       1.00       1.0  \n",
       "total_income                 4166.000    5332.5    7495.25   81000.0  \n",
       "education_graduate              1.000       1.0       1.00       1.0  \n",
       "property_area_rural             0.000       0.0       1.00       1.0  \n",
       "property_area_semiurban         0.000       0.0       1.00       1.0  \n",
       "property_area_urban             0.000       0.0       1.00       1.0  \n",
       "has_coapplicant                 0.000       1.0       1.00       1.0  \n",
       "income_portion_dependents    2357.625    4191.5    6049.00   63337.0  "
      ]
     },
     "execution_count": 167,
     "metadata": {},
     "output_type": "execute_result"
    }
   ],
   "source": [
    "df.describe().T"
   ]
  },
  {
   "cell_type": "markdown",
   "metadata": {},
   "source": [
    "### PLOT VARIABLE DISTRIBUTIONS"
   ]
  },
  {
   "cell_type": "code",
   "execution_count": 56,
   "metadata": {
    "scrolled": true
   },
   "outputs": [
    {
     "data": {
      "image/png": "[encoded data removed]",
      "text/plain": [
       "<Figure size 432x288 with 1 Axes>"
      ]
     },
     "metadata": {
      "needs_background": "light"
     },
     "output_type": "display_data"
    },
    {
     "data": {
      "image/png": "[encoded data removed]",
      "text/plain": [
       "<Figure size 432x288 with 1 Axes>"
      ]
     },
     "metadata": {
      "needs_background": "light"
     },
     "output_type": "display_data"
    },
    {
     "data": {
      "image/png": "[encoded data removed]",
      "text/plain": [
       "<Figure size 432x288 with 1 Axes>"
      ]
     },
     "metadata": {
      "needs_background": "light"
     },
     "output_type": "display_data"
    },
    {
     "data": {
      "image/png": "[encoded data removed]",
      "text/plain": [
       "<Figure size 432x288 with 1 Axes>"
      ]
     },
     "metadata": {
      "needs_background": "light"
     },
     "output_type": "display_data"
    },
    {
     "data": {
      "image/png": "[encoded data removed]",
      "text/plain": [
       "<Figure size 432x288 with 1 Axes>"
      ]
     },
     "metadata": {
      "needs_background": "light"
     },
     "output_type": "display_data"
    },
    {
     "data": {
      "image/png": "[encoded data removed]",
      "text/plain": [
       "<Figure size 432x288 with 1 Axes>"
      ]
     },
     "metadata": {
      "needs_background": "light"
     },
     "output_type": "display_data"
    },
    {
     "data": {
      "image/png": "[encoded data removed]",
      "text/plain": [
       "<Figure size 432x288 with 1 Axes>"
      ]
     },
     "metadata": {
      "needs_background": "light"
     },
     "output_type": "display_data"
    },
    {
     "data": {
      "image/png": "[encoded data removed]",
      "text/plain": [
       "<Figure size 432x288 with 1 Axes>"
      ]
     },
     "metadata": {
      "needs_background": "light"
     },
     "output_type": "display_data"
    },
    {
     "data": {
      "image/png": "[encoded data removed]",
      "text/plain": [
       "<Figure size 432x288 with 1 Axes>"
      ]
     },
     "metadata": {
      "needs_background": "light"
     },
     "output_type": "display_data"
    },
    {
     "data": {
      "image/png": "[encoded data removed]",
      "text/plain": [
       "<Figure size 432x288 with 1 Axes>"
      ]
     },
     "metadata": {
      "needs_background": "light"
     },
     "output_type": "display_data"
    },
    {
     "data": {
      "image/png": "[encoded data removed]",
      "text/plain": [
       "<Figure size 432x288 with 1 Axes>"
      ]
     },
     "metadata": {
      "needs_background": "light"
     },
     "output_type": "display_data"
    },
    {
     "data": {
      "image/png": "[encoded data removed]",
      "text/plain": [
       "<Figure size 432x288 with 1 Axes>"
      ]
     },
     "metadata": {
      "needs_background": "light"
     },
     "output_type": "display_data"
    },
    {
     "data": {
      "image/png": "[encoded data removed]",
      "text/plain": [
       "<Figure size 432x288 with 1 Axes>"
      ]
     },
     "metadata": {
      "needs_background": "light"
     },
     "output_type": "display_data"
    },
    {
     "data": {
      "image/png": "[encoded data removed]",
      "text/plain": [
       "<Figure size 432x288 with 1 Axes>"
      ]
     },
     "metadata": {
      "needs_background": "light"
     },
     "output_type": "display_data"
    },
    {
     "data": {
      "image/png": "[encoded data removed]",
      "text/plain": [
       "<Figure size 432x288 with 1 Axes>"
      ]
     },
     "metadata": {
      "needs_background": "light"
     },
     "output_type": "display_data"
    },
    {
     "data": {
      "image/png": "[encoded data removed]",
      "text/plain": [
       "<Figure size 432x288 with 1 Axes>"
      ]
     },
     "metadata": {
      "needs_background": "light"
     },
     "output_type": "display_data"
    },
    {
     "data": {
      "image/png": "[encoded data removed]",
      "text/plain": [
       "<Figure size 432x288 with 1 Axes>"
      ]
     },
     "metadata": {
      "needs_background": "light"
     },
     "output_type": "display_data"
    }
   ],
   "source": [
    "p.distribution(df)"
   ]
  },
  {
   "cell_type": "code",
   "execution_count": 57,
   "metadata": {},
   "outputs": [
    {
     "data": {
      "text/plain": [
       "Index(['loan_id', 'gender', 'married', 'dependents', 'self_employed',\n",
       "       'applicantincome', 'coapplicantincome', 'loanamount',\n",
       "       'loan_amount_term', 'credit_history', 'loan_status', 'total_income',\n",
       "       'education_graduate', 'property_area_rural', 'property_area_semiurban',\n",
       "       'property_area_urban', 'has_coapplicant', 'income_portion_dependents'],\n",
       "      dtype='object')"
      ]
     },
     "execution_count": 57,
     "metadata": {},
     "output_type": "execute_result"
    }
   ],
   "source": [
    "df.columns"
   ]
  },
  {
   "cell_type": "code",
   "execution_count": 58,
   "metadata": {},
   "outputs": [],
   "source": [
    "cols = [ 'applicantincome', 'coapplicantincome', 'loanamount','loan_amount_term', 'total_income', 'income_portion_dependents']"
   ]
  },
  {
   "cell_type": "code",
   "execution_count": 59,
   "metadata": {
    "scrolled": false
   },
   "outputs": [
    {
     "data": {
      "image/png": "[encoded data removed]",
      "text/plain": [
       "<Figure size 936x432 with 2 Axes>"
      ]
     },
     "metadata": {
      "needs_background": "light"
     },
     "output_type": "display_data"
    },
    {
     "data": {
      "image/png": "[encoded data removed]",
      "text/plain": [
       "<Figure size 936x432 with 2 Axes>"
      ]
     },
     "metadata": {
      "needs_background": "light"
     },
     "output_type": "display_data"
    },
    {
     "data": {
      "image/png": "[encoded data removed]",
      "text/plain": [
       "<Figure size 936x432 with 2 Axes>"
      ]
     },
     "metadata": {
      "needs_background": "light"
     },
     "output_type": "display_data"
    },
    {
     "data": {
      "image/png": "[encoded data removed]",
      "text/plain": [
       "<Figure size 936x432 with 2 Axes>"
      ]
     },
     "metadata": {
      "needs_background": "light"
     },
     "output_type": "display_data"
    },
    {
     "data": {
      "image/png": "[encoded data removed]",
      "text/plain": [
       "<Figure size 936x432 with 2 Axes>"
      ]
     },
     "metadata": {
      "needs_background": "light"
     },
     "output_type": "display_data"
    },
    {
     "data": {
      "image/png": "[encoded data removed]",
      "text/plain": [
       "<Figure size 936x432 with 2 Axes>"
      ]
     },
     "metadata": {
      "needs_background": "light"
     },
     "output_type": "display_data"
    }
   ],
   "source": [
    "train_scaled, validate_scaled, test_scaled = p.scaled_df(train, validate, test, cols , RobustScaler())"
   ]
  },
  {
   "cell_type": "markdown",
   "metadata": {},
   "source": [
    "Prepare :\n",
    "- drop unnamed column\n",
    "- rename columns(lowercase)\n",
    "- remove $ and change type of total_income\n",
    "- remove + and change type for dependents\n",
    "    0 = no dependents\n",
    "    1 = 1 dependents\n",
    "    2 =  two dependents\n",
    "    3 = three or more dependets\n",
    "- fill nulls values\n",
    "\n",
    "    - credit_history : 0\n",
    "    - self_employed :0\n",
    "    - dependents : 0\n",
    "    - gender : most common Male\n",
    "    - married :0\n",
    "    - loan_term : most common 360\n",
    "- loanamount was given in thousands so I just multiply by 1000\n",
    "- encode loan_status, self_employed, married, gender\n",
    "- create dummy  ('education', 'property_area) , drop 'education', 'property_area','education_not graduate']\n",
    "-  create new columns:\n",
    "    - has_coapplicant\n",
    "    - income_portion_dependents\n",
    "    \n",
    "- split into train, validate and test  Test is 20\\% of the original dataset, validate is .30 \\*.80= 24\\% of the \n",
    "    original dataset, and train is .70\\*.80= 56\\% \n",
    "- fill na (loanaamoun) with  simpleimputer (mean)\n",
    "- Scale data using robust"
   ]
  },
  {
   "cell_type": "markdown",
   "metadata": {},
   "source": [
    "# Explore"
   ]
  },
  {
   "cell_type": "code",
   "execution_count": 60,
   "metadata": {},
   "outputs": [
    {
     "data": {
      "image/png": "[encoded data removed]",
      "text/plain": [
       "<Figure size 936x576 with 1 Axes>"
      ]
     },
     "metadata": {
      "needs_background": "light"
     },
     "output_type": "display_data"
    }
   ],
   "source": [
    "#  I want to start exploring  my target\n",
    "plt.figure(figsize=(13, 8))\n",
    "train['loan_status'].hist(grid=False, color = 'teal')\n",
    "plt.xlabel(\"loan_status\")\n",
    "plt.ylabel(\"Number of applications\")                               \n",
    "#plt.xlim(-2 ,3)\n",
    "plt.show()"
   ]
  },
  {
   "cell_type": "code",
   "execution_count": 61,
   "metadata": {},
   "outputs": [
    {
     "data": {
      "text/plain": [
       "0.6892857142857143"
      ]
     },
     "execution_count": 61,
     "metadata": {},
     "output_type": "execute_result"
    }
   ],
   "source": [
    "train['loan_status'].mean()"
   ]
  },
  {
   "cell_type": "code",
   "execution_count": 62,
   "metadata": {},
   "outputs": [
    {
     "data": {
      "image/png": "[encoded data removed]",
      "text/plain": [
       "<Figure size 576x720 with 1 Axes>"
      ]
     },
     "metadata": {
      "needs_background": "light"
     },
     "output_type": "display_data"
    }
   ],
   "source": [
    "plt.figure(figsize=(8, 10))\n",
    "sns.histplot(train,\n",
    "                 x=train['loan_status'],\n",
    "                 hue='loan_status',\n",
    "                 multiple='layer'\n",
    "                 )\n",
    "plt.title(\"Distribution of Loan Status\")\n",
    "plt.xlabel('loan_status')\n",
    "plt.ylabel('No. Applications')\n",
    "plt.show()"
   ]
  },
  {
   "cell_type": "markdown",
   "metadata": {},
   "source": [
    "### Heatmap"
   ]
  },
  {
   "cell_type": "code",
   "execution_count": 65,
   "metadata": {},
   "outputs": [
    {
     "data": {
      "image/png": "[encoded data removed]",
      "text/plain": [
       "<Figure size 1080x1080 with 2 Axes>"
      ]
     },
     "metadata": {
      "needs_background": "light"
     },
     "output_type": "display_data"
    }
   ],
   "source": [
    "plt.figure(figsize=(15, 15))\n",
    "sns.heatmap(train.corr(), cmap='coolwarm', annot=True, linewidth=0.5)\n",
    "plt.show()"
   ]
  },
  {
   "cell_type": "markdown",
   "metadata": {
    "scrolled": true
   },
   "source": [
    " We can see the correlation between features and features and Target\n",
    "- credit_history  has the strongest correlation with our target\n",
    "- total_income vs loanamount\n",
    "- married vs gender\n",
    "- married vs coapplicant"
   ]
  },
  {
   "cell_type": "code",
   "execution_count": 66,
   "metadata": {
    "scrolled": false
   },
   "outputs": [
    {
     "data": {
      "image/png": "[encoded data removed]",
      "text/plain": [
       "<Figure size 576x864 with 2 Axes>"
      ]
     },
     "metadata": {
      "needs_background": "light"
     },
     "output_type": "display_data"
    }
   ],
   "source": [
    "#let's focus on my target\n",
    "plt.figure(figsize=(8, 12))\n",
    "heatmap = sns.heatmap(train.corr()[['loan_status']].sort_values(by='loan_status', ascending=False), vmin=-3, vmax=3, annot=True, cmap='coolwarm')"
   ]
  },
  {
   "cell_type": "markdown",
   "metadata": {},
   "source": [
    "**takeways**\n",
    "- we can see there is not a lot of fetaures with stonger correlation with our target. I can consider do culstering."
   ]
  },
  {
   "cell_type": "markdown",
   "metadata": {},
   "source": [
    "### Bivariate exploration"
   ]
  },
  {
   "cell_type": "code",
   "execution_count": 141,
   "metadata": {},
   "outputs": [],
   "source": [
    "features = ['credit_history', 'gender','education_graduate', ]"
   ]
  },
  {
   "cell_type": "code",
   "execution_count": 142,
   "metadata": {
    "scrolled": true
   },
   "outputs": [
    {
     "data": {
      "image/png": "[encoded data removed]",
      "text/plain": [
       "<Figure size 1152x432 with 3 Axes>"
      ]
     },
     "metadata": {
      "needs_background": "light"
     },
     "output_type": "display_data"
    }
   ],
   "source": [
    "#use my function to plot \n",
    "e.bar_plot(features, train)"
   ]
  },
  {
   "cell_type": "markdown",
   "metadata": {},
   "source": [
    "**takeaways**\n",
    "- people with  credit_history are more likely to be approved for a loan\n",
    "- males are more likely to be approved (but we have more males applying that women)\n",
    "- graduated applicants are more likely to be approved"
   ]
  },
  {
   "cell_type": "code",
   "execution_count": 147,
   "metadata": {
    "scrolled": true
   },
   "outputs": [
    {
     "data": {
      "image/png": "[encoded data removed]",
      "text/plain": [
       "<Figure size 1152x432 with 2 Axes>"
      ]
     },
     "metadata": {
      "needs_background": "light"
     },
     "output_type": "display_data"
    }
   ],
   "source": [
    "e.bar_plot(['loan_amount_term','married'], train)"
   ]
  },
  {
   "cell_type": "code",
   "execution_count": 152,
   "metadata": {},
   "outputs": [
    {
     "data": {
      "text/plain": [
       "360.0    244\n",
       "180.0     17\n",
       "480.0      7\n",
       "300.0      5\n",
       "60.0       2\n",
       "240.0      2\n",
       "12.0       1\n",
       "36.0       1\n",
       "120.0      1\n",
       "Name: loan_amount_term, dtype: int64"
      ]
     },
     "execution_count": 152,
     "metadata": {},
     "output_type": "execute_result"
    }
   ],
   "source": [
    "train.loan_amount_term.value_counts()"
   ]
  },
  {
   "cell_type": "markdown",
   "metadata": {},
   "source": [
    "**takeaways**\n",
    "- loan_amount_term that are approved 100\\% 12,60,120,240 months\n",
    "- loan_amount_term of 480 months is the lowest rate to  be approved."
   ]
  },
  {
   "cell_type": "code",
   "execution_count": 148,
   "metadata": {
    "scrolled": true
   },
   "outputs": [
    {
     "data": {
      "image/png": "[encoded data removed]",
      "text/plain": [
       "<Figure size 1152x432 with 3 Axes>"
      ]
     },
     "metadata": {
      "needs_background": "light"
     },
     "output_type": "display_data"
    }
   ],
   "source": [
    "e.bar_plot(['property_area_urban', 'property_area_semiurban','property_area_rural'], train)"
   ]
  },
  {
   "cell_type": "markdown",
   "metadata": {},
   "source": [
    "**takeaways**\n",
    "- property_area_semiurban has the higher rate to be approved."
   ]
  },
  {
   "cell_type": "markdown",
   "metadata": {},
   "source": [
    "### Multivariate exploration"
   ]
  },
  {
   "cell_type": "markdown",
   "metadata": {},
   "source": [
    "**total_income vs loanamount**  with no dependents"
   ]
  },
  {
   "cell_type": "code",
   "execution_count": 161,
   "metadata": {
    "scrolled": false
   },
   "outputs": [
    {
     "data": {
      "text/plain": [
       "(0.0, 28000.0)"
      ]
     },
     "execution_count": 161,
     "metadata": {},
     "output_type": "execute_result"
    },
    {
     "data": {
      "image/png": "[encoded data removed]",
      "text/plain": [
       "<Figure size 1152x1152 with 1 Axes>"
      ]
     },
     "metadata": {
      "needs_background": "light"
     },
     "output_type": "display_data"
    }
   ],
   "source": [
    "\n",
    "plt.figure(figsize= (16,16))\n",
    "sns.scatterplot(x='total_income', y='loanamount', data=train[train.dependents ==0] , hue='loan_status')\n",
    "plt.ylim(0,450000)\n",
    "plt.xlim(0,28000)"
   ]
  },
  {
   "cell_type": "markdown",
   "metadata": {},
   "source": [
    "**takeaways** no dependents\n",
    "- aproved: total_income >=10, 000 and loanamount< 19000  are approved\n",
    "- reject total_income <7,000 and loanamount >20,000"
   ]
  },
  {
   "cell_type": "code",
   "execution_count": null,
   "metadata": {},
   "outputs": [],
   "source": [
    "# dependents vs total_income"
   ]
  },
  {
   "cell_type": "code",
   "execution_count": 67,
   "metadata": {
    "scrolled": false
   },
   "outputs": [
    {
     "data": {
      "text/plain": [
       "(0.0, 30000.0)"
      ]
     },
     "execution_count": 67,
     "metadata": {},
     "output_type": "execute_result"
    },
    {
     "data": {
      "image/png": "[encoded data removed]",
      "text/plain": [
       "<Figure size 1152x1152 with 1 Axes>"
      ]
     },
     "metadata": {
      "needs_background": "light"
     },
     "output_type": "display_data"
    }
   ],
   "source": [
    "plt.figure(figsize= (16,16))\n",
    "sns.scatterplot(x='dependents', y='total_income', data=train, hue='loan_status')\n",
    "plt.ylim(0,30000)"
   ]
  },
  {
   "cell_type": "code",
   "execution_count": null,
   "metadata": {},
   "outputs": [],
   "source": [
    "**takeways**\n",
    "- I can see the botton is not approved \n",
    "- total_income > 7500 for dependets = 2 are approved\n",
    "- we need to check what other factors lead to approved the loan"
   ]
  },
  {
   "cell_type": "code",
   "execution_count": 165,
   "metadata": {
    "scrolled": true
   },
   "outputs": [
    {
     "data": {
      "text/plain": [
       "(0.0, 3000.0)"
      ]
     },
     "execution_count": 165,
     "metadata": {},
     "output_type": "execute_result"
    },
    {
     "data": {
      "image/png": "[encoded data removed]",
      "text/plain": [
       "<Figure size 720x720 with 1 Axes>"
      ]
     },
     "metadata": {
      "needs_background": "light"
     },
     "output_type": "display_data"
    }
   ],
   "source": [
    "#let's zoom  for low total_income\n",
    "plt.figure(figsize= (10,10))\n",
    "sns.scatterplot(x='dependents', y='total_income', data=train, hue='loan_status')\n",
    "plt.ylim(0,3000)"
   ]
  },
  {
   "cell_type": "markdown",
   "metadata": {},
   "source": [
    "**takeaways**\n",
    "- total_income < 2100 are not approved"
   ]
  },
  {
   "cell_type": "code",
   "execution_count": 168,
   "metadata": {
    "scrolled": true
   },
   "outputs": [
    {
     "data": {
      "text/plain": [
       "(0.0, 25000.0)"
      ]
     },
     "execution_count": 168,
     "metadata": {},
     "output_type": "execute_result"
    },
    {
     "data": {
      "image/png": "[encoded data removed]",
      "text/plain": [
       "<Figure size 1152x1152 with 1 Axes>"
      ]
     },
     "metadata": {
      "needs_background": "light"
     },
     "output_type": "display_data"
    }
   ],
   "source": [
    "plt.figure(figsize= (16,16))\n",
    "sns.scatterplot(x='total_income', y='loanamount', data=train[train.dependents ==2] , hue='loan_status')\n",
    "# plt.ylim(0,300000)\n",
    "\n",
    "plt.xlim(0,25000)"
   ]
  },
  {
   "cell_type": "code",
   "execution_count": null,
   "metadata": {},
   "outputs": [],
   "source": [
    "**takeaways** dependents ==2\n",
    "- tota_income >8000 are approved"
   ]
  },
  {
   "cell_type": "code",
   "execution_count": null,
   "metadata": {},
   "outputs": [],
   "source": [
    "# Statistical Test"
   ]
  },
  {
   "cell_type": "markdown",
   "metadata": {},
   "source": [
    "loan_amount_term \n",
    "\n",
    "- $H_o$: Rate of loan_status  is not dependent on loan_amount_term.\n",
    "- $H_a$: Rate of loan_status  is  dependent on loan_amount_term.\n",
    "Significance level 𝛼 = 0.05\n",
    "\n",
    "\n",
    "\n",
    "- loan_amount_term = categorical\n",
    "- loan_status = categorical\n",
    "- categorical vs categorical = chi square"
   ]
  },
  {
   "cell_type": "code",
   "execution_count": 172,
   "metadata": {},
   "outputs": [],
   "source": [
    "alpha = 0.05"
   ]
  },
  {
   "cell_type": "code",
   "execution_count": 173,
   "metadata": {
    "scrolled": true
   },
   "outputs": [
    {
     "data": {
      "text/html": [
       "<div>\n",
       "<style scoped>\n",
       "    .dataframe tbody tr th:only-of-type {\n",
       "        vertical-align: middle;\n",
       "    }\n",
       "\n",
       "    .dataframe tbody tr th {\n",
       "        vertical-align: top;\n",
       "    }\n",
       "\n",
       "    .dataframe thead th {\n",
       "        text-align: right;\n",
       "    }\n",
       "</style>\n",
       "<table border=\"1\" class=\"dataframe\">\n",
       "  <thead>\n",
       "    <tr style=\"text-align: right;\">\n",
       "      <th>loan_status</th>\n",
       "      <th>0</th>\n",
       "      <th>1</th>\n",
       "    </tr>\n",
       "    <tr>\n",
       "      <th>loan_amount_term</th>\n",
       "      <th></th>\n",
       "      <th></th>\n",
       "    </tr>\n",
       "  </thead>\n",
       "  <tbody>\n",
       "    <tr>\n",
       "      <th>12.0</th>\n",
       "      <td>0</td>\n",
       "      <td>1</td>\n",
       "    </tr>\n",
       "    <tr>\n",
       "      <th>36.0</th>\n",
       "      <td>1</td>\n",
       "      <td>0</td>\n",
       "    </tr>\n",
       "    <tr>\n",
       "      <th>60.0</th>\n",
       "      <td>0</td>\n",
       "      <td>2</td>\n",
       "    </tr>\n",
       "    <tr>\n",
       "      <th>120.0</th>\n",
       "      <td>0</td>\n",
       "      <td>1</td>\n",
       "    </tr>\n",
       "    <tr>\n",
       "      <th>180.0</th>\n",
       "      <td>5</td>\n",
       "      <td>12</td>\n",
       "    </tr>\n",
       "    <tr>\n",
       "      <th>240.0</th>\n",
       "      <td>0</td>\n",
       "      <td>2</td>\n",
       "    </tr>\n",
       "    <tr>\n",
       "      <th>300.0</th>\n",
       "      <td>2</td>\n",
       "      <td>3</td>\n",
       "    </tr>\n",
       "    <tr>\n",
       "      <th>360.0</th>\n",
       "      <td>74</td>\n",
       "      <td>170</td>\n",
       "    </tr>\n",
       "    <tr>\n",
       "      <th>480.0</th>\n",
       "      <td>5</td>\n",
       "      <td>2</td>\n",
       "    </tr>\n",
       "  </tbody>\n",
       "</table>\n",
       "</div>"
      ],
      "text/plain": [
       "loan_status        0    1\n",
       "loan_amount_term         \n",
       "12.0               0    1\n",
       "36.0               1    0\n",
       "60.0               0    2\n",
       "120.0              0    1\n",
       "180.0              5   12\n",
       "240.0              0    2\n",
       "300.0              2    3\n",
       "360.0             74  170\n",
       "480.0              5    2"
      ]
     },
     "execution_count": 173,
     "metadata": {},
     "output_type": "execute_result"
    }
   ],
   "source": [
    "\n",
    "observed = pd.crosstab(train.loan_amount_term, train.loan_status)\n",
    "observed"
   ]
  },
  {
   "cell_type": "code",
   "execution_count": 174,
   "metadata": {
    "scrolled": false
   },
   "outputs": [
    {
     "name": "stdout",
     "output_type": "stream",
     "text": [
      "Observed\n",
      "\n",
      "[[  0   1]\n",
      " [  1   0]\n",
      " [  0   2]\n",
      " [  0   1]\n",
      " [  5  12]\n",
      " [  0   2]\n",
      " [  2   3]\n",
      " [ 74 170]\n",
      " [  5   2]]\n",
      "---\n",
      "Expected\n",
      "\n",
      "[[  0   0]\n",
      " [  0   0]\n",
      " [  0   1]\n",
      " [  0   0]\n",
      " [  5  11]\n",
      " [  0   1]\n",
      " [  1   3]\n",
      " [ 75 168]\n",
      " [  2   4]]\n",
      "---\n",
      "\n",
      "chi^2 = 10.5173\n",
      "p     = 0.2306\n"
     ]
    }
   ],
   "source": [
    "chi2, p, degf, expected =stats.chi2_contingency(observed)\n",
    "print('Observed\\n')\n",
    "print(observed.values)\n",
    "print('---\\nExpected\\n')\n",
    "print(expected.astype(int))\n",
    "print('---\\n')\n",
    "print(f'chi^2 = {chi2:.4f}')\n",
    "print(f'p     = {p:.4f}')"
   ]
  },
  {
   "cell_type": "code",
   "execution_count": 175,
   "metadata": {},
   "outputs": [
    {
     "name": "stdout",
     "output_type": "stream",
     "text": [
      "we fail to reject the null\n"
     ]
    }
   ],
   "source": [
    "if p < alpha:\n",
    "    print('We reject the null Hypothesis')\n",
    "else:\n",
    "    print(\"we fail to reject the null\")"
   ]
  },
  {
   "cell_type": "code",
   "execution_count": null,
   "metadata": {},
   "outputs": [],
   "source": [
    "Tenure\n",
    "\n",
    "𝐻𝑜 : There is no difference in churn rate between customers with 1 month of tenure and the customers with longer tenure\n",
    "𝐻𝑎 : There is a difference in churn rate between customers with 1 month of tenure and the customers with longer tenure\n",
    "Significance level $\\alpha$ = 0.05\n",
    "\n",
    "tenure_months = continous\n",
    "churn = categorical\n",
    "continous vs categorical = T-test, One sample T-test, 2-tailed test"
   ]
  },
  {
   "cell_type": "markdown",
   "metadata": {},
   "source": [
    "# Model"
   ]
  },
  {
   "cell_type": "code",
   "execution_count": 71,
   "metadata": {},
   "outputs": [
    {
     "name": "stdout",
     "output_type": "stream",
     "text": [
      "X_train -> (280, 17)               y_train->(280,)\n",
      "X_validate -> (120, 17)         y_validate->(120,) \n",
      "X_test -> (100, 17)                  y_test>(100,)\n"
     ]
    }
   ],
   "source": [
    "#split my data X and y (using my function)\n",
    "X_train, y_train, X_validate, y_validate, X_test, y_test = p.split_Xy (train, validate, test, 'loan_status' )"
   ]
  },
  {
   "cell_type": "markdown",
   "metadata": {},
   "source": [
    "**Baseline** the most frequent value of loan_status"
   ]
  },
  {
   "cell_type": "code",
   "execution_count": 72,
   "metadata": {},
   "outputs": [
    {
     "data": {
      "text/plain": [
       "1    193\n",
       "Name: loan_status, dtype: int64"
      ]
     },
     "execution_count": 72,
     "metadata": {},
     "output_type": "execute_result"
    }
   ],
   "source": [
    "#get the most frequent value.  \n",
    "y_train.value_counts().nlargest(1)"
   ]
  },
  {
   "cell_type": "code",
   "execution_count": 73,
   "metadata": {},
   "outputs": [],
   "source": [
    "# 1. Create the object\n",
    "baseline = DummyClassifier(strategy='constant', constant=1)\n"
   ]
  },
  {
   "cell_type": "code",
   "execution_count": 74,
   "metadata": {
    "scrolled": true
   },
   "outputs": [
    {
     "name": "stdout",
     "output_type": "stream",
     "text": [
      "The baseline accuracy for loan_status in all cases on the telco Dataset is 68.929%\n"
     ]
    }
   ],
   "source": [
    "# 2. Fit the object\n",
    "baseline.fit(X_train, y_train)\n",
    "print(f'The baseline accuracy for loan_status in all cases on the telco Dataset is {baseline.score(X_train, y_train):.3%}')"
   ]
  },
  {
   "cell_type": "code",
   "execution_count": 75,
   "metadata": {},
   "outputs": [],
   "source": [
    "# Select features "
   ]
  },
  {
   "cell_type": "code",
   "execution_count": 76,
   "metadata": {},
   "outputs": [],
   "source": [
    "#get all the columns except \n",
    "cols =X_train.columns[1:]"
   ]
  },
  {
   "cell_type": "code",
   "execution_count": 77,
   "metadata": {},
   "outputs": [],
   "source": [
    "#Select_kbest"
   ]
  },
  {
   "cell_type": "code",
   "execution_count": 78,
   "metadata": {},
   "outputs": [],
   "source": [
    "#from sklearn.feature_selection import SelectKBest"
   ]
  },
  {
   "cell_type": "code",
   "execution_count": 79,
   "metadata": {
    "scrolled": true
   },
   "outputs": [
    {
     "name": "stdout",
     "output_type": "stream",
     "text": [
      "The top 4 selected feautures based on the SelectKBest class are: ['gender', 'credit_history', 'education_graduate', 'property_area_semiurban']\n"
     ]
    }
   ],
   "source": [
    "top_col = m.select_kbest (X_train[cols], y_train, 4)"
   ]
  },
  {
   "cell_type": "code",
   "execution_count": 80,
   "metadata": {},
   "outputs": [
    {
     "data": {
      "text/plain": [
       "['gender', 'credit_history', 'education_graduate', 'property_area_semiurban']"
      ]
     },
     "execution_count": 80,
     "metadata": {},
     "output_type": "execute_result"
    }
   ],
   "source": [
    "top_col[:4]"
   ]
  },
  {
   "cell_type": "markdown",
   "metadata": {},
   "source": [
    "### Model 1 :Decision Tree"
   ]
  },
  {
   "cell_type": "code",
   "execution_count": 81,
   "metadata": {
    "scrolled": true
   },
   "outputs": [
    {
     "name": "stdout",
     "output_type": "stream",
     "text": [
      "training score: 77.14%\n",
      "validate score: 77.50%\n"
     ]
    }
   ],
   "source": [
    "# create the model using select_kbest\n",
    "model_dtl= DecisionTreeClassifier(max_depth=3)\n",
    "# fit the model\n",
    "model_dtl.fit(X_train[top_col], y_train)\n",
    "\n",
    "# look at the model scores for training set and validate set\n",
    "print(f'training score: {model_dtl.score(X_train[top_col], y_train):.2%}')\n",
    "print(f'validate score: {model_dtl.score(X_validate[top_col], y_validate):.2%}')"
   ]
  },
  {
   "cell_type": "code",
   "execution_count": null,
   "metadata": {},
   "outputs": [],
   "source": []
  },
  {
   "cell_type": "code",
   "execution_count": 82,
   "metadata": {
    "scrolled": true
   },
   "outputs": [
    {
     "name": "stdout",
     "output_type": "stream",
     "text": [
      "The top 4 selected feautures based on the the RFE class class are: ['applicantincome', 'credit_history', 'total_income', 'property_area_semiurban']\n",
      "applicantincome               1\n",
      "credit_history                1\n",
      "total_income                  1\n",
      "property_area_semiurban       1\n",
      "coapplicantincome             2\n",
      "loan_amount_term              3\n",
      "income_portion_dependents     4\n",
      "has_coapplicant               5\n",
      "property_area_urban           6\n",
      "property_area_rural           7\n",
      "education_graduate            8\n",
      "loanamount                    9\n",
      "self_employed                10\n",
      "dependents                   11\n",
      "married                      12\n",
      "gender                       13\n",
      "dtype: int64\n"
     ]
    }
   ],
   "source": [
    "#RFE columns\n",
    "top_rfe = m.select_rfe (X_train[cols], y_train, 4, DecisionTreeClassifier(max_depth=3))"
   ]
  },
  {
   "cell_type": "code",
   "execution_count": 83,
   "metadata": {},
   "outputs": [
    {
     "name": "stdout",
     "output_type": "stream",
     "text": [
      "training score: 80.71%\n",
      "validate score: 72.50%\n"
     ]
    }
   ],
   "source": [
    "# create the model with RFE columns\n",
    "model_dt2= DecisionTreeClassifier(max_depth=4)\n",
    "# fit the model\n",
    "model_dt2.fit(X_train[top_rfe], y_train)\n",
    "\n",
    "# look at the model scores for training set and validate set\n",
    "print(f'training score: {model_dt2.score(X_train[top_rfe], y_train):.2%}')\n",
    "print(f'validate score: {model_dt2.score(X_validate[top_rfe], y_validate):.2%}')"
   ]
  },
  {
   "cell_type": "markdown",
   "metadata": {},
   "source": [
    "**takeaways**\n",
    "- best model : model_dtl\n",
    "\n",
    "    -training score: 77.14\\%  \n",
    "    -validate score: 77.50\\%"
   ]
  },
  {
   "cell_type": "markdown",
   "metadata": {},
   "source": [
    "###  Model 2 : Random Forest"
   ]
  },
  {
   "cell_type": "code",
   "execution_count": 84,
   "metadata": {
    "scrolled": true
   },
   "outputs": [
    {
     "name": "stdout",
     "output_type": "stream",
     "text": [
      "training score: 81.43%\n",
      "validate score: 77.50%\n"
     ]
    }
   ],
   "source": [
    "# create the Random Forest Model using all columns\n",
    "model_rf1 = RandomForestClassifier(min_samples_leaf=8, max_depth=6, random_state=1349, max_features= 7)\n",
    "# fit the thing\n",
    "model_rf1.fit(X_train[cols], y_train)\n",
    "# look at the model scores for training set and validate set\n",
    "print(f'training score: {model_rf1.score(X_train[cols], y_train):.2%}')\n",
    "print(f'validate score: {model_rf1.score(X_validate[cols], y_validate):.2%}')"
   ]
  },
  {
   "cell_type": "code",
   "execution_count": 85,
   "metadata": {},
   "outputs": [],
   "source": [
    "#Seleck_kbest"
   ]
  },
  {
   "cell_type": "code",
   "execution_count": 86,
   "metadata": {},
   "outputs": [
    {
     "name": "stdout",
     "output_type": "stream",
     "text": [
      "training score: 77.14%\n",
      "validate score: 77.50%\n"
     ]
    }
   ],
   "source": [
    "# create the Random Forest Model\n",
    "model_rf2 = RandomForestClassifier(min_samples_leaf=8, max_depth=6, random_state=1349)\n",
    "# fit the thing\n",
    "model_rf2.fit(X_train[top_col], y_train)\n",
    "# look at the model scores for training set and validate set\n",
    "print(f'training score: {model_rf2.score(X_train[top_col], y_train):.2%}')\n",
    "print(f'validate score: {model_rf2.score(X_validate[top_col], y_validate):.2%}')"
   ]
  },
  {
   "cell_type": "code",
   "execution_count": 87,
   "metadata": {},
   "outputs": [],
   "source": [
    "#RFE"
   ]
  },
  {
   "cell_type": "code",
   "execution_count": 88,
   "metadata": {},
   "outputs": [
    {
     "name": "stdout",
     "output_type": "stream",
     "text": [
      "The top 4 selected feautures based on the the RFE class class are: ['applicantincome', 'credit_history', 'total_income', 'income_portion_dependents']\n",
      "applicantincome               1\n",
      "credit_history                1\n",
      "total_income                  1\n",
      "income_portion_dependents     1\n",
      "loanamount                    2\n",
      "coapplicantincome             3\n",
      "property_area_semiurban       4\n",
      "gender                        5\n",
      "dependents                    6\n",
      "loan_amount_term              7\n",
      "education_graduate            8\n",
      "property_area_rural           9\n",
      "has_coapplicant              10\n",
      "married                      11\n",
      "self_employed                12\n",
      "property_area_urban          13\n",
      "dtype: int64\n"
     ]
    }
   ],
   "source": [
    "\n",
    "top_rfe = m.select_rfe (X_train[cols], y_train, 4, RandomForestClassifier(min_samples_leaf=3, max_depth=6, random_state=1349))"
   ]
  },
  {
   "cell_type": "code",
   "execution_count": 89,
   "metadata": {},
   "outputs": [
    {
     "name": "stdout",
     "output_type": "stream",
     "text": [
      "training score: 82.86%\n",
      "validate score: 76.67%\n"
     ]
    }
   ],
   "source": [
    "# create the Random Forest Model\n",
    "model_rf3 = RandomForestClassifier(min_samples_leaf=4, max_depth=6, random_state=1349)\n",
    "# fit the thing\n",
    "model_rf3.fit(X_train[top_rfe], y_train)\n",
    "# look at the model scores for training set and validate set\n",
    "print(f'training score: {model_rf3.score(X_train[top_rfe], y_train):.2%}')\n",
    "print(f'validate score: {model_rf3.score(X_validate[top_rfe], y_validate):.2%}')"
   ]
  },
  {
   "cell_type": "markdown",
   "metadata": {},
   "source": [
    "**takeaways**\n",
    "- best model : model_rf2\n",
    "\n",
    "    -training score: 77.14\\%  \n",
    "    -validate score: 77.50\\%"
   ]
  },
  {
   "cell_type": "markdown",
   "metadata": {},
   "source": [
    "###  Model 3 : KNN"
   ]
  },
  {
   "cell_type": "code",
   "execution_count": 90,
   "metadata": {
    "scrolled": true
   },
   "outputs": [
    {
     "name": "stdout",
     "output_type": "stream",
     "text": [
      "Model: 29 when k is 29\n",
      "training score: 69.29%\n",
      "validate score: 69.17%\n",
      "__________________________________________________________\n",
      "Model: 30 when k is 30\n",
      "training score: 70.00%\n",
      "validate score: 69.17%\n",
      "__________________________________________________________\n",
      "Model: 31 when k is 31\n",
      "training score: 68.93%\n",
      "validate score: 69.17%\n",
      "__________________________________________________________\n",
      "Model: 32 when k is 32\n",
      "training score: 69.29%\n",
      "validate score: 69.17%\n",
      "__________________________________________________________\n",
      "Model: 33 when k is 33\n",
      "training score: 68.93%\n",
      "validate score: 69.17%\n",
      "__________________________________________________________\n",
      "Model: 34 when k is 34\n",
      "training score: 68.93%\n",
      "validate score: 69.17%\n",
      "__________________________________________________________\n",
      "Model: 35 when k is 35\n",
      "training score: 68.93%\n",
      "validate score: 69.17%\n",
      "__________________________________________________________\n",
      "Model: 36 when k is 36\n",
      "training score: 68.93%\n",
      "validate score: 69.17%\n",
      "__________________________________________________________\n",
      "Model: 37 when k is 37\n",
      "training score: 68.93%\n",
      "validate score: 69.17%\n",
      "__________________________________________________________\n",
      "Model: 38 when k is 38\n",
      "training score: 68.93%\n",
      "validate score: 69.17%\n",
      "__________________________________________________________\n",
      "Model: 39 when k is 39\n",
      "training score: 68.93%\n",
      "validate score: 69.17%\n",
      "__________________________________________________________\n",
      "Model: 40 when k is 40\n",
      "training score: 68.93%\n",
      "validate score: 69.17%\n",
      "__________________________________________________________\n"
     ]
    }
   ],
   "source": [
    "#getting the best k value with all columns\n",
    "for k in range(29, 41):\n",
    "    knn = KNeighborsClassifier(n_neighbors=k)\n",
    "    knn.fit(X_train[cols], y_train)\n",
    "    acc_t = knn.score(X_train[cols], y_train)\n",
    "    acc_v = knn.score(X_validate[cols], y_validate )\n",
    "    if (acc_t - acc_v)< .05 :\n",
    "        print(f'Model: {k} when k is {k}')\n",
    "        print(f'training score: {knn.score(X_train[cols], y_train):.2%}')\n",
    "        print(f'validate score: {knn.score(X_validate[cols], y_validate):.2%}')\n",
    "        print('__________________________________________________________')"
   ]
  },
  {
   "cell_type": "markdown",
   "metadata": {},
   "source": [
    "best value is k = 35"
   ]
  },
  {
   "cell_type": "code",
   "execution_count": 91,
   "metadata": {},
   "outputs": [
    {
     "name": "stdout",
     "output_type": "stream",
     "text": [
      "training score: 68.93%\n",
      "validate score: 69.17%\n"
     ]
    }
   ],
   "source": [
    "knn = KNeighborsClassifier(n_neighbors=35)\n",
    "knn.fit(X_train[cols], y_train)\n",
    "print(f'training score: {knn.score(X_train[cols], y_train):.2%}')\n",
    "print(f'validate score: {knn.score(X_validate[cols], y_validate):.2%}')"
   ]
  },
  {
   "cell_type": "code",
   "execution_count": 92,
   "metadata": {
    "scrolled": true
   },
   "outputs": [
    {
     "name": "stdout",
     "output_type": "stream",
     "text": [
      "Model: 5 when k is 5\n",
      "training score: 76.43%\n",
      "validate score: 77.50%\n",
      "__________________________________________________________\n",
      "Model: 6 when k is 6\n",
      "training score: 76.79%\n",
      "validate score: 77.50%\n",
      "__________________________________________________________\n",
      "Model: 7 when k is 7\n",
      "training score: 76.43%\n",
      "validate score: 77.50%\n",
      "__________________________________________________________\n",
      "Model: 8 when k is 8\n",
      "training score: 73.93%\n",
      "validate score: 74.17%\n",
      "__________________________________________________________\n",
      "Model: 9 when k is 9\n",
      "training score: 73.57%\n",
      "validate score: 75.00%\n",
      "__________________________________________________________\n",
      "Model: 10 when k is 10\n",
      "training score: 73.21%\n",
      "validate score: 74.17%\n",
      "__________________________________________________________\n",
      "Model: 11 when k is 11\n",
      "training score: 75.71%\n",
      "validate score: 77.50%\n",
      "__________________________________________________________\n",
      "Model: 12 when k is 12\n",
      "training score: 75.71%\n",
      "validate score: 77.50%\n",
      "__________________________________________________________\n",
      "Model: 13 when k is 13\n",
      "training score: 75.71%\n",
      "validate score: 77.50%\n",
      "__________________________________________________________\n",
      "Model: 14 when k is 14\n",
      "training score: 73.21%\n",
      "validate score: 74.17%\n",
      "__________________________________________________________\n",
      "Model: 15 when k is 15\n",
      "training score: 76.79%\n",
      "validate score: 78.33%\n",
      "__________________________________________________________\n",
      "Model: 16 when k is 16\n",
      "training score: 76.43%\n",
      "validate score: 74.17%\n",
      "__________________________________________________________\n",
      "Model: 17 when k is 17\n",
      "training score: 76.43%\n",
      "validate score: 78.33%\n",
      "__________________________________________________________\n",
      "Model: 18 when k is 18\n",
      "training score: 76.43%\n",
      "validate score: 74.17%\n",
      "__________________________________________________________\n",
      "Model: 19 when k is 19\n",
      "training score: 76.79%\n",
      "validate score: 78.33%\n",
      "__________________________________________________________\n"
     ]
    }
   ],
   "source": [
    "#select kbest\n",
    "for k in range(5,20):\n",
    "    knn = KNeighborsClassifier(n_neighbors=k)\n",
    "    knn.fit(X_train[top_col], y_train)\n",
    "    acc_t = knn.score(X_train[top_col], y_train)\n",
    "    acc_v = knn.score(X_validate[top_col], y_validate )\n",
    "    if (acc_t - acc_v)< .05 :\n",
    "        print(f'Model: {k} when k is {k}')\n",
    "        print(f'training score: {knn.score(X_train[top_col], y_train):.2%}')\n",
    "        print(f'validate score: {knn.score(X_validate[top_col], y_validate):.2%}')\n",
    "        print('__________________________________________________________')"
   ]
  },
  {
   "cell_type": "code",
   "execution_count": 93,
   "metadata": {},
   "outputs": [],
   "source": [
    "# I will select 15 because is the less number of k"
   ]
  },
  {
   "cell_type": "code",
   "execution_count": 94,
   "metadata": {},
   "outputs": [
    {
     "name": "stdout",
     "output_type": "stream",
     "text": [
      "training score: 76.79%\n",
      "validate score: 78.33%\n"
     ]
    }
   ],
   "source": [
    "knn2 = KNeighborsClassifier(n_neighbors=15)\n",
    "knn2.fit(X_train[top_col], y_train)\n",
    "print(f'training score: {knn2.score(X_train[top_col], y_train):.2%}')\n",
    "print(f'validate score: {knn2.score(X_validate[top_col], y_validate):.2%}')"
   ]
  },
  {
   "cell_type": "markdown",
   "metadata": {},
   "source": [
    "**takeaways**\n",
    "- best model : knn2\n",
    "\n",
    "    -training score: 76.79\\%  \n",
    "    -validate score: 78.33\\%"
   ]
  },
  {
   "cell_type": "markdown",
   "metadata": {},
   "source": [
    "### Logistic Regression"
   ]
  },
  {
   "cell_type": "code",
   "execution_count": 95,
   "metadata": {},
   "outputs": [
    {
     "name": "stdout",
     "output_type": "stream",
     "text": [
      "training score: 68.93%\n",
      "validate score: 69.17%\n"
     ]
    }
   ],
   "source": [
    "#model with all the columns\n",
    "model_lr1 =LogisticRegression(C=1.0 , random_state=123)\n",
    "model_lr1.fit(X_train[cols], y_train)\n",
    "print(f'training score: {model_lr1.score(X_train[cols], y_train):.2%}')\n",
    "print(f'validate score: {model_lr1.score(X_validate[cols], y_validate):.2%}')"
   ]
  },
  {
   "cell_type": "code",
   "execution_count": 96,
   "metadata": {},
   "outputs": [
    {
     "name": "stdout",
     "output_type": "stream",
     "text": [
      "training score: 76.79%\n",
      "validate score: 73.33%\n"
     ]
    }
   ],
   "source": [
    "#select kbest\n",
    "model_lr2 =LogisticRegression()\n",
    "model_lr2.fit(X_train[top_col], y_train)\n",
    "print(f'training score: {model_lr2.score(X_train[top_col], y_train):.2%}')\n",
    "print(f'validate score: {model_lr2.score(X_validate[top_col], y_validate):.2%}')"
   ]
  },
  {
   "cell_type": "code",
   "execution_count": 117,
   "metadata": {},
   "outputs": [
    {
     "name": "stdout",
     "output_type": "stream",
     "text": [
      "The top 6 selected feautures based on the the RFE class class are: ['gender', 'married', 'credit_history', 'education_graduate', 'property_area_semiurban', 'has_coapplicant']\n",
      "gender                        1\n",
      "married                       1\n",
      "credit_history                1\n",
      "education_graduate            1\n",
      "property_area_semiurban       1\n",
      "has_coapplicant               1\n",
      "loan_amount_term              2\n",
      "total_income                  3\n",
      "applicantincome               4\n",
      "coapplicantincome             5\n",
      "loanamount                    6\n",
      "property_area_rural           7\n",
      "self_employed                 8\n",
      "dependents                    9\n",
      "property_area_urban          10\n",
      "income_portion_dependents    11\n",
      "dtype: int64\n"
     ]
    }
   ],
   "source": [
    "#RFE\n",
    "top_rfe = m.select_rfe (X_train[cols], y_train,6, LogisticRegression())"
   ]
  },
  {
   "cell_type": "code",
   "execution_count": 118,
   "metadata": {},
   "outputs": [
    {
     "name": "stdout",
     "output_type": "stream",
     "text": [
      "training score: 76.43%\n",
      "validate score: 76.67%\n"
     ]
    }
   ],
   "source": [
    "model_lr2 =LogisticRegression()\n",
    "model_lr2.fit(X_train[top_rfe], y_train)\n",
    "print(f'training score: {model_lr2.score(X_train[top_rfe], y_train):.2%}')\n",
    "print(f'validate score: {model_lr2.score(X_validate[top_rfe], y_validate):.2%}')"
   ]
  },
  {
   "cell_type": "markdown",
   "metadata": {},
   "source": [
    "**takeaways**\n",
    "- best model : model_lr2\n",
    "\n",
    "    -training score: 76.43\\%  \n",
    "    -validate score: 76.67\\%"
   ]
  },
  {
   "cell_type": "code",
   "execution_count": null,
   "metadata": {},
   "outputs": [],
   "source": []
  },
  {
   "cell_type": "code",
   "execution_count": 119,
   "metadata": {},
   "outputs": [
    {
     "name": "stdout",
     "output_type": "stream",
     "text": [
      "\n",
      "    The accuracy for our model is 76.6667%\n",
      "    The True Positive Rate is 93.976%,    The False Positive Rate is 62.162%,\n",
      "    The True Negative Rate is 37.838%,    The False Negative Rate is 6.024%\n",
      "    ________________________________________________________________________________\n",
      "    \n",
      "\n",
      "    The positive is  'Loan Approved '\n",
      "    Confusion Matrix\n",
      "    \n"
     ]
    },
    {
     "data": {
      "text/html": [
       "<div>\n",
       "<style scoped>\n",
       "    .dataframe tbody tr th:only-of-type {\n",
       "        vertical-align: middle;\n",
       "    }\n",
       "\n",
       "    .dataframe tbody tr th {\n",
       "        vertical-align: top;\n",
       "    }\n",
       "\n",
       "    .dataframe thead th {\n",
       "        text-align: right;\n",
       "    }\n",
       "</style>\n",
       "<table border=\"1\" class=\"dataframe\">\n",
       "  <thead>\n",
       "    <tr style=\"text-align: right;\">\n",
       "      <th></th>\n",
       "      <th>pred_no_approved</th>\n",
       "      <th>pred_approved</th>\n",
       "    </tr>\n",
       "  </thead>\n",
       "  <tbody>\n",
       "    <tr>\n",
       "      <th>actual_no_approved</th>\n",
       "      <td>True Negative: 14</td>\n",
       "      <td>False positive: 23</td>\n",
       "    </tr>\n",
       "    <tr>\n",
       "      <th>actual_approved</th>\n",
       "      <td>False Negative: 5</td>\n",
       "      <td>True Positive: 78</td>\n",
       "    </tr>\n",
       "  </tbody>\n",
       "</table>\n",
       "</div>"
      ],
      "text/plain": [
       "                     pred_no_approved       pred_approved\n",
       "actual_no_approved  True Negative: 14  False positive: 23\n",
       "actual_approved     False Negative: 5   True Positive: 78"
      ]
     },
     "metadata": {},
     "output_type": "display_data"
    },
    {
     "name": "stdout",
     "output_type": "stream",
     "text": [
      "\n",
      "    ________________________________________________________________________________\n",
      "    \n",
      "    Classification Report:\n",
      "    \n"
     ]
    },
    {
     "data": {
      "text/html": [
       "<div>\n",
       "<style scoped>\n",
       "    .dataframe tbody tr th:only-of-type {\n",
       "        vertical-align: middle;\n",
       "    }\n",
       "\n",
       "    .dataframe tbody tr th {\n",
       "        vertical-align: top;\n",
       "    }\n",
       "\n",
       "    .dataframe thead th {\n",
       "        text-align: right;\n",
       "    }\n",
       "</style>\n",
       "<table border=\"1\" class=\"dataframe\">\n",
       "  <thead>\n",
       "    <tr style=\"text-align: right;\">\n",
       "      <th></th>\n",
       "      <th>precision</th>\n",
       "      <th>recall</th>\n",
       "      <th>f1-score</th>\n",
       "      <th>support</th>\n",
       "    </tr>\n",
       "  </thead>\n",
       "  <tbody>\n",
       "    <tr>\n",
       "      <th>No Aproved</th>\n",
       "      <td>0.736842</td>\n",
       "      <td>0.378378</td>\n",
       "      <td>0.500000</td>\n",
       "      <td>37.000000</td>\n",
       "    </tr>\n",
       "    <tr>\n",
       "      <th>Approved</th>\n",
       "      <td>0.772277</td>\n",
       "      <td>0.939759</td>\n",
       "      <td>0.847826</td>\n",
       "      <td>83.000000</td>\n",
       "    </tr>\n",
       "    <tr>\n",
       "      <th>accuracy</th>\n",
       "      <td>0.766667</td>\n",
       "      <td>0.766667</td>\n",
       "      <td>0.766667</td>\n",
       "      <td>0.766667</td>\n",
       "    </tr>\n",
       "    <tr>\n",
       "      <th>macro avg</th>\n",
       "      <td>0.754560</td>\n",
       "      <td>0.659069</td>\n",
       "      <td>0.673913</td>\n",
       "      <td>120.000000</td>\n",
       "    </tr>\n",
       "    <tr>\n",
       "      <th>weighted avg</th>\n",
       "      <td>0.761351</td>\n",
       "      <td>0.766667</td>\n",
       "      <td>0.740580</td>\n",
       "      <td>120.000000</td>\n",
       "    </tr>\n",
       "  </tbody>\n",
       "</table>\n",
       "</div>"
      ],
      "text/plain": [
       "              precision    recall  f1-score     support\n",
       "No Aproved     0.736842  0.378378  0.500000   37.000000\n",
       "Approved       0.772277  0.939759  0.847826   83.000000\n",
       "accuracy       0.766667  0.766667  0.766667    0.766667\n",
       "macro avg      0.754560  0.659069  0.673913  120.000000\n",
       "weighted avg   0.761351  0.766667  0.740580  120.000000"
      ]
     },
     "metadata": {},
     "output_type": "display_data"
    }
   ],
   "source": [
    "#select my best models : model_lr2,  knn2\n",
    "m.model_performs (X_validate[top_rfe], y_validate,model_lr2)"
   ]
  },
  {
   "cell_type": "code",
   "execution_count": 120,
   "metadata": {},
   "outputs": [
    {
     "name": "stdout",
     "output_type": "stream",
     "text": [
      "\n",
      "    The accuracy for our model is 78.3333%\n",
      "    The True Positive Rate is 91.566%,    The False Positive Rate is 51.351%,\n",
      "    The True Negative Rate is 48.649%,    The False Negative Rate is 8.434%\n",
      "    ________________________________________________________________________________\n",
      "    \n",
      "\n",
      "    The positive is  'Loan Approved '\n",
      "    Confusion Matrix\n",
      "    \n"
     ]
    },
    {
     "data": {
      "text/html": [
       "<div>\n",
       "<style scoped>\n",
       "    .dataframe tbody tr th:only-of-type {\n",
       "        vertical-align: middle;\n",
       "    }\n",
       "\n",
       "    .dataframe tbody tr th {\n",
       "        vertical-align: top;\n",
       "    }\n",
       "\n",
       "    .dataframe thead th {\n",
       "        text-align: right;\n",
       "    }\n",
       "</style>\n",
       "<table border=\"1\" class=\"dataframe\">\n",
       "  <thead>\n",
       "    <tr style=\"text-align: right;\">\n",
       "      <th></th>\n",
       "      <th>pred_no_approved</th>\n",
       "      <th>pred_approved</th>\n",
       "    </tr>\n",
       "  </thead>\n",
       "  <tbody>\n",
       "    <tr>\n",
       "      <th>actual_no_approved</th>\n",
       "      <td>True Negative: 18</td>\n",
       "      <td>False positive: 19</td>\n",
       "    </tr>\n",
       "    <tr>\n",
       "      <th>actual_approved</th>\n",
       "      <td>False Negative: 7</td>\n",
       "      <td>True Positive: 76</td>\n",
       "    </tr>\n",
       "  </tbody>\n",
       "</table>\n",
       "</div>"
      ],
      "text/plain": [
       "                     pred_no_approved       pred_approved\n",
       "actual_no_approved  True Negative: 18  False positive: 19\n",
       "actual_approved     False Negative: 7   True Positive: 76"
      ]
     },
     "metadata": {},
     "output_type": "display_data"
    },
    {
     "name": "stdout",
     "output_type": "stream",
     "text": [
      "\n",
      "    ________________________________________________________________________________\n",
      "    \n",
      "    Classification Report:\n",
      "    \n"
     ]
    },
    {
     "data": {
      "text/html": [
       "<div>\n",
       "<style scoped>\n",
       "    .dataframe tbody tr th:only-of-type {\n",
       "        vertical-align: middle;\n",
       "    }\n",
       "\n",
       "    .dataframe tbody tr th {\n",
       "        vertical-align: top;\n",
       "    }\n",
       "\n",
       "    .dataframe thead th {\n",
       "        text-align: right;\n",
       "    }\n",
       "</style>\n",
       "<table border=\"1\" class=\"dataframe\">\n",
       "  <thead>\n",
       "    <tr style=\"text-align: right;\">\n",
       "      <th></th>\n",
       "      <th>precision</th>\n",
       "      <th>recall</th>\n",
       "      <th>f1-score</th>\n",
       "      <th>support</th>\n",
       "    </tr>\n",
       "  </thead>\n",
       "  <tbody>\n",
       "    <tr>\n",
       "      <th>No Aproved</th>\n",
       "      <td>0.720000</td>\n",
       "      <td>0.486486</td>\n",
       "      <td>0.580645</td>\n",
       "      <td>37.000000</td>\n",
       "    </tr>\n",
       "    <tr>\n",
       "      <th>Approved</th>\n",
       "      <td>0.800000</td>\n",
       "      <td>0.915663</td>\n",
       "      <td>0.853933</td>\n",
       "      <td>83.000000</td>\n",
       "    </tr>\n",
       "    <tr>\n",
       "      <th>accuracy</th>\n",
       "      <td>0.783333</td>\n",
       "      <td>0.783333</td>\n",
       "      <td>0.783333</td>\n",
       "      <td>0.783333</td>\n",
       "    </tr>\n",
       "    <tr>\n",
       "      <th>macro avg</th>\n",
       "      <td>0.760000</td>\n",
       "      <td>0.701075</td>\n",
       "      <td>0.717289</td>\n",
       "      <td>120.000000</td>\n",
       "    </tr>\n",
       "    <tr>\n",
       "      <th>weighted avg</th>\n",
       "      <td>0.775333</td>\n",
       "      <td>0.783333</td>\n",
       "      <td>0.769669</td>\n",
       "      <td>120.000000</td>\n",
       "    </tr>\n",
       "  </tbody>\n",
       "</table>\n",
       "</div>"
      ],
      "text/plain": [
       "              precision    recall  f1-score     support\n",
       "No Aproved     0.720000  0.486486  0.580645   37.000000\n",
       "Approved       0.800000  0.915663  0.853933   83.000000\n",
       "accuracy       0.783333  0.783333  0.783333    0.783333\n",
       "macro avg      0.760000  0.701075  0.717289  120.000000\n",
       "weighted avg   0.775333  0.783333  0.769669  120.000000"
      ]
     },
     "metadata": {},
     "output_type": "display_data"
    }
   ],
   "source": [
    "m.model_performs(X_validate[top_col], y_validate,knn2)"
   ]
  },
  {
   "cell_type": "code",
   "execution_count": 121,
   "metadata": {},
   "outputs": [],
   "source": [
    "#test my best model"
   ]
  },
  {
   "cell_type": "code",
   "execution_count": 122,
   "metadata": {},
   "outputs": [
    {
     "name": "stdout",
     "output_type": "stream",
     "text": [
      "\n",
      "    The accuracy for our model is 74.0000%\n",
      "    The True Positive Rate is 92.754%,    The False Positive Rate is 67.742%,\n",
      "    The True Negative Rate is 32.258%,    The False Negative Rate is 7.246%\n",
      "    ________________________________________________________________________________\n",
      "    \n",
      "\n",
      "    The positive is  'Loan Approved '\n",
      "    Confusion Matrix\n",
      "    \n"
     ]
    },
    {
     "data": {
      "text/html": [
       "<div>\n",
       "<style scoped>\n",
       "    .dataframe tbody tr th:only-of-type {\n",
       "        vertical-align: middle;\n",
       "    }\n",
       "\n",
       "    .dataframe tbody tr th {\n",
       "        vertical-align: top;\n",
       "    }\n",
       "\n",
       "    .dataframe thead th {\n",
       "        text-align: right;\n",
       "    }\n",
       "</style>\n",
       "<table border=\"1\" class=\"dataframe\">\n",
       "  <thead>\n",
       "    <tr style=\"text-align: right;\">\n",
       "      <th></th>\n",
       "      <th>pred_no_approved</th>\n",
       "      <th>pred_approved</th>\n",
       "    </tr>\n",
       "  </thead>\n",
       "  <tbody>\n",
       "    <tr>\n",
       "      <th>actual_no_approved</th>\n",
       "      <td>True Negative: 10</td>\n",
       "      <td>False positive: 21</td>\n",
       "    </tr>\n",
       "    <tr>\n",
       "      <th>actual_approved</th>\n",
       "      <td>False Negative: 5</td>\n",
       "      <td>True Positive: 64</td>\n",
       "    </tr>\n",
       "  </tbody>\n",
       "</table>\n",
       "</div>"
      ],
      "text/plain": [
       "                     pred_no_approved       pred_approved\n",
       "actual_no_approved  True Negative: 10  False positive: 21\n",
       "actual_approved     False Negative: 5   True Positive: 64"
      ]
     },
     "metadata": {},
     "output_type": "display_data"
    },
    {
     "name": "stdout",
     "output_type": "stream",
     "text": [
      "\n",
      "    ________________________________________________________________________________\n",
      "    \n",
      "    Classification Report:\n",
      "    \n"
     ]
    },
    {
     "data": {
      "text/html": [
       "<div>\n",
       "<style scoped>\n",
       "    .dataframe tbody tr th:only-of-type {\n",
       "        vertical-align: middle;\n",
       "    }\n",
       "\n",
       "    .dataframe tbody tr th {\n",
       "        vertical-align: top;\n",
       "    }\n",
       "\n",
       "    .dataframe thead th {\n",
       "        text-align: right;\n",
       "    }\n",
       "</style>\n",
       "<table border=\"1\" class=\"dataframe\">\n",
       "  <thead>\n",
       "    <tr style=\"text-align: right;\">\n",
       "      <th></th>\n",
       "      <th>precision</th>\n",
       "      <th>recall</th>\n",
       "      <th>f1-score</th>\n",
       "      <th>support</th>\n",
       "    </tr>\n",
       "  </thead>\n",
       "  <tbody>\n",
       "    <tr>\n",
       "      <th>No Aproved</th>\n",
       "      <td>0.666667</td>\n",
       "      <td>0.322581</td>\n",
       "      <td>0.434783</td>\n",
       "      <td>31.00</td>\n",
       "    </tr>\n",
       "    <tr>\n",
       "      <th>Approved</th>\n",
       "      <td>0.752941</td>\n",
       "      <td>0.927536</td>\n",
       "      <td>0.831169</td>\n",
       "      <td>69.00</td>\n",
       "    </tr>\n",
       "    <tr>\n",
       "      <th>accuracy</th>\n",
       "      <td>0.740000</td>\n",
       "      <td>0.740000</td>\n",
       "      <td>0.740000</td>\n",
       "      <td>0.74</td>\n",
       "    </tr>\n",
       "    <tr>\n",
       "      <th>macro avg</th>\n",
       "      <td>0.709804</td>\n",
       "      <td>0.625058</td>\n",
       "      <td>0.632976</td>\n",
       "      <td>100.00</td>\n",
       "    </tr>\n",
       "    <tr>\n",
       "      <th>weighted avg</th>\n",
       "      <td>0.726196</td>\n",
       "      <td>0.740000</td>\n",
       "      <td>0.708289</td>\n",
       "      <td>100.00</td>\n",
       "    </tr>\n",
       "  </tbody>\n",
       "</table>\n",
       "</div>"
      ],
      "text/plain": [
       "              precision    recall  f1-score  support\n",
       "No Aproved     0.666667  0.322581  0.434783    31.00\n",
       "Approved       0.752941  0.927536  0.831169    69.00\n",
       "accuracy       0.740000  0.740000  0.740000     0.74\n",
       "macro avg      0.709804  0.625058  0.632976   100.00\n",
       "weighted avg   0.726196  0.740000  0.708289   100.00"
      ]
     },
     "metadata": {},
     "output_type": "display_data"
    }
   ],
   "source": [
    "m.model_performs(X_test[top_col], y_test,knn2)"
   ]
  },
  {
   "cell_type": "code",
   "execution_count": null,
   "metadata": {},
   "outputs": [],
   "source": []
  }
 ],
 "metadata": {
  "kernelspec": {
   "display_name": "Python 3",
   "language": "python",
   "name": "python3"
  },
  "language_info": {
   "codemirror_mode": {
    "name": "ipython",
    "version": 3
   },
   "file_extension": ".py",
   "mimetype": "text/x-python",
   "name": "python",
   "nbconvert_exporter": "python",
   "pygments_lexer": "ipython3",
   "version": "3.8.5"
  }
 },
 "nbformat": 4,
 "nbformat_minor": 4
}
