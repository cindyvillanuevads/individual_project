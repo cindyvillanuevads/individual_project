{
 "cells": [
  {
   "cell_type": "code",
   "execution_count": 1,
   "metadata": {},
   "outputs": [],
   "source": [
    "import pandas as pd\n",
    "import numpy as np\n",
    "import os\n",
    "import scipy.stats as stats\n",
    "# visualize\n",
    "import seaborn as sns\n",
    "import matplotlib.pyplot as plt\n",
    "\n",
    "# turn off pink warning boxes\n",
    "import warnings\n",
    "warnings.filterwarnings(\"ignore\")\n",
    "\n",
    "#import my modules\n",
    "import acquire as a\n",
    "import prepare as p\n",
    "\n",
    "\n",
    "\n",
    "# for preparation state\n",
    "from sklearn.model_selection import train_test_split\n",
    "\n",
    "from sklearn.ensemble import RandomForestClassifier\n",
    "from sklearn.neighbors import KNeighborsClassifier\n",
    "from sklearn.linear_model import LogisticRegression\n",
    "from sklearn.tree import DecisionTreeClassifier, plot_tree, export_text\n",
    "from sklearn.dummy import DummyClassifier\n",
    "from sklearn.metrics import classification_report"
   ]
  },
  {
   "cell_type": "markdown",
   "metadata": {},
   "source": [
    "# Plan"
   ]
  },
  {
   "cell_type": "markdown",
   "metadata": {},
   "source": [
    "# Acquire"
   ]
  },
  {
   "cell_type": "code",
   "execution_count": 2,
   "metadata": {},
   "outputs": [],
   "source": [
    "df = pd.read_csv('df1_loan.csv')"
   ]
  },
  {
   "cell_type": "code",
   "execution_count": 3,
   "metadata": {
    "scrolled": false
   },
   "outputs": [
    {
     "data": {
      "text/html": [
       "<div>\n",
       "<style scoped>\n",
       "    .dataframe tbody tr th:only-of-type {\n",
       "        vertical-align: middle;\n",
       "    }\n",
       "\n",
       "    .dataframe tbody tr th {\n",
       "        vertical-align: top;\n",
       "    }\n",
       "\n",
       "    .dataframe thead th {\n",
       "        text-align: right;\n",
       "    }\n",
       "</style>\n",
       "<table border=\"1\" class=\"dataframe\">\n",
       "  <thead>\n",
       "    <tr style=\"text-align: right;\">\n",
       "      <th></th>\n",
       "      <th>Unnamed: 0</th>\n",
       "      <th>Loan_ID</th>\n",
       "      <th>Gender</th>\n",
       "      <th>Married</th>\n",
       "      <th>Dependents</th>\n",
       "      <th>Education</th>\n",
       "      <th>Self_Employed</th>\n",
       "      <th>ApplicantIncome</th>\n",
       "      <th>CoapplicantIncome</th>\n",
       "      <th>LoanAmount</th>\n",
       "      <th>Loan_Amount_Term</th>\n",
       "      <th>Credit_History</th>\n",
       "      <th>Property_Area</th>\n",
       "      <th>Loan_Status</th>\n",
       "      <th>Total_Income</th>\n",
       "    </tr>\n",
       "  </thead>\n",
       "  <tbody>\n",
       "    <tr>\n",
       "      <th>0</th>\n",
       "      <td>0</td>\n",
       "      <td>LP001002</td>\n",
       "      <td>Male</td>\n",
       "      <td>No</td>\n",
       "      <td>0</td>\n",
       "      <td>Graduate</td>\n",
       "      <td>No</td>\n",
       "      <td>5849</td>\n",
       "      <td>0.0</td>\n",
       "      <td>NaN</td>\n",
       "      <td>360.0</td>\n",
       "      <td>1.0</td>\n",
       "      <td>Urban</td>\n",
       "      <td>Y</td>\n",
       "      <td>$5849.0</td>\n",
       "    </tr>\n",
       "    <tr>\n",
       "      <th>1</th>\n",
       "      <td>1</td>\n",
       "      <td>LP001003</td>\n",
       "      <td>Male</td>\n",
       "      <td>Yes</td>\n",
       "      <td>1</td>\n",
       "      <td>Graduate</td>\n",
       "      <td>No</td>\n",
       "      <td>4583</td>\n",
       "      <td>1508.0</td>\n",
       "      <td>128.0</td>\n",
       "      <td>360.0</td>\n",
       "      <td>1.0</td>\n",
       "      <td>Rural</td>\n",
       "      <td>N</td>\n",
       "      <td>$6091.0</td>\n",
       "    </tr>\n",
       "    <tr>\n",
       "      <th>2</th>\n",
       "      <td>2</td>\n",
       "      <td>LP001005</td>\n",
       "      <td>Male</td>\n",
       "      <td>Yes</td>\n",
       "      <td>0</td>\n",
       "      <td>Graduate</td>\n",
       "      <td>Yes</td>\n",
       "      <td>3000</td>\n",
       "      <td>0.0</td>\n",
       "      <td>66.0</td>\n",
       "      <td>360.0</td>\n",
       "      <td>1.0</td>\n",
       "      <td>Urban</td>\n",
       "      <td>Y</td>\n",
       "      <td>$3000.0</td>\n",
       "    </tr>\n",
       "    <tr>\n",
       "      <th>3</th>\n",
       "      <td>3</td>\n",
       "      <td>LP001006</td>\n",
       "      <td>Male</td>\n",
       "      <td>Yes</td>\n",
       "      <td>0</td>\n",
       "      <td>Not Graduate</td>\n",
       "      <td>No</td>\n",
       "      <td>2583</td>\n",
       "      <td>2358.0</td>\n",
       "      <td>120.0</td>\n",
       "      <td>360.0</td>\n",
       "      <td>1.0</td>\n",
       "      <td>Urban</td>\n",
       "      <td>Y</td>\n",
       "      <td>$4941.0</td>\n",
       "    </tr>\n",
       "    <tr>\n",
       "      <th>4</th>\n",
       "      <td>4</td>\n",
       "      <td>LP001008</td>\n",
       "      <td>Male</td>\n",
       "      <td>No</td>\n",
       "      <td>0</td>\n",
       "      <td>Graduate</td>\n",
       "      <td>No</td>\n",
       "      <td>6000</td>\n",
       "      <td>0.0</td>\n",
       "      <td>141.0</td>\n",
       "      <td>360.0</td>\n",
       "      <td>1.0</td>\n",
       "      <td>Urban</td>\n",
       "      <td>Y</td>\n",
       "      <td>$6000.0</td>\n",
       "    </tr>\n",
       "  </tbody>\n",
       "</table>\n",
       "</div>"
      ],
      "text/plain": [
       "   Unnamed: 0   Loan_ID Gender Married Dependents     Education Self_Employed  \\\n",
       "0           0  LP001002   Male      No          0      Graduate            No   \n",
       "1           1  LP001003   Male     Yes          1      Graduate            No   \n",
       "2           2  LP001005   Male     Yes          0      Graduate           Yes   \n",
       "3           3  LP001006   Male     Yes          0  Not Graduate            No   \n",
       "4           4  LP001008   Male      No          0      Graduate            No   \n",
       "\n",
       "   ApplicantIncome  CoapplicantIncome  LoanAmount  Loan_Amount_Term  \\\n",
       "0             5849                0.0         NaN             360.0   \n",
       "1             4583             1508.0       128.0             360.0   \n",
       "2             3000                0.0        66.0             360.0   \n",
       "3             2583             2358.0       120.0             360.0   \n",
       "4             6000                0.0       141.0             360.0   \n",
       "\n",
       "   Credit_History Property_Area Loan_Status Total_Income  \n",
       "0             1.0         Urban           Y      $5849.0  \n",
       "1             1.0         Rural           N      $6091.0  \n",
       "2             1.0         Urban           Y      $3000.0  \n",
       "3             1.0         Urban           Y      $4941.0  \n",
       "4             1.0         Urban           Y      $6000.0  "
      ]
     },
     "execution_count": 3,
     "metadata": {},
     "output_type": "execute_result"
    }
   ],
   "source": [
    "df.head()"
   ]
  },
  {
   "cell_type": "code",
   "execution_count": 4,
   "metadata": {},
   "outputs": [
    {
     "name": "stdout",
     "output_type": "stream",
     "text": [
      "<class 'pandas.core.frame.DataFrame'>\n",
      "RangeIndex: 500 entries, 0 to 499\n",
      "Data columns (total 15 columns):\n",
      " #   Column             Non-Null Count  Dtype  \n",
      "---  ------             --------------  -----  \n",
      " 0   Unnamed: 0         500 non-null    int64  \n",
      " 1   Loan_ID            500 non-null    object \n",
      " 2   Gender             491 non-null    object \n",
      " 3   Married            497 non-null    object \n",
      " 4   Dependents         488 non-null    object \n",
      " 5   Education          500 non-null    object \n",
      " 6   Self_Employed      473 non-null    object \n",
      " 7   ApplicantIncome    500 non-null    int64  \n",
      " 8   CoapplicantIncome  500 non-null    float64\n",
      " 9   LoanAmount         482 non-null    float64\n",
      " 10  Loan_Amount_Term   486 non-null    float64\n",
      " 11  Credit_History     459 non-null    float64\n",
      " 12  Property_Area      500 non-null    object \n",
      " 13  Loan_Status        500 non-null    object \n",
      " 14  Total_Income       500 non-null    object \n",
      "dtypes: float64(4), int64(2), object(9)\n",
      "memory usage: 58.7+ KB\n"
     ]
    }
   ],
   "source": [
    "df.info()"
   ]
  },
  {
   "cell_type": "code",
   "execution_count": 5,
   "metadata": {
    "scrolled": false
   },
   "outputs": [
    {
     "name": "stdout",
     "output_type": "stream",
     "text": [
      "=====================================================\n",
      "Dataframe shape: \n",
      "(500, 15)\n",
      "=====================================================\n",
      "Dataframe head: \n",
      "   Unnamed: 0   Loan_ID Gender Married Dependents Education Self_Employed  \\\n",
      "0           0  LP001002   Male      No          0  Graduate            No   \n",
      "1           1  LP001003   Male     Yes          1  Graduate            No   \n",
      "2           2  LP001005   Male     Yes          0  Graduate           Yes   \n",
      "\n",
      "   ApplicantIncome  CoapplicantIncome  LoanAmount  Loan_Amount_Term  \\\n",
      "0             5849                0.0         NaN             360.0   \n",
      "1             4583             1508.0       128.0             360.0   \n",
      "2             3000                0.0        66.0             360.0   \n",
      "\n",
      "   Credit_History Property_Area Loan_Status Total_Income  \n",
      "0             1.0         Urban           Y      $5849.0  \n",
      "1             1.0         Rural           N      $6091.0  \n",
      "2             1.0         Urban           Y      $3000.0  \n",
      "=====================================================\n",
      "Dataframe info: \n",
      "<class 'pandas.core.frame.DataFrame'>\n",
      "RangeIndex: 500 entries, 0 to 499\n",
      "Data columns (total 15 columns):\n",
      " #   Column             Non-Null Count  Dtype  \n",
      "---  ------             --------------  -----  \n",
      " 0   Unnamed: 0         500 non-null    int64  \n",
      " 1   Loan_ID            500 non-null    object \n",
      " 2   Gender             491 non-null    object \n",
      " 3   Married            497 non-null    object \n",
      " 4   Dependents         488 non-null    object \n",
      " 5   Education          500 non-null    object \n",
      " 6   Self_Employed      473 non-null    object \n",
      " 7   ApplicantIncome    500 non-null    int64  \n",
      " 8   CoapplicantIncome  500 non-null    float64\n",
      " 9   LoanAmount         482 non-null    float64\n",
      " 10  Loan_Amount_Term   486 non-null    float64\n",
      " 11  Credit_History     459 non-null    float64\n",
      " 12  Property_Area      500 non-null    object \n",
      " 13  Loan_Status        500 non-null    object \n",
      " 14  Total_Income       500 non-null    object \n",
      "dtypes: float64(4), int64(2), object(9)\n",
      "memory usage: 58.7+ KB\n",
      "None\n",
      "=====================================================\n",
      "Dataframe Description: \n",
      "                   count         mean          std    min      25%     50%  \\\n",
      "Unnamed: 0         500.0   249.500000   144.481833    0.0   124.75   249.5   \n",
      "ApplicantIncome    500.0  5493.644000  6515.668972  150.0  2874.50  3854.0   \n",
      "CoapplicantIncome  500.0  1506.307840  2134.432188    0.0     0.00  1125.5   \n",
      "LoanAmount         482.0   144.020747    82.344919   17.0   100.00   126.5   \n",
      "Loan_Amount_Term   486.0   342.543210    63.834977   12.0   360.00   360.0   \n",
      "Credit_History     459.0     0.843137     0.364068    0.0     1.00     1.0   \n",
      "\n",
      "                       75%      max  \n",
      "Unnamed: 0          374.25    499.0  \n",
      "ApplicantIncome    5764.00  81000.0  \n",
      "CoapplicantIncome  2253.25  20000.0  \n",
      "LoanAmount          161.50    700.0  \n",
      "Loan_Amount_Term    360.00    480.0  \n",
      "Credit_History        1.00      1.0  \n",
      "=====================================================\n",
      "**Unnamed: 0**\n",
      "Unique Values :  500\n",
      " \n",
      "(-0.5, 4.99]        5\n",
      "(4.99, 9.98]        5\n",
      "(9.98, 14.97]       5\n",
      "(14.97, 19.96]      5\n",
      "(19.96, 24.95]      5\n",
      "                   ..\n",
      "(474.05, 479.04]    5\n",
      "(479.04, 484.03]    5\n",
      "(484.03, 489.02]    5\n",
      "(489.02, 494.01]    5\n",
      "(494.01, 499.0]     5\n",
      "Name: Unnamed: 0, Length: 100, dtype: int64\n",
      "=====================================================\n",
      "**Loan_ID**\n",
      "Unique Values :  500\n",
      " \n",
      "=====================================================\n",
      "**Gender**\n",
      "Unique Values :  2\n",
      " \n",
      "Male      400\n",
      "Female     91\n",
      "Name: Gender, dtype: int64\n",
      "=====================================================\n",
      "**Married**\n",
      "Unique Values :  2\n",
      " \n",
      "Yes    322\n",
      "No     175\n",
      "Name: Married, dtype: int64\n",
      "=====================================================\n",
      "**Dependents**\n",
      "Unique Values :  4\n",
      " \n",
      "0     288\n",
      "1      81\n",
      "2      79\n",
      "3+     40\n",
      "Name: Dependents, dtype: int64\n",
      "=====================================================\n",
      "**Education**\n",
      "Unique Values :  2\n",
      " \n",
      "Graduate        393\n",
      "Not Graduate    107\n",
      "Name: Education, dtype: int64\n",
      "=====================================================\n",
      "**Self_Employed**\n",
      "Unique Values :  2\n",
      " \n",
      "No     407\n",
      "Yes     66\n",
      "Name: Self_Employed, dtype: int64\n",
      "=====================================================\n",
      "**ApplicantIncome**\n",
      "Unique Values :  415\n",
      " \n",
      "(69.149, 958.5]         3\n",
      "(958.5, 1767.0]        11\n",
      "(1767.0, 2575.5]       77\n",
      "(2575.5, 3384.0]      104\n",
      "(3384.0, 4192.5]       89\n",
      "                     ... \n",
      "(76957.5, 77766.0]      0\n",
      "(77766.0, 78574.5]      0\n",
      "(78574.5, 79383.0]      0\n",
      "(79383.0, 80191.5]      0\n",
      "(80191.5, 81000.0]      1\n",
      "Name: ApplicantIncome, Length: 100, dtype: int64\n",
      "=====================================================\n",
      "**CoapplicantIncome**\n",
      "Unique Values :  235\n",
      " \n",
      "(-20.001, 200.0]      228\n",
      "(200.0, 400.0]          0\n",
      "(400.0, 600.0]          2\n",
      "(600.0, 800.0]          6\n",
      "(800.0, 1000.0]         6\n",
      "                     ... \n",
      "(19000.0, 19200.0]      0\n",
      "(19200.0, 19400.0]      0\n",
      "(19400.0, 19600.0]      0\n",
      "(19600.0, 19800.0]      0\n",
      "(19800.0, 20000.0]      2\n",
      "Name: CoapplicantIncome, Length: 100, dtype: int64\n",
      "=====================================================\n",
      "**LoanAmount**\n",
      "Unique Values :  179\n",
      " \n",
      "(16.316, 23.83]     1\n",
      "(23.83, 30.66]      4\n",
      "(30.66, 37.49]      1\n",
      "(37.49, 44.32]      3\n",
      "(44.32, 51.15]      8\n",
      "                   ..\n",
      "(665.85, 672.68]    0\n",
      "(672.68, 679.51]    0\n",
      "(679.51, 686.34]    0\n",
      "(686.34, 693.17]    0\n",
      "(693.17, 700.0]     1\n",
      "Name: LoanAmount, Length: 100, dtype: int64\n",
      "=====================================================\n",
      "**Loan_Amount_Term**\n",
      "Unique Values :  10\n",
      " \n",
      "12.0       1\n",
      "36.0       1\n",
      "60.0       2\n",
      "84.0       2\n",
      "120.0      3\n",
      "180.0     35\n",
      "240.0      3\n",
      "300.0     12\n",
      "360.0    415\n",
      "480.0     12\n",
      "Name: Loan_Amount_Term, dtype: int64\n",
      "=====================================================\n",
      "**Credit_History**\n",
      "Unique Values :  2\n",
      " \n",
      "0.0     72\n",
      "1.0    387\n",
      "Name: Credit_History, dtype: int64\n",
      "=====================================================\n",
      "**Property_Area**\n",
      "Unique Values :  3\n",
      " \n",
      "Semiurban    188\n",
      "Urban        171\n",
      "Rural        141\n",
      "Name: Property_Area, dtype: int64\n",
      "=====================================================\n",
      "**Loan_Status**\n",
      "Unique Values :  2\n",
      " \n",
      "Y    345\n",
      "N    155\n",
      "Name: Loan_Status, dtype: int64\n",
      "=====================================================\n",
      "**Total_Income**\n",
      "Unique Values :  457\n",
      " \n",
      "=====================================================\n"
     ]
    }
   ],
   "source": [
    "a.summarize(df)"
   ]
  },
  {
   "cell_type": "markdown",
   "metadata": {},
   "source": [
    "**Takeaways**\n",
    "- there are 14 columns ( I will dropp unamed column)\n",
    "- there are null values\n",
    "-Total_income should be numeric\n",
    "- rename columns"
   ]
  },
  {
   "cell_type": "markdown",
   "metadata": {},
   "source": [
    "# Prepare "
   ]
  },
  {
   "cell_type": "code",
   "execution_count": 6,
   "metadata": {
    "scrolled": true
   },
   "outputs": [
    {
     "data": {
      "text/plain": [
       "Index(['Unnamed: 0', 'Loan_ID', 'Gender', 'Married', 'Dependents', 'Education',\n",
       "       'Self_Employed', 'ApplicantIncome', 'CoapplicantIncome', 'LoanAmount',\n",
       "       'Loan_Amount_Term', 'Credit_History', 'Property_Area', 'Loan_Status',\n",
       "       'Total_Income'],\n",
       "      dtype='object')"
      ]
     },
     "execution_count": 6,
     "metadata": {},
     "output_type": "execute_result"
    }
   ],
   "source": [
    "df.columns"
   ]
  },
  {
   "cell_type": "code",
   "execution_count": 7,
   "metadata": {},
   "outputs": [],
   "source": [
    "#drop unnamed column\n",
    "df = df.drop(columns= ['Unnamed: 0'])"
   ]
  },
  {
   "cell_type": "code",
   "execution_count": 8,
   "metadata": {},
   "outputs": [],
   "source": [
    "#rename columns (lowercase)\n",
    "df.columns = map(str.lower, df.columns)"
   ]
  },
  {
   "cell_type": "code",
   "execution_count": 9,
   "metadata": {
    "scrolled": true
   },
   "outputs": [
    {
     "data": {
      "text/html": [
       "<div>\n",
       "<style scoped>\n",
       "    .dataframe tbody tr th:only-of-type {\n",
       "        vertical-align: middle;\n",
       "    }\n",
       "\n",
       "    .dataframe tbody tr th {\n",
       "        vertical-align: top;\n",
       "    }\n",
       "\n",
       "    .dataframe thead th {\n",
       "        text-align: right;\n",
       "    }\n",
       "</style>\n",
       "<table border=\"1\" class=\"dataframe\">\n",
       "  <thead>\n",
       "    <tr style=\"text-align: right;\">\n",
       "      <th></th>\n",
       "      <th>loan_id</th>\n",
       "      <th>gender</th>\n",
       "      <th>married</th>\n",
       "      <th>dependents</th>\n",
       "      <th>education</th>\n",
       "      <th>self_employed</th>\n",
       "      <th>applicantincome</th>\n",
       "      <th>coapplicantincome</th>\n",
       "      <th>loanamount</th>\n",
       "      <th>loan_amount_term</th>\n",
       "      <th>credit_history</th>\n",
       "      <th>property_area</th>\n",
       "      <th>loan_status</th>\n",
       "      <th>total_income</th>\n",
       "    </tr>\n",
       "  </thead>\n",
       "  <tbody>\n",
       "    <tr>\n",
       "      <th>0</th>\n",
       "      <td>LP001002</td>\n",
       "      <td>Male</td>\n",
       "      <td>No</td>\n",
       "      <td>0</td>\n",
       "      <td>Graduate</td>\n",
       "      <td>No</td>\n",
       "      <td>5849</td>\n",
       "      <td>0.0</td>\n",
       "      <td>NaN</td>\n",
       "      <td>360.0</td>\n",
       "      <td>1.0</td>\n",
       "      <td>Urban</td>\n",
       "      <td>Y</td>\n",
       "      <td>$5849.0</td>\n",
       "    </tr>\n",
       "    <tr>\n",
       "      <th>1</th>\n",
       "      <td>LP001003</td>\n",
       "      <td>Male</td>\n",
       "      <td>Yes</td>\n",
       "      <td>1</td>\n",
       "      <td>Graduate</td>\n",
       "      <td>No</td>\n",
       "      <td>4583</td>\n",
       "      <td>1508.0</td>\n",
       "      <td>128.0</td>\n",
       "      <td>360.0</td>\n",
       "      <td>1.0</td>\n",
       "      <td>Rural</td>\n",
       "      <td>N</td>\n",
       "      <td>$6091.0</td>\n",
       "    </tr>\n",
       "    <tr>\n",
       "      <th>2</th>\n",
       "      <td>LP001005</td>\n",
       "      <td>Male</td>\n",
       "      <td>Yes</td>\n",
       "      <td>0</td>\n",
       "      <td>Graduate</td>\n",
       "      <td>Yes</td>\n",
       "      <td>3000</td>\n",
       "      <td>0.0</td>\n",
       "      <td>66.0</td>\n",
       "      <td>360.0</td>\n",
       "      <td>1.0</td>\n",
       "      <td>Urban</td>\n",
       "      <td>Y</td>\n",
       "      <td>$3000.0</td>\n",
       "    </tr>\n",
       "    <tr>\n",
       "      <th>3</th>\n",
       "      <td>LP001006</td>\n",
       "      <td>Male</td>\n",
       "      <td>Yes</td>\n",
       "      <td>0</td>\n",
       "      <td>Not Graduate</td>\n",
       "      <td>No</td>\n",
       "      <td>2583</td>\n",
       "      <td>2358.0</td>\n",
       "      <td>120.0</td>\n",
       "      <td>360.0</td>\n",
       "      <td>1.0</td>\n",
       "      <td>Urban</td>\n",
       "      <td>Y</td>\n",
       "      <td>$4941.0</td>\n",
       "    </tr>\n",
       "    <tr>\n",
       "      <th>4</th>\n",
       "      <td>LP001008</td>\n",
       "      <td>Male</td>\n",
       "      <td>No</td>\n",
       "      <td>0</td>\n",
       "      <td>Graduate</td>\n",
       "      <td>No</td>\n",
       "      <td>6000</td>\n",
       "      <td>0.0</td>\n",
       "      <td>141.0</td>\n",
       "      <td>360.0</td>\n",
       "      <td>1.0</td>\n",
       "      <td>Urban</td>\n",
       "      <td>Y</td>\n",
       "      <td>$6000.0</td>\n",
       "    </tr>\n",
       "  </tbody>\n",
       "</table>\n",
       "</div>"
      ],
      "text/plain": [
       "    loan_id gender married dependents     education self_employed  \\\n",
       "0  LP001002   Male      No          0      Graduate            No   \n",
       "1  LP001003   Male     Yes          1      Graduate            No   \n",
       "2  LP001005   Male     Yes          0      Graduate           Yes   \n",
       "3  LP001006   Male     Yes          0  Not Graduate            No   \n",
       "4  LP001008   Male      No          0      Graduate            No   \n",
       "\n",
       "   applicantincome  coapplicantincome  loanamount  loan_amount_term  \\\n",
       "0             5849                0.0         NaN             360.0   \n",
       "1             4583             1508.0       128.0             360.0   \n",
       "2             3000                0.0        66.0             360.0   \n",
       "3             2583             2358.0       120.0             360.0   \n",
       "4             6000                0.0       141.0             360.0   \n",
       "\n",
       "   credit_history property_area loan_status total_income  \n",
       "0             1.0         Urban           Y      $5849.0  \n",
       "1             1.0         Rural           N      $6091.0  \n",
       "2             1.0         Urban           Y      $3000.0  \n",
       "3             1.0         Urban           Y      $4941.0  \n",
       "4             1.0         Urban           Y      $6000.0  "
      ]
     },
     "execution_count": 9,
     "metadata": {},
     "output_type": "execute_result"
    }
   ],
   "source": [
    "df.head()"
   ]
  },
  {
   "cell_type": "code",
   "execution_count": 10,
   "metadata": {},
   "outputs": [
    {
     "data": {
      "text/plain": [
       "dtype('O')"
      ]
     },
     "execution_count": 10,
     "metadata": {},
     "output_type": "execute_result"
    }
   ],
   "source": [
    "df.total_income.dtype"
   ]
  },
  {
   "cell_type": "code",
   "execution_count": 11,
   "metadata": {},
   "outputs": [],
   "source": [
    "# change type of total_income\n",
    "#we need to remove $\n",
    "df['total_income']= df.total_income.replace({'\\$':''}, regex = True).astype('float')"
   ]
  },
  {
   "cell_type": "code",
   "execution_count": 12,
   "metadata": {
    "scrolled": false
   },
   "outputs": [
    {
     "data": {
      "text/plain": [
       "0    5849.0\n",
       "1    6091.0\n",
       "Name: total_income, dtype: float64"
      ]
     },
     "execution_count": 12,
     "metadata": {},
     "output_type": "execute_result"
    }
   ],
   "source": [
    "df['total_income'].head(2)"
   ]
  },
  {
   "cell_type": "code",
   "execution_count": 13,
   "metadata": {
    "scrolled": true
   },
   "outputs": [
    {
     "data": {
      "text/plain": [
       "0     288\n",
       "1      81\n",
       "2      79\n",
       "3+     40\n",
       "Name: dependents, dtype: int64"
      ]
     },
     "execution_count": 13,
     "metadata": {},
     "output_type": "execute_result"
    }
   ],
   "source": [
    "df.dependents.value_counts()"
   ]
  },
  {
   "cell_type": "code",
   "execution_count": 14,
   "metadata": {},
   "outputs": [],
   "source": [
    "#change type in dependents\n",
    "df['dependents']= df.dependents.replace({'\\+':''}, regex = True).astype('float')"
   ]
  },
  {
   "cell_type": "code",
   "execution_count": 15,
   "metadata": {},
   "outputs": [
    {
     "name": "stdout",
     "output_type": "stream",
     "text": [
      "<class 'pandas.core.frame.DataFrame'>\n",
      "RangeIndex: 500 entries, 0 to 499\n",
      "Data columns (total 14 columns):\n",
      " #   Column             Non-Null Count  Dtype  \n",
      "---  ------             --------------  -----  \n",
      " 0   loan_id            500 non-null    object \n",
      " 1   gender             491 non-null    object \n",
      " 2   married            497 non-null    object \n",
      " 3   dependents         488 non-null    float64\n",
      " 4   education          500 non-null    object \n",
      " 5   self_employed      473 non-null    object \n",
      " 6   applicantincome    500 non-null    int64  \n",
      " 7   coapplicantincome  500 non-null    float64\n",
      " 8   loanamount         482 non-null    float64\n",
      " 9   loan_amount_term   486 non-null    float64\n",
      " 10  credit_history     459 non-null    float64\n",
      " 11  property_area      500 non-null    object \n",
      " 12  loan_status        500 non-null    object \n",
      " 13  total_income       500 non-null    float64\n",
      "dtypes: float64(6), int64(1), object(7)\n",
      "memory usage: 54.8+ KB\n"
     ]
    }
   ],
   "source": [
    "df.info()\n"
   ]
  },
  {
   "cell_type": "code",
   "execution_count": 16,
   "metadata": {},
   "outputs": [
    {
     "name": "stdout",
     "output_type": "stream",
     "text": [
      "Your selected dataframe has 14 columns.\n",
      "There are 7 columns that have missing values.\n",
      "  \n",
      "** There are 0 duplicate rows that represents 0.0% of total Values**\n"
     ]
    },
    {
     "data": {
      "text/html": [
       "<div>\n",
       "<style scoped>\n",
       "    .dataframe tbody tr th:only-of-type {\n",
       "        vertical-align: middle;\n",
       "    }\n",
       "\n",
       "    .dataframe tbody tr th {\n",
       "        vertical-align: top;\n",
       "    }\n",
       "\n",
       "    .dataframe thead th {\n",
       "        text-align: right;\n",
       "    }\n",
       "</style>\n",
       "<table border=\"1\" class=\"dataframe\">\n",
       "  <thead>\n",
       "    <tr style=\"text-align: right;\">\n",
       "      <th></th>\n",
       "      <th>Missing Values</th>\n",
       "      <th>% of Total Values</th>\n",
       "    </tr>\n",
       "  </thead>\n",
       "  <tbody>\n",
       "    <tr>\n",
       "      <th>credit_history</th>\n",
       "      <td>41</td>\n",
       "      <td>8.2</td>\n",
       "    </tr>\n",
       "    <tr>\n",
       "      <th>self_employed</th>\n",
       "      <td>27</td>\n",
       "      <td>5.4</td>\n",
       "    </tr>\n",
       "    <tr>\n",
       "      <th>loanamount</th>\n",
       "      <td>18</td>\n",
       "      <td>3.6</td>\n",
       "    </tr>\n",
       "    <tr>\n",
       "      <th>loan_amount_term</th>\n",
       "      <td>14</td>\n",
       "      <td>2.8</td>\n",
       "    </tr>\n",
       "    <tr>\n",
       "      <th>dependents</th>\n",
       "      <td>12</td>\n",
       "      <td>2.4</td>\n",
       "    </tr>\n",
       "    <tr>\n",
       "      <th>gender</th>\n",
       "      <td>9</td>\n",
       "      <td>1.8</td>\n",
       "    </tr>\n",
       "    <tr>\n",
       "      <th>married</th>\n",
       "      <td>3</td>\n",
       "      <td>0.6</td>\n",
       "    </tr>\n",
       "  </tbody>\n",
       "</table>\n",
       "</div>"
      ],
      "text/plain": [
       "                  Missing Values  % of Total Values\n",
       "credit_history                41                8.2\n",
       "self_employed                 27                5.4\n",
       "loanamount                    18                3.6\n",
       "loan_amount_term              14                2.8\n",
       "dependents                    12                2.4\n",
       "gender                         9                1.8\n",
       "married                        3                0.6"
      ]
     },
     "execution_count": 16,
     "metadata": {},
     "output_type": "execute_result"
    }
   ],
   "source": [
    "#checking missing values\n",
    "table = p.miss_dup_values(df)\n",
    "table"
   ]
  },
  {
   "cell_type": "code",
   "execution_count": 17,
   "metadata": {},
   "outputs": [
    {
     "name": "stdout",
     "output_type": "stream",
     "text": [
      "credit_history\n",
      "1.0    387\n",
      "0.0     72\n",
      "Name: credit_history, dtype: int64\n",
      "----------------\n",
      "self_employed\n",
      "No     407\n",
      "Yes     66\n",
      "Name: self_employed, dtype: int64\n",
      "----------------\n",
      "loanamount\n",
      "120.0    19\n",
      "160.0    12\n",
      "110.0    12\n",
      "100.0    11\n",
      "128.0     9\n",
      "         ..\n",
      "330.0     1\n",
      "304.0     1\n",
      "192.0     1\n",
      "280.0     1\n",
      "700.0     1\n",
      "Name: loanamount, Length: 179, dtype: int64\n",
      "----------------\n",
      "loan_amount_term\n",
      "360.0    415\n",
      "180.0     35\n",
      "480.0     12\n",
      "300.0     12\n",
      "240.0      3\n",
      "120.0      3\n",
      "84.0       2\n",
      "60.0       2\n",
      "12.0       1\n",
      "36.0       1\n",
      "Name: loan_amount_term, dtype: int64\n",
      "----------------\n",
      "dependents\n",
      "0.0    288\n",
      "1.0     81\n",
      "2.0     79\n",
      "3.0     40\n",
      "Name: dependents, dtype: int64\n",
      "----------------\n",
      "gender\n",
      "Male      400\n",
      "Female     91\n",
      "Name: gender, dtype: int64\n",
      "----------------\n",
      "married\n",
      "Yes    322\n",
      "No     175\n",
      "Name: married, dtype: int64\n",
      "----------------\n"
     ]
    }
   ],
   "source": [
    "for i in table.index:\n",
    "    print(i)\n",
    "    print(df[i].value_counts())\n",
    "    print('----------------')"
   ]
  },
  {
   "cell_type": "markdown",
   "metadata": {},
   "source": [
    "I will fill nulls values\n",
    "- credit_history : 0\n",
    "- self_employed :0\n",
    "- dependents : 0\n",
    "- gender : most common Male\n",
    "- married :0\n",
    "- loan_term : most common 360"
   ]
  },
  {
   "cell_type": "code",
   "execution_count": 18,
   "metadata": {},
   "outputs": [],
   "source": [
    "#fill the columns with 0\n",
    "df[['credit_history','self_employed','dependents', 'married']] =df[['credit_history','self_employed','dependents', 'married']].fillna(0)"
   ]
  },
  {
   "cell_type": "code",
   "execution_count": 19,
   "metadata": {},
   "outputs": [],
   "source": [
    "#fill gender\n",
    "df.gender.fillna('Male', inplace = True)"
   ]
  },
  {
   "cell_type": "code",
   "execution_count": 20,
   "metadata": {},
   "outputs": [],
   "source": [
    "#fill loan_amount_term\n",
    "df.loan_amount_term.fillna(360, inplace = True)"
   ]
  },
  {
   "cell_type": "code",
   "execution_count": 21,
   "metadata": {},
   "outputs": [
    {
     "data": {
      "text/plain": [
       "count    482.000000\n",
       "mean     144.020747\n",
       "std       82.344919\n",
       "min       17.000000\n",
       "25%      100.000000\n",
       "50%      126.500000\n",
       "75%      161.500000\n",
       "max      700.000000\n",
       "Name: loanamount, dtype: float64"
      ]
     },
     "execution_count": 21,
     "metadata": {},
     "output_type": "execute_result"
    }
   ],
   "source": [
    "#fill loanamount\n",
    "df.loanamount.describe()"
   ]
  },
  {
   "cell_type": "code",
   "execution_count": 22,
   "metadata": {},
   "outputs": [
    {
     "name": "stdout",
     "output_type": "stream",
     "text": [
      "Your selected dataframe has 14 columns.\n",
      "There are 1 columns that have missing values.\n",
      "  \n",
      "** There are 0 duplicate rows that represents 0.0% of total Values**\n"
     ]
    },
    {
     "data": {
      "text/html": [
       "<div>\n",
       "<style scoped>\n",
       "    .dataframe tbody tr th:only-of-type {\n",
       "        vertical-align: middle;\n",
       "    }\n",
       "\n",
       "    .dataframe tbody tr th {\n",
       "        vertical-align: top;\n",
       "    }\n",
       "\n",
       "    .dataframe thead th {\n",
       "        text-align: right;\n",
       "    }\n",
       "</style>\n",
       "<table border=\"1\" class=\"dataframe\">\n",
       "  <thead>\n",
       "    <tr style=\"text-align: right;\">\n",
       "      <th></th>\n",
       "      <th>Missing Values</th>\n",
       "      <th>% of Total Values</th>\n",
       "    </tr>\n",
       "  </thead>\n",
       "  <tbody>\n",
       "    <tr>\n",
       "      <th>loanamount</th>\n",
       "      <td>18</td>\n",
       "      <td>3.6</td>\n",
       "    </tr>\n",
       "  </tbody>\n",
       "</table>\n",
       "</div>"
      ],
      "text/plain": [
       "            Missing Values  % of Total Values\n",
       "loanamount              18                3.6"
      ]
     },
     "execution_count": 22,
     "metadata": {},
     "output_type": "execute_result"
    }
   ],
   "source": [
    "p.miss_dup_values(df)"
   ]
  },
  {
   "cell_type": "markdown",
   "metadata": {},
   "source": [
    "for this I'm going to use simple imputer after the split ( I will use mean)"
   ]
  },
  {
   "cell_type": "code",
   "execution_count": 23,
   "metadata": {},
   "outputs": [],
   "source": [
    "## change the type od the columns"
   ]
  },
  {
   "cell_type": "code",
   "execution_count": 24,
   "metadata": {
    "scrolled": false
   },
   "outputs": [
    {
     "name": "stdout",
     "output_type": "stream",
     "text": [
      "loan_id\n",
      "LP001653    1\n",
      "LP002500    1\n",
      "LP001711    1\n",
      "LP001647    1\n",
      "LP001560    1\n",
      "           ..\n",
      "LP001702    1\n",
      "LP002422    1\n",
      "LP002524    1\n",
      "LP001443    1\n",
      "LP002116    1\n",
      "Name: loan_id, Length: 500, dtype: int64\n",
      "----------------\n",
      "gender\n",
      "Male      409\n",
      "Female     91\n",
      "Name: gender, dtype: int64\n",
      "----------------\n",
      "married\n",
      "Yes    322\n",
      "No     175\n",
      "0        3\n",
      "Name: married, dtype: int64\n",
      "----------------\n",
      "dependents\n",
      "0.0    300\n",
      "1.0     81\n",
      "2.0     79\n",
      "3.0     40\n",
      "Name: dependents, dtype: int64\n",
      "----------------\n",
      "education\n",
      "Graduate        393\n",
      "Not Graduate    107\n",
      "Name: education, dtype: int64\n",
      "----------------\n",
      "self_employed\n",
      "No     407\n",
      "Yes     66\n",
      "0       27\n",
      "Name: self_employed, dtype: int64\n",
      "----------------\n",
      "applicantincome\n",
      "2500    8\n",
      "2600    6\n",
      "4166    5\n",
      "4583    5\n",
      "3750    5\n",
      "       ..\n",
      "5821    1\n",
      "2750    1\n",
      "2755    1\n",
      "5829    1\n",
      "3691    1\n",
      "Name: applicantincome, Length: 415, dtype: int64\n",
      "----------------\n",
      "coapplicantincome\n",
      "0.0       226\n",
      "1666.0      5\n",
      "2083.0      5\n",
      "5625.0      3\n",
      "1459.0      3\n",
      "         ... \n",
      "1964.0      1\n",
      "983.0       1\n",
      "830.0       1\n",
      "1447.0      1\n",
      "7250.0      1\n",
      "Name: coapplicantincome, Length: 235, dtype: int64\n",
      "----------------\n",
      "loanamount\n",
      "120.0    19\n",
      "160.0    12\n",
      "110.0    12\n",
      "100.0    11\n",
      "128.0     9\n",
      "         ..\n",
      "330.0     1\n",
      "304.0     1\n",
      "192.0     1\n",
      "280.0     1\n",
      "700.0     1\n",
      "Name: loanamount, Length: 179, dtype: int64\n",
      "----------------\n",
      "loan_amount_term\n",
      "360.0    429\n",
      "180.0     35\n",
      "480.0     12\n",
      "300.0     12\n",
      "240.0      3\n",
      "120.0      3\n",
      "84.0       2\n",
      "60.0       2\n",
      "12.0       1\n",
      "36.0       1\n",
      "Name: loan_amount_term, dtype: int64\n",
      "----------------\n",
      "credit_history\n",
      "1.0    387\n",
      "0.0    113\n",
      "Name: credit_history, dtype: int64\n",
      "----------------\n",
      "property_area\n",
      "Semiurban    188\n",
      "Urban        171\n",
      "Rural        141\n",
      "Name: property_area, dtype: int64\n",
      "----------------\n",
      "loan_status\n",
      "Y    345\n",
      "N    155\n",
      "Name: loan_status, dtype: int64\n",
      "----------------\n",
      "total_income\n",
      "3750.0    4\n",
      "6000.0    4\n",
      "6277.0    3\n",
      "4583.0    3\n",
      "4166.0    3\n",
      "         ..\n",
      "2889.0    1\n",
      "5251.0    1\n",
      "7542.0    1\n",
      "5386.0    1\n",
      "3000.0    1\n",
      "Name: total_income, Length: 457, dtype: int64\n",
      "----------------\n"
     ]
    }
   ],
   "source": [
    "for i in df.columns:\n",
    "    print(i)\n",
    "    print(df[i].value_counts())\n",
    "    print('----------------')"
   ]
  },
  {
   "cell_type": "code",
   "execution_count": 25,
   "metadata": {},
   "outputs": [],
   "source": [
    "# encode yes/no columns : loan_status, self_employed, married\n",
    "df[['loan_status', 'self_employed', 'married']] = df[['loan_status', 'self_employed', 'married']].replace({'Yes': 1, 'No': 0, 'Y': 1, 'N': 0})"
   ]
  },
  {
   "cell_type": "code",
   "execution_count": 26,
   "metadata": {},
   "outputs": [],
   "source": [
    "#encode gender female = 0 , male = 1\n",
    "df.gender.replace({'Male': 1, 'Female': 0}, inplace = True)"
   ]
  },
  {
   "cell_type": "code",
   "execution_count": 27,
   "metadata": {},
   "outputs": [
    {
     "name": "stdout",
     "output_type": "stream",
     "text": [
      "gender\n",
      "1    409\n",
      "0     91\n",
      "Name: gender, dtype: int64\n",
      "----------------\n",
      "married\n",
      "1    322\n",
      "0    178\n",
      "Name: married, dtype: int64\n",
      "----------------\n",
      "dependents\n",
      "0.0    300\n",
      "1.0     81\n",
      "2.0     79\n",
      "3.0     40\n",
      "Name: dependents, dtype: int64\n",
      "----------------\n",
      "education\n",
      "Graduate        393\n",
      "Not Graduate    107\n",
      "Name: education, dtype: int64\n",
      "----------------\n",
      "self_employed\n",
      "0    434\n",
      "1     66\n",
      "Name: self_employed, dtype: int64\n",
      "----------------\n",
      "applicantincome\n",
      "2500    8\n",
      "2600    6\n",
      "4166    5\n",
      "4583    5\n",
      "3750    5\n",
      "       ..\n",
      "5821    1\n",
      "2750    1\n",
      "2755    1\n",
      "5829    1\n",
      "3691    1\n",
      "Name: applicantincome, Length: 415, dtype: int64\n",
      "----------------\n",
      "coapplicantincome\n",
      "0.0       226\n",
      "1666.0      5\n",
      "2083.0      5\n",
      "5625.0      3\n",
      "1459.0      3\n",
      "         ... \n",
      "1964.0      1\n",
      "983.0       1\n",
      "830.0       1\n",
      "1447.0      1\n",
      "7250.0      1\n",
      "Name: coapplicantincome, Length: 235, dtype: int64\n",
      "----------------\n",
      "loanamount\n",
      "120.0    19\n",
      "160.0    12\n",
      "110.0    12\n",
      "100.0    11\n",
      "128.0     9\n",
      "         ..\n",
      "330.0     1\n",
      "304.0     1\n",
      "192.0     1\n",
      "280.0     1\n",
      "700.0     1\n",
      "Name: loanamount, Length: 179, dtype: int64\n",
      "----------------\n",
      "loan_amount_term\n",
      "360.0    429\n",
      "180.0     35\n",
      "480.0     12\n",
      "300.0     12\n",
      "240.0      3\n",
      "120.0      3\n",
      "84.0       2\n",
      "60.0       2\n",
      "12.0       1\n",
      "36.0       1\n",
      "Name: loan_amount_term, dtype: int64\n",
      "----------------\n",
      "credit_history\n",
      "1.0    387\n",
      "0.0    113\n",
      "Name: credit_history, dtype: int64\n",
      "----------------\n",
      "property_area\n",
      "Semiurban    188\n",
      "Urban        171\n",
      "Rural        141\n",
      "Name: property_area, dtype: int64\n",
      "----------------\n",
      "loan_status\n",
      "1    345\n",
      "0    155\n",
      "Name: loan_status, dtype: int64\n",
      "----------------\n",
      "total_income\n",
      "3750.0    4\n",
      "6000.0    4\n",
      "6277.0    3\n",
      "4583.0    3\n",
      "4166.0    3\n",
      "         ..\n",
      "2889.0    1\n",
      "5251.0    1\n",
      "7542.0    1\n",
      "5386.0    1\n",
      "3000.0    1\n",
      "Name: total_income, Length: 457, dtype: int64\n",
      "----------------\n"
     ]
    }
   ],
   "source": [
    "for i in df.drop(columns = 'loan_id') .columns:\n",
    "    print(i)\n",
    "    print(df[i].value_counts())\n",
    "    print('----------------')"
   ]
  },
  {
   "cell_type": "code",
   "execution_count": 28,
   "metadata": {},
   "outputs": [
    {
     "name": "stdout",
     "output_type": "stream",
     "text": [
      "<class 'pandas.core.frame.DataFrame'>\n",
      "RangeIndex: 500 entries, 0 to 499\n",
      "Data columns (total 14 columns):\n",
      " #   Column             Non-Null Count  Dtype  \n",
      "---  ------             --------------  -----  \n",
      " 0   loan_id            500 non-null    object \n",
      " 1   gender             500 non-null    int64  \n",
      " 2   married            500 non-null    int64  \n",
      " 3   dependents         500 non-null    float64\n",
      " 4   education          500 non-null    object \n",
      " 5   self_employed      500 non-null    int64  \n",
      " 6   applicantincome    500 non-null    int64  \n",
      " 7   coapplicantincome  500 non-null    float64\n",
      " 8   loanamount         482 non-null    float64\n",
      " 9   loan_amount_term   500 non-null    float64\n",
      " 10  credit_history     500 non-null    float64\n",
      " 11  property_area      500 non-null    object \n",
      " 12  loan_status        500 non-null    int64  \n",
      " 13  total_income       500 non-null    float64\n",
      "dtypes: float64(6), int64(5), object(3)\n",
      "memory usage: 54.8+ KB\n"
     ]
    }
   ],
   "source": [
    "df.info()"
   ]
  },
  {
   "cell_type": "code",
   "execution_count": 29,
   "metadata": {},
   "outputs": [],
   "source": [
    "#create dummies"
   ]
  },
  {
   "cell_type": "code",
   "execution_count": 30,
   "metadata": {},
   "outputs": [],
   "source": [
    "dummy_df = pd.get_dummies(df[['education','property_area']])"
   ]
  },
  {
   "cell_type": "code",
   "execution_count": 31,
   "metadata": {
    "scrolled": true
   },
   "outputs": [
    {
     "data": {
      "text/html": [
       "<div>\n",
       "<style scoped>\n",
       "    .dataframe tbody tr th:only-of-type {\n",
       "        vertical-align: middle;\n",
       "    }\n",
       "\n",
       "    .dataframe tbody tr th {\n",
       "        vertical-align: top;\n",
       "    }\n",
       "\n",
       "    .dataframe thead th {\n",
       "        text-align: right;\n",
       "    }\n",
       "</style>\n",
       "<table border=\"1\" class=\"dataframe\">\n",
       "  <thead>\n",
       "    <tr style=\"text-align: right;\">\n",
       "      <th></th>\n",
       "      <th>education_Graduate</th>\n",
       "      <th>education_Not Graduate</th>\n",
       "      <th>property_area_Rural</th>\n",
       "      <th>property_area_Semiurban</th>\n",
       "      <th>property_area_Urban</th>\n",
       "    </tr>\n",
       "  </thead>\n",
       "  <tbody>\n",
       "    <tr>\n",
       "      <th>0</th>\n",
       "      <td>1</td>\n",
       "      <td>0</td>\n",
       "      <td>0</td>\n",
       "      <td>0</td>\n",
       "      <td>1</td>\n",
       "    </tr>\n",
       "    <tr>\n",
       "      <th>1</th>\n",
       "      <td>1</td>\n",
       "      <td>0</td>\n",
       "      <td>1</td>\n",
       "      <td>0</td>\n",
       "      <td>0</td>\n",
       "    </tr>\n",
       "    <tr>\n",
       "      <th>2</th>\n",
       "      <td>1</td>\n",
       "      <td>0</td>\n",
       "      <td>0</td>\n",
       "      <td>0</td>\n",
       "      <td>1</td>\n",
       "    </tr>\n",
       "    <tr>\n",
       "      <th>3</th>\n",
       "      <td>0</td>\n",
       "      <td>1</td>\n",
       "      <td>0</td>\n",
       "      <td>0</td>\n",
       "      <td>1</td>\n",
       "    </tr>\n",
       "    <tr>\n",
       "      <th>4</th>\n",
       "      <td>1</td>\n",
       "      <td>0</td>\n",
       "      <td>0</td>\n",
       "      <td>0</td>\n",
       "      <td>1</td>\n",
       "    </tr>\n",
       "  </tbody>\n",
       "</table>\n",
       "</div>"
      ],
      "text/plain": [
       "   education_Graduate  education_Not Graduate  property_area_Rural  \\\n",
       "0                   1                       0                    0   \n",
       "1                   1                       0                    1   \n",
       "2                   1                       0                    0   \n",
       "3                   0                       1                    0   \n",
       "4                   1                       0                    0   \n",
       "\n",
       "   property_area_Semiurban  property_area_Urban  \n",
       "0                        0                    1  \n",
       "1                        0                    0  \n",
       "2                        0                    1  \n",
       "3                        0                    1  \n",
       "4                        0                    1  "
      ]
     },
     "execution_count": 31,
     "metadata": {},
     "output_type": "execute_result"
    }
   ],
   "source": [
    "dummy_df.head()"
   ]
  },
  {
   "cell_type": "code",
   "execution_count": 32,
   "metadata": {},
   "outputs": [],
   "source": [
    "#lowercase the columns\n",
    "dummy_df.columns = map(str.lower, dummy_df.columns)"
   ]
  },
  {
   "cell_type": "code",
   "execution_count": 33,
   "metadata": {},
   "outputs": [],
   "source": [
    "#concat 2dfs\n",
    "df = pd.concat([df, dummy_df], axis=1).drop(columns = ['education', 'property_area','education_not graduate'])"
   ]
  },
  {
   "cell_type": "code",
   "execution_count": 34,
   "metadata": {},
   "outputs": [
    {
     "data": {
      "text/plain": [
       "Index(['loan_id', 'gender', 'married', 'dependents', 'self_employed',\n",
       "       'applicantincome', 'coapplicantincome', 'loanamount',\n",
       "       'loan_amount_term', 'credit_history', 'loan_status', 'total_income',\n",
       "       'education_graduate', 'property_area_rural', 'property_area_semiurban',\n",
       "       'property_area_urban'],\n",
       "      dtype='object')"
      ]
     },
     "execution_count": 34,
     "metadata": {},
     "output_type": "execute_result"
    }
   ],
   "source": [
    "df.columns"
   ]
  },
  {
   "cell_type": "code",
   "execution_count": 35,
   "metadata": {
    "scrolled": false
   },
   "outputs": [
    {
     "data": {
      "text/html": [
       "<div>\n",
       "<style scoped>\n",
       "    .dataframe tbody tr th:only-of-type {\n",
       "        vertical-align: middle;\n",
       "    }\n",
       "\n",
       "    .dataframe tbody tr th {\n",
       "        vertical-align: top;\n",
       "    }\n",
       "\n",
       "    .dataframe thead th {\n",
       "        text-align: right;\n",
       "    }\n",
       "</style>\n",
       "<table border=\"1\" class=\"dataframe\">\n",
       "  <thead>\n",
       "    <tr style=\"text-align: right;\">\n",
       "      <th></th>\n",
       "      <th>loan_id</th>\n",
       "      <th>gender</th>\n",
       "      <th>married</th>\n",
       "      <th>dependents</th>\n",
       "      <th>self_employed</th>\n",
       "      <th>applicantincome</th>\n",
       "      <th>coapplicantincome</th>\n",
       "      <th>loanamount</th>\n",
       "      <th>loan_amount_term</th>\n",
       "      <th>credit_history</th>\n",
       "      <th>loan_status</th>\n",
       "      <th>total_income</th>\n",
       "      <th>education_graduate</th>\n",
       "      <th>property_area_rural</th>\n",
       "      <th>property_area_semiurban</th>\n",
       "      <th>property_area_urban</th>\n",
       "    </tr>\n",
       "  </thead>\n",
       "  <tbody>\n",
       "    <tr>\n",
       "      <th>0</th>\n",
       "      <td>LP001002</td>\n",
       "      <td>1</td>\n",
       "      <td>0</td>\n",
       "      <td>0.0</td>\n",
       "      <td>0</td>\n",
       "      <td>5849</td>\n",
       "      <td>0.0</td>\n",
       "      <td>NaN</td>\n",
       "      <td>360.0</td>\n",
       "      <td>1.0</td>\n",
       "      <td>1</td>\n",
       "      <td>5849.0</td>\n",
       "      <td>1</td>\n",
       "      <td>0</td>\n",
       "      <td>0</td>\n",
       "      <td>1</td>\n",
       "    </tr>\n",
       "    <tr>\n",
       "      <th>1</th>\n",
       "      <td>LP001003</td>\n",
       "      <td>1</td>\n",
       "      <td>1</td>\n",
       "      <td>1.0</td>\n",
       "      <td>0</td>\n",
       "      <td>4583</td>\n",
       "      <td>1508.0</td>\n",
       "      <td>128.0</td>\n",
       "      <td>360.0</td>\n",
       "      <td>1.0</td>\n",
       "      <td>0</td>\n",
       "      <td>6091.0</td>\n",
       "      <td>1</td>\n",
       "      <td>1</td>\n",
       "      <td>0</td>\n",
       "      <td>0</td>\n",
       "    </tr>\n",
       "    <tr>\n",
       "      <th>2</th>\n",
       "      <td>LP001005</td>\n",
       "      <td>1</td>\n",
       "      <td>1</td>\n",
       "      <td>0.0</td>\n",
       "      <td>1</td>\n",
       "      <td>3000</td>\n",
       "      <td>0.0</td>\n",
       "      <td>66.0</td>\n",
       "      <td>360.0</td>\n",
       "      <td>1.0</td>\n",
       "      <td>1</td>\n",
       "      <td>3000.0</td>\n",
       "      <td>1</td>\n",
       "      <td>0</td>\n",
       "      <td>0</td>\n",
       "      <td>1</td>\n",
       "    </tr>\n",
       "    <tr>\n",
       "      <th>3</th>\n",
       "      <td>LP001006</td>\n",
       "      <td>1</td>\n",
       "      <td>1</td>\n",
       "      <td>0.0</td>\n",
       "      <td>0</td>\n",
       "      <td>2583</td>\n",
       "      <td>2358.0</td>\n",
       "      <td>120.0</td>\n",
       "      <td>360.0</td>\n",
       "      <td>1.0</td>\n",
       "      <td>1</td>\n",
       "      <td>4941.0</td>\n",
       "      <td>0</td>\n",
       "      <td>0</td>\n",
       "      <td>0</td>\n",
       "      <td>1</td>\n",
       "    </tr>\n",
       "    <tr>\n",
       "      <th>4</th>\n",
       "      <td>LP001008</td>\n",
       "      <td>1</td>\n",
       "      <td>0</td>\n",
       "      <td>0.0</td>\n",
       "      <td>0</td>\n",
       "      <td>6000</td>\n",
       "      <td>0.0</td>\n",
       "      <td>141.0</td>\n",
       "      <td>360.0</td>\n",
       "      <td>1.0</td>\n",
       "      <td>1</td>\n",
       "      <td>6000.0</td>\n",
       "      <td>1</td>\n",
       "      <td>0</td>\n",
       "      <td>0</td>\n",
       "      <td>1</td>\n",
       "    </tr>\n",
       "  </tbody>\n",
       "</table>\n",
       "</div>"
      ],
      "text/plain": [
       "    loan_id  gender  married  dependents  self_employed  applicantincome  \\\n",
       "0  LP001002       1        0         0.0              0             5849   \n",
       "1  LP001003       1        1         1.0              0             4583   \n",
       "2  LP001005       1        1         0.0              1             3000   \n",
       "3  LP001006       1        1         0.0              0             2583   \n",
       "4  LP001008       1        0         0.0              0             6000   \n",
       "\n",
       "   coapplicantincome  loanamount  loan_amount_term  credit_history  \\\n",
       "0                0.0         NaN             360.0             1.0   \n",
       "1             1508.0       128.0             360.0             1.0   \n",
       "2                0.0        66.0             360.0             1.0   \n",
       "3             2358.0       120.0             360.0             1.0   \n",
       "4                0.0       141.0             360.0             1.0   \n",
       "\n",
       "   loan_status  total_income  education_graduate  property_area_rural  \\\n",
       "0            1        5849.0                   1                    0   \n",
       "1            0        6091.0                   1                    1   \n",
       "2            1        3000.0                   1                    0   \n",
       "3            1        4941.0                   0                    0   \n",
       "4            1        6000.0                   1                    0   \n",
       "\n",
       "   property_area_semiurban  property_area_urban  \n",
       "0                        0                    1  \n",
       "1                        0                    0  \n",
       "2                        0                    1  \n",
       "3                        0                    1  \n",
       "4                        0                    1  "
      ]
     },
     "execution_count": 35,
     "metadata": {},
     "output_type": "execute_result"
    }
   ],
   "source": [
    "df.head()"
   ]
  },
  {
   "cell_type": "code",
   "execution_count": 36,
   "metadata": {},
   "outputs": [],
   "source": [
    "#split"
   ]
  },
  {
   "cell_type": "code",
   "execution_count": 37,
   "metadata": {
    "scrolled": false
   },
   "outputs": [
    {
     "name": "stdout",
     "output_type": "stream",
     "text": [
      "complete df -> (500, 16)\n",
      "train -> (280, 16)\n",
      "validate -> (120, 16)\n",
      "test -> (100, 16)\n"
     ]
    }
   ],
   "source": [
    "train, validate, test = p.split_data(df, 'loan_status')"
   ]
  },
  {
   "cell_type": "code",
   "execution_count": 38,
   "metadata": {},
   "outputs": [
    {
     "name": "stdout",
     "output_type": "stream",
     "text": [
      "Your selected dataframe has 16 columns.\n",
      "There are 1 columns that have missing values.\n",
      "  \n",
      "** There are 0 duplicate rows that represents 0.0% of total Values**\n"
     ]
    },
    {
     "data": {
      "text/html": [
       "<div>\n",
       "<style scoped>\n",
       "    .dataframe tbody tr th:only-of-type {\n",
       "        vertical-align: middle;\n",
       "    }\n",
       "\n",
       "    .dataframe tbody tr th {\n",
       "        vertical-align: top;\n",
       "    }\n",
       "\n",
       "    .dataframe thead th {\n",
       "        text-align: right;\n",
       "    }\n",
       "</style>\n",
       "<table border=\"1\" class=\"dataframe\">\n",
       "  <thead>\n",
       "    <tr style=\"text-align: right;\">\n",
       "      <th></th>\n",
       "      <th>Missing Values</th>\n",
       "      <th>% of Total Values</th>\n",
       "    </tr>\n",
       "  </thead>\n",
       "  <tbody>\n",
       "    <tr>\n",
       "      <th>loanamount</th>\n",
       "      <td>9</td>\n",
       "      <td>3.2</td>\n",
       "    </tr>\n",
       "  </tbody>\n",
       "</table>\n",
       "</div>"
      ],
      "text/plain": [
       "            Missing Values  % of Total Values\n",
       "loanamount               9                3.2"
      ]
     },
     "execution_count": 38,
     "metadata": {},
     "output_type": "execute_result"
    }
   ],
   "source": [
    "#checking missing values\n",
    "p.miss_dup_values(train)"
   ]
  },
  {
   "cell_type": "code",
   "execution_count": 39,
   "metadata": {},
   "outputs": [],
   "source": [
    "#using a function to impute the mean\n",
    "train, validate, test = p.impute_mode(train, validate, test)"
   ]
  },
  {
   "cell_type": "code",
   "execution_count": 40,
   "metadata": {
    "scrolled": false
   },
   "outputs": [
    {
     "name": "stdout",
     "output_type": "stream",
     "text": [
      "Your selected dataframe has 16 columns.\n",
      "There are 0 columns that have missing values.\n",
      "  \n",
      "** There are 0 duplicate rows that represents 0.0% of total Values**\n"
     ]
    },
    {
     "data": {
      "text/html": [
       "<div>\n",
       "<style scoped>\n",
       "    .dataframe tbody tr th:only-of-type {\n",
       "        vertical-align: middle;\n",
       "    }\n",
       "\n",
       "    .dataframe tbody tr th {\n",
       "        vertical-align: top;\n",
       "    }\n",
       "\n",
       "    .dataframe thead th {\n",
       "        text-align: right;\n",
       "    }\n",
       "</style>\n",
       "<table border=\"1\" class=\"dataframe\">\n",
       "  <thead>\n",
       "    <tr style=\"text-align: right;\">\n",
       "      <th></th>\n",
       "      <th>Missing Values</th>\n",
       "      <th>% of Total Values</th>\n",
       "    </tr>\n",
       "  </thead>\n",
       "  <tbody>\n",
       "  </tbody>\n",
       "</table>\n",
       "</div>"
      ],
      "text/plain": [
       "Empty DataFrame\n",
       "Columns: [Missing Values, % of Total Values]\n",
       "Index: []"
      ]
     },
     "execution_count": 40,
     "metadata": {},
     "output_type": "execute_result"
    }
   ],
   "source": [
    "p.miss_dup_values(train)"
   ]
  },
  {
   "cell_type": "markdown",
   "metadata": {},
   "source": [
    "### PLOT VARIABLE DISTRIBUTIONS"
   ]
  },
  {
   "cell_type": "code",
   "execution_count": 41,
   "metadata": {
    "scrolled": false
   },
   "outputs": [
    {
     "data": {
      "image/png": "[encoded data removed]",
      "text/plain": [
       "<Figure size 432x288 with 1 Axes>"
      ]
     },
     "metadata": {
      "needs_background": "light"
     },
     "output_type": "display_data"
    },
    {
     "data": {
      "image/png": "[encoded data removed]",
      "text/plain": [
       "<Figure size 432x288 with 1 Axes>"
      ]
     },
     "metadata": {
      "needs_background": "light"
     },
     "output_type": "display_data"
    },
    {
     "data": {
      "image/png": "[encoded data removed]",
      "text/plain": [
       "<Figure size 432x288 with 1 Axes>"
      ]
     },
     "metadata": {
      "needs_background": "light"
     },
     "output_type": "display_data"
    },
    {
     "data": {
      "image/png": "[encoded data removed]",
      "text/plain": [
       "<Figure size 432x288 with 1 Axes>"
      ]
     },
     "metadata": {
      "needs_background": "light"
     },
     "output_type": "display_data"
    },
    {
     "data": {
      "image/png": "[encoded data removed]",
      "text/plain": [
       "<Figure size 432x288 with 1 Axes>"
      ]
     },
     "metadata": {
      "needs_background": "light"
     },
     "output_type": "display_data"
    },
    {
     "data": {
      "image/png": "[encoded data removed]",
      "text/plain": [
       "<Figure size 432x288 with 1 Axes>"
      ]
     },
     "metadata": {
      "needs_background": "light"
     },
     "output_type": "display_data"
    },
    {
     "data": {
      "image/png": "[encoded data removed]",
      "text/plain": [
       "<Figure size 432x288 with 1 Axes>"
      ]
     },
     "metadata": {
      "needs_background": "light"
     },
     "output_type": "display_data"
    },
    {
     "data": {
      "image/png": "[encoded data removed]",
      "text/plain": [
       "<Figure size 432x288 with 1 Axes>"
      ]
     },
     "metadata": {
      "needs_background": "light"
     },
     "output_type": "display_data"
    },
    {
     "data": {
      "image/png": "[encoded data removed]",
      "text/plain": [
       "<Figure size 432x288 with 1 Axes>"
      ]
     },
     "metadata": {
      "needs_background": "light"
     },
     "output_type": "display_data"
    },
    {
     "data": {
      "image/png": "[encoded data removed]",
      "text/plain": [
       "<Figure size 432x288 with 1 Axes>"
      ]
     },
     "metadata": {
      "needs_background": "light"
     },
     "output_type": "display_data"
    },
    {
     "data": {
      "image/png": "[encoded data removed]",
      "text/plain": [
       "<Figure size 432x288 with 1 Axes>"
      ]
     },
     "metadata": {
      "needs_background": "light"
     },
     "output_type": "display_data"
    },
    {
     "data": {
      "image/png": "[encoded data removed]",
      "text/plain": [
       "<Figure size 432x288 with 1 Axes>"
      ]
     },
     "metadata": {
      "needs_background": "light"
     },
     "output_type": "display_data"
    },
    {
     "data": {
      "image/png": "[encoded data removed]",
      "text/plain": [
       "<Figure size 432x288 with 1 Axes>"
      ]
     },
     "metadata": {
      "needs_background": "light"
     },
     "output_type": "display_data"
    },
    {
     "data": {
      "image/png": "[encoded data removed]",
      "text/plain": [
       "<Figure size 432x288 with 1 Axes>"
      ]
     },
     "metadata": {
      "needs_background": "light"
     },
     "output_type": "display_data"
    },
    {
     "data": {
      "image/png": "[encoded data removed]",
      "text/plain": [
       "<Figure size 432x288 with 1 Axes>"
      ]
     },
     "metadata": {
      "needs_background": "light"
     },
     "output_type": "display_data"
    }
   ],
   "source": [
    "p.distribution(df)"
   ]
  },
  {
   "cell_type": "markdown",
   "metadata": {},
   "source": [
    "Prepare :\n",
    "- drop unnamed column\n",
    "- rename columns(lowercase)\n",
    "- remove $ and change type of total_income\n",
    "- remove + and change type for dependents\n",
    "    0 = no dependents\n",
    "    1 = 1 dependents\n",
    "    2 =  two dependents\n",
    "    3 = three or more dependets\n",
    "- fill nulls values\n",
    "\n",
    "    - credit_history : 0\n",
    "    - self_employed :0\n",
    "    - dependents : 0\n",
    "    - gender : most common Male\n",
    "    - married :0\n",
    "    - loan_term : most common 360\n",
    "- encode loan_status, self_employed, married, gender\n",
    "- create dummy  ('education', 'property_area) , drop 'education', 'property_area','education_not graduate']\n",
    "- split into train, validate and test  Test is 20\\% of the original dataset, validate is .30 \\*.80= 24\\% of the \n",
    "    original dataset, and train is .70\\*.80= 56\\% "
   ]
  },
  {
   "cell_type": "markdown",
   "metadata": {},
   "source": [
    "# Explore"
   ]
  },
  {
   "cell_type": "code",
   "execution_count": 42,
   "metadata": {},
   "outputs": [
    {
     "data": {
      "image/png": "[encoded data removed]",
      "text/plain": [
       "<Figure size 936x576 with 1 Axes>"
      ]
     },
     "metadata": {
      "needs_background": "light"
     },
     "output_type": "display_data"
    }
   ],
   "source": [
    "#  I want to start exploring  my target\n",
    "plt.figure(figsize=(13, 8))\n",
    "train['loan_status'].hist(grid=False, color = 'teal')\n",
    "plt.xlabel(\"loan_status\")\n",
    "plt.ylabel(\"Number of applications\")                               \n",
    "#plt.xlim(-2 ,3)\n",
    "plt.show()"
   ]
  },
  {
   "cell_type": "code",
   "execution_count": 43,
   "metadata": {},
   "outputs": [
    {
     "data": {
      "text/plain": [
       "0.6892857142857143"
      ]
     },
     "execution_count": 43,
     "metadata": {},
     "output_type": "execute_result"
    }
   ],
   "source": [
    "train['loan_status'].mean()"
   ]
  },
  {
   "cell_type": "code",
   "execution_count": 54,
   "metadata": {},
   "outputs": [
    {
     "data": {
      "image/png": "[encoded data removed]",
      "text/plain": [
       "<Figure size 576x720 with 1 Axes>"
      ]
     },
     "metadata": {
      "needs_background": "light"
     },
     "output_type": "display_data"
    }
   ],
   "source": [
    "plt.figure(figsize=(8, 10))\n",
    "sns.histplot(train,\n",
    "                 x=train['loan_status'],\n",
    "                 hue='loan_status',\n",
    "                 multiple='layer'\n",
    "                 )\n",
    "plt.title(\"Distribution of Loan Status\")\n",
    "plt.xlabel('loan_status')\n",
    "plt.ylabel('No. Applications')\n",
    "plt.show()"
   ]
  },
  {
   "cell_type": "code",
   "execution_count": 56,
   "metadata": {},
   "outputs": [],
   "source": [
    "def heatmap (df):\n",
    "    '''\n",
    "    Takes in a df and return a heatmap\n",
    "    '''\n",
    "    x = len(list(df.select_dtypes(exclude='O').columns))\n",
    "    df_corr= df.corr()\n",
    "    sns.heatmap(df_corr, cmap='Purples', annot=True, linewidth=0.5, mask= np.triu(df_corr))\n",
    "    plt.ylim(0, x)\n",
    "    return"
   ]
  },
  {
   "cell_type": "code",
   "execution_count": 59,
   "metadata": {},
   "outputs": [
    {
     "data": {
      "image/png": "[encoded data removed]",
      "text/plain": [
       "<Figure size 1080x1080 with 2 Axes>"
      ]
     },
     "metadata": {
      "needs_background": "light"
     },
     "output_type": "display_data"
    }
   ],
   "source": [
    "plt.figure(figsize=(15, 15))\n",
    "heatmap(train)"
   ]
  },
  {
   "cell_type": "code",
   "execution_count": null,
   "metadata": {},
   "outputs": [],
   "source": []
  }
 ],
 "metadata": {
  "kernelspec": {
   "display_name": "Python 3",
   "language": "python",
   "name": "python3"
  },
  "language_info": {
   "codemirror_mode": {
    "name": "ipython",
    "version": 3
   },
   "file_extension": ".py",
   "mimetype": "text/x-python",
   "name": "python",
   "nbconvert_exporter": "python",
   "pygments_lexer": "ipython3",
   "version": "3.8.5"
  }
 },
 "nbformat": 4,
 "nbformat_minor": 4
}
